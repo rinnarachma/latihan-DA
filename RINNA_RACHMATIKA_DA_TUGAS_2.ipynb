{
  "nbformat": 4,
  "nbformat_minor": 0,
  "metadata": {
    "colab": {
      "provenance": [],
      "toc_visible": true,
      "authorship_tag": "ABX9TyN6AejvJ6E5Es8sKJTifUOE",
      "include_colab_link": true
    },
    "kernelspec": {
      "name": "python3",
      "display_name": "Python 3"
    },
    "language_info": {
      "name": "python"
    }
  },
  "cells": [
    {
      "cell_type": "markdown",
      "metadata": {
        "id": "view-in-github",
        "colab_type": "text"
      },
      "source": [
        "<a href=\"https://colab.research.google.com/github/rinnarachma/latihan-DA/blob/main/RINNA_RACHMATIKA_DA_TUGAS_2.ipynb\" target=\"_parent\"><img src=\"https://colab.research.google.com/assets/colab-badge.svg\" alt=\"Open In Colab\"/></a>"
      ]
    },
    {
      "cell_type": "markdown",
      "source": [
        "# **MODEL SUPERVISED LEARNING - PREDIKSI CHURN PELANGGAN**"
      ],
      "metadata": {
        "id": "FuEW_woLaNei"
      }
    },
    {
      "cell_type": "code",
      "execution_count": null,
      "metadata": {
        "id": "9kdfNSrKEckf"
      },
      "outputs": [],
      "source": [
        "import pandas as pd\n",
        "from sklearn.model_selection import train_test_split\n",
        "from sklearn.ensemble import RandomForestClassifier, GradientBoostingClassifier\n",
        "from sklearn.metrics import accuracy_score, confusion_matrix, classification_report"
      ]
    },
    {
      "cell_type": "code",
      "source": [
        "# Memuat dataset\n",
        "url = \"https://drive.google.com/uc?export=download&id=1SEpVMpj5HFlqmlzqQE8Yt7Q6tzCMBiNt\"\n",
        "data = pd.read_csv(url)"
      ],
      "metadata": {
        "id": "G4eM2fLqFblM"
      },
      "execution_count": null,
      "outputs": []
    },
    {
      "cell_type": "code",
      "source": [
        "# Preprocessing data\n",
        "# Menghapus kolom yang tidak diperlukan untuk pemodelan\n",
        "data.drop(columns=['RowNumber', 'CustomerId', 'Surname'], inplace=True)"
      ],
      "metadata": {
        "id": "rbnRyYpMFnZE"
      },
      "execution_count": null,
      "outputs": []
    },
    {
      "cell_type": "code",
      "source": [
        "# Melakukan encoding pada variabel kategori\n",
        "data = pd.get_dummies(data, columns=['Geography', 'Gender'])"
      ],
      "metadata": {
        "id": "XSd0VCjOF_1k"
      },
      "execution_count": null,
      "outputs": []
    },
    {
      "cell_type": "code",
      "source": [
        "# Memisahkan fitur dan label\n",
        "X = data.drop(columns=['Exited'])\n",
        "y = data['Exited']"
      ],
      "metadata": {
        "id": "k-QSlmeyGDa8"
      },
      "execution_count": null,
      "outputs": []
    },
    {
      "cell_type": "code",
      "source": [
        "# Membagi data menjadi set pelatihan dan pengujian\n",
        "X_train, X_test, y_train, y_test = train_test_split(X, y, test_size=0.2, random_state=42)"
      ],
      "metadata": {
        "id": "HM17DxmvGG1N"
      },
      "execution_count": null,
      "outputs": []
    },
    {
      "cell_type": "code",
      "source": [
        "# Model Random Forest\n",
        "rf_model = RandomForestClassifier(n_estimators=100, random_state=42)\n",
        "rf_model.fit(X_train, y_train)\n",
        "rf_pred = rf_model.predict(X_test)\n",
        "\n",
        "# Evaluasi model Random Forest\n",
        "print(\"Random Forest Classifier:\")\n",
        "print(\"Accuracy:\", accuracy_score(y_test, rf_pred))\n",
        "print(\"Classification Report:\\n\", classification_report(y_test, rf_pred))\n",
        "print(\"Confusion Matrix:\\n\", confusion_matrix(y_test, rf_pred))"
      ],
      "metadata": {
        "colab": {
          "base_uri": "https://localhost:8080/"
        },
        "id": "vGBNYO7BGK83",
        "outputId": "f278e891-15e7-4f1f-b1d0-44301b39af92"
      },
      "execution_count": null,
      "outputs": [
        {
          "output_type": "stream",
          "name": "stdout",
          "text": [
            "Random Forest Classifier:\n",
            "Accuracy: 0.865\n",
            "Classification Report:\n",
            "               precision    recall  f1-score   support\n",
            "\n",
            "           0       0.88      0.96      0.92      1607\n",
            "           1       0.75      0.47      0.58       393\n",
            "\n",
            "    accuracy                           0.86      2000\n",
            "   macro avg       0.82      0.72      0.75      2000\n",
            "weighted avg       0.86      0.86      0.85      2000\n",
            "\n",
            "Confusion Matrix:\n",
            " [[1546   61]\n",
            " [ 209  184]]\n"
          ]
        }
      ]
    },
    {
      "cell_type": "code",
      "source": [
        "# Model Gradient Boosting\n",
        "gb_model = GradientBoostingClassifier(n_estimators=100, random_state=42)\n",
        "gb_model.fit(X_train, y_train)\n",
        "gb_pred = gb_model.predict(X_test)\n",
        "\n",
        "# Evaluasi model Gradient Boosting\n",
        "print(\"\\nGradient Boosting Classifier:\")\n",
        "print(\"Accuracy:\", accuracy_score(y_test, gb_pred))\n",
        "print(\"Classification Report:\\n\", classification_report(y_test, gb_pred))\n",
        "print(\"Confusion Matrix:\\n\", confusion_matrix(y_test, gb_pred))"
      ],
      "metadata": {
        "colab": {
          "base_uri": "https://localhost:8080/"
        },
        "id": "ksQWA3C_GUku",
        "outputId": "ea0107f7-66cc-4923-8b52-f169f81f43c6"
      },
      "execution_count": null,
      "outputs": [
        {
          "output_type": "stream",
          "name": "stdout",
          "text": [
            "\n",
            "Gradient Boosting Classifier:\n",
            "Accuracy: 0.864\n",
            "Classification Report:\n",
            "               precision    recall  f1-score   support\n",
            "\n",
            "           0       0.88      0.96      0.92      1607\n",
            "           1       0.74      0.47      0.58       393\n",
            "\n",
            "    accuracy                           0.86      2000\n",
            "   macro avg       0.81      0.72      0.75      2000\n",
            "weighted avg       0.85      0.86      0.85      2000\n",
            "\n",
            "Confusion Matrix:\n",
            " [[1542   65]\n",
            " [ 207  186]]\n"
          ]
        }
      ]
    },
    {
      "cell_type": "markdown",
      "source": [
        "Dari hasil evaluasi terdapat beberapa hal yang dapat diperhatikan:\n",
        "1. Akurasi: Kedua model, baik Random Forest Classifier maupun Gradient Boosting Classifier, memiliki akurasi yang relatif tinggi, sekitar 86.5% untuk Random Forest dan 86.4% untuk Gradient Boosting. Ini menunjukkan bahwa secara keseluruhan, model-model tersebut mampu memprediksi dengan baik sebagian besar kasus.\n",
        "2. Precision, Recall, dan F1-Score: Ketika melihat hasil dari kelas positif (churn), kita bisa melihat bahwa precision (presisi) dan recall (sensitivitas) untuk kelas positif (1) cenderung lebih rendah dibandingkan dengan kelas negatif (0). Hal ini menunjukkan bahwa model memiliki kecenderungan untuk memprediksi dengan baik ketika data sebenarnya adalah kelas negatif, namun kurang akurat dalam memprediksi kelas positif.\n",
        "3. Confusion Matrix: Dari confusion matrix, kita bisa melihat bahwa jumlah False Negative (FN) cukup tinggi, terutama dalam memprediksi pelanggan yang akan churn (kelas 1). Ini berarti ada sejumlah pelanggan yang sebenarnya akan churn, tetapi diprediksi tidak akan churn oleh model. Hal ini menjadi penting karena dalam bisnis, memprediksi churn dengan baik penting untuk mengambil tindakan yang tepat untuk mempertahankan pelanggan.\n",
        "4. Perbandingan antara Model: Secara keseluruhan, kedua model memiliki performa yang serupa dalam hal akurasi dan evaluasi klasifikasi lainnya. Namun, Random Forest Classifier memiliki recall yang sedikit lebih tinggi untuk kelas 1 (recall 0.47) dibandingkan dengan Gradient Boosting Classifier (recall 0.47), yang berarti Random Forest mungkin sedikit lebih baik dalam mengidentifikasi pelanggan yang akan churn. Namun, perbedaan ini tidak signifikan secara statistik.\n",
        "\n",
        "Kesimpulan: Meskipun kedua model menunjukkan performa yang relatif baik, masih ada ruang untuk meningkatkan kemampuan mereka dalam memprediksi churn, terutama dalam mengurangi jumlah False Negative (FN). Mungkin perlu dilakukan penyetelan parameter lebih lanjut, pemilihan fitur yang lebih baik, atau penggunaan teknik penanganan ketidakseimbangan kelas untuk meningkatkan performa model dalam kasus ini.\n"
      ],
      "metadata": {
        "id": "IvFRhgkHWnOf"
      }
    },
    {
      "cell_type": "markdown",
      "source": [
        "# **CROSS VALIDATION**"
      ],
      "metadata": {
        "id": "X8tw0G7aHhog"
      }
    },
    {
      "cell_type": "markdown",
      "source": [
        "##**Random Forest**"
      ],
      "metadata": {
        "id": "TkLaSBLZItI5"
      }
    },
    {
      "cell_type": "code",
      "source": [
        "import pandas as pd\n",
        "from sklearn.model_selection import cross_val_score, train_test_split\n",
        "from sklearn.ensemble import RandomForestClassifier\n",
        "from sklearn.metrics import accuracy_score, confusion_matrix, classification_report"
      ],
      "metadata": {
        "id": "VTbXgmThHkfK"
      },
      "execution_count": null,
      "outputs": []
    },
    {
      "cell_type": "code",
      "source": [
        "# Memuat dataset\n",
        "url = \"https://drive.google.com/uc?export=download&id=1SEpVMpj5HFlqmlzqQE8Yt7Q6tzCMBiNt\"\n",
        "data = pd.read_csv(url)"
      ],
      "metadata": {
        "id": "PcsBF_woHmj-"
      },
      "execution_count": null,
      "outputs": []
    },
    {
      "cell_type": "code",
      "source": [
        "# Select features and target variable\n",
        "features = ['CreditScore', 'Age', 'Tenure', 'Balance', 'NumOfProducts',\n",
        "            'HasCrCard', 'IsActiveMember', 'EstimatedSalary']\n",
        "target = 'Exited'\n",
        "\n",
        "X = data[features]\n",
        "y = data[target]"
      ],
      "metadata": {
        "id": "q0PDeEyVHuOY"
      },
      "execution_count": null,
      "outputs": []
    },
    {
      "cell_type": "code",
      "source": [
        "# Initialize Random Forest classifier\n",
        "rf_classifier = RandomForestClassifier(n_estimators=100, random_state=42)"
      ],
      "metadata": {
        "id": "XRm0ab60H2d_"
      },
      "execution_count": null,
      "outputs": []
    },
    {
      "cell_type": "code",
      "source": [
        "# Perform cross-validation\n",
        "cv_scores = cross_val_score(rf_classifier, X, y, cv=5)\n",
        "\n",
        "# Print cross-validation scores\n",
        "print(\"Cross-Validation Scores:\", cv_scores)\n",
        "print(\"Mean CV Score:\", cv_scores.mean())"
      ],
      "metadata": {
        "colab": {
          "base_uri": "https://localhost:8080/"
        },
        "id": "S_WgtreKH6FT",
        "outputId": "218d1081-7b78-4545-d32f-4702691fcc31"
      },
      "execution_count": null,
      "outputs": [
        {
          "output_type": "stream",
          "name": "stdout",
          "text": [
            "Cross-Validation Scores: [0.8515 0.8615 0.853  0.857  0.8505]\n",
            "Mean CV Score: 0.8547\n"
          ]
        }
      ]
    },
    {
      "cell_type": "markdown",
      "source": [
        "## **Gradient Bosting**"
      ],
      "metadata": {
        "id": "ZAnBCrPlIv5d"
      }
    },
    {
      "cell_type": "code",
      "source": [
        "import pandas as pd\n",
        "from sklearn.model_selection import cross_val_score, train_test_split\n",
        "from sklearn.ensemble import GradientBoostingClassifier\n",
        "from sklearn.metrics import accuracy_score, confusion_matrix, classification_report"
      ],
      "metadata": {
        "id": "dWHrPzthIyrp"
      },
      "execution_count": null,
      "outputs": []
    },
    {
      "cell_type": "code",
      "source": [
        "# Memuat dataset\n",
        "url = \"https://drive.google.com/uc?export=download&id=1SEpVMpj5HFlqmlzqQE8Yt7Q6tzCMBiNt\"\n",
        "data = pd.read_csv(url)"
      ],
      "metadata": {
        "id": "dbJFbLmXI2aR"
      },
      "execution_count": null,
      "outputs": []
    },
    {
      "cell_type": "code",
      "source": [
        "# Select features and target variable\n",
        "features = ['CreditScore', 'Age', 'Tenure', 'Balance', 'NumOfProducts',\n",
        "            'HasCrCard', 'IsActiveMember', 'EstimatedSalary']\n",
        "target = 'Exited'\n",
        "\n",
        "X = data[features]\n",
        "y = data[target]"
      ],
      "metadata": {
        "id": "mVEkQP9eI5gb"
      },
      "execution_count": null,
      "outputs": []
    },
    {
      "cell_type": "code",
      "source": [
        "# Initialize Gradient Boosting classifier\n",
        "gb_classifier = GradientBoostingClassifier(n_estimators=100, random_state=42)"
      ],
      "metadata": {
        "id": "FF-zRiE-I967"
      },
      "execution_count": null,
      "outputs": []
    },
    {
      "cell_type": "code",
      "source": [
        "# Perform cross-validation\n",
        "cv_scores = cross_val_score(gb_classifier, X, y, cv=5)\n",
        "\n",
        "# Print cross-validation scores\n",
        "print(\"Cross-Validation Scores:\", cv_scores)\n",
        "print(\"Mean CV Score:\", cv_scores.mean())"
      ],
      "metadata": {
        "id": "gwLAYKZ-QjD5",
        "colab": {
          "base_uri": "https://localhost:8080/"
        },
        "outputId": "f99f6533-9814-4653-cef5-f86a0040f1ae"
      },
      "execution_count": null,
      "outputs": [
        {
          "output_type": "stream",
          "name": "stdout",
          "text": [
            "Cross-Validation Scores: [0.8595 0.8585 0.853  0.8655 0.849 ]\n",
            "Mean CV Score: 0.8571\n"
          ]
        }
      ]
    },
    {
      "cell_type": "markdown",
      "source": [
        "Dari hasil cross-validation terdapat beberapa hal yang dapat diamati:\n",
        "1. Random Forest:\n",
        "Skor cross-validation untuk Random Forest berkisar antara 0.8515 hingga 0.8615 dengan rata-rata skor sebesar 0.8547. Skor yang konsisten dan relatif stabil di sekitar rata-rata menunjukkan bahwa model memiliki kinerja yang konsisten di seluruh fold cross-validation.\n",
        "2. Gradient Boosting:\n",
        "Skor cross-validation untuk Gradient Boosting berkisar antara 0.849 hingga 0.8655 dengan rata-rata skor sebesar 0.8571. Skor yang lebih bervariasi dalam rentang yang lebih besar mungkin menunjukkan bahwa model lebih sensitif terhadap variasi dalam data atau mungkin lebih rentan terhadap overfitting.\n",
        "\n",
        "Perbandingan:\n",
        "Secara umum, Gradient Boosting memiliki sedikit skor rata-rata cross-validation yang lebih tinggi dibandingkan dengan Random Forest, menunjukkan bahwa Gradient Boosting mungkin memiliki kinerja yang sedikit lebih baik dalam kasus ini. Namun, perbedaan skor rata-rata antara kedua model tidak signifikan secara statistik. Oleh karena itu, keputusan untuk memilih model tergantung pada preferensi pribadi, kebutuhan bisnis, dan evaluasi lebih lanjut seperti evaluasi performa pada data uji yang belum pernah dilihat sebelumnya.\n",
        "\n",
        "Pertimbangan Tambahan:\n",
        "Penting untuk mempertimbangkan trade-off antara kinerja dan kompleksitas model. Gradient Boosting cenderung lebih kompleks dan memerlukan waktu komputasi yang lebih lama dibandingkan dengan Random Forest. Selain itu, faktor-faktor seperti interpretabilitas model, kebutuhan akan penanganan ketidakseimbangan kelas, dan sifat data dapat memengaruhi pilihan model yang tepat. Dengan demikian, meskipun Gradient Boosting menunjukkan sedikit kinerja yang lebih baik dalam cross-validation, tetapi keputusan akhir untuk memilih model harus didasarkan pada evaluasi yang komprehensif dan pertimbangan praktis yang sesuai dengan kebutuhan kebutuhan user."
      ],
      "metadata": {
        "id": "qeAvw-VpXVF4"
      }
    },
    {
      "cell_type": "markdown",
      "source": [
        "## **Uji Cross-validation dengan menggunakan accuracy untuk setiap fold**"
      ],
      "metadata": {
        "id": "6H5oiG08WA2C"
      }
    },
    {
      "cell_type": "code",
      "source": [
        "import pandas as pd\n",
        "import numpy as np\n",
        "from sklearn.model_selection import cross_val_predict\n",
        "from sklearn.metrics import accuracy_score\n",
        "from sklearn.preprocessing import StandardScaler\n",
        "from sklearn.ensemble import RandomForestClassifier, GradientBoostingClassifier\n",
        "from scipy.stats import ttest_rel, friedmanchisquare"
      ],
      "metadata": {
        "id": "VbGiPWyWWDd6"
      },
      "execution_count": null,
      "outputs": []
    },
    {
      "cell_type": "code",
      "source": [
        "# Memuat dataset\n",
        "url = \"https://drive.google.com/uc?export=download&id=1SEpVMpj5HFlqmlzqQE8Yt7Q6tzCMBiNt\"\n",
        "data = pd.read_csv(url)"
      ],
      "metadata": {
        "id": "Ehv8kXFpWHVD"
      },
      "execution_count": null,
      "outputs": []
    },
    {
      "cell_type": "code",
      "source": [
        "# Memilih fitur-fitur dan variabel target\n",
        "features = ['CreditScore', 'Age', 'Tenure', 'Balance', 'NumOfProducts',\n",
        "            'HasCrCard', 'IsActiveMember', 'EstimatedSalary']\n",
        "target = 'Exited'\n",
        "\n",
        "X = data[features]\n",
        "y = data[target]"
      ],
      "metadata": {
        "id": "AA398zs3WJe2"
      },
      "execution_count": null,
      "outputs": []
    },
    {
      "cell_type": "code",
      "source": [
        "# Inisialisasi model-model\n",
        "rf_classifier = RandomForestClassifier(n_estimators=100, random_state=42)\n",
        "gb_classifier = GradientBoostingClassifier(n_estimators=100, random_state=42)"
      ],
      "metadata": {
        "id": "OQaLLBgkWRad"
      },
      "execution_count": null,
      "outputs": []
    },
    {
      "cell_type": "code",
      "source": [
        "# Standarisasi data\n",
        "scaler = StandardScaler()\n",
        "X_scaled = scaler.fit_transform(X)"
      ],
      "metadata": {
        "id": "BKg2b4jGWTcY"
      },
      "execution_count": null,
      "outputs": []
    },
    {
      "cell_type": "code",
      "source": [
        "# Melakukan cross-validation 10 fold dan mendapatkan label prediksi\n",
        "rf_predicted = cross_val_predict(rf_classifier, X_scaled, y, cv=10)\n",
        "gb_predicted = cross_val_predict(gb_classifier, X_scaled, y, cv=10)"
      ],
      "metadata": {
        "id": "0XXxj40tWVaw"
      },
      "execution_count": null,
      "outputs": []
    },
    {
      "cell_type": "code",
      "source": [
        "# Menghitung akurasi untuk setiap fold\n",
        "rf_accuracy_per_fold = accuracy_score(y, rf_predicted)\n",
        "gb_accuracy_per_fold = accuracy_score(y, gb_predicted)"
      ],
      "metadata": {
        "id": "v3UR9mIIWeNl"
      },
      "execution_count": null,
      "outputs": []
    },
    {
      "cell_type": "code",
      "source": [
        "# Melakukan uji t yang berpasangan\n",
        "t_statistic, p_value = ttest_rel(rf_accuracy_per_fold, gb_accuracy_per_fold)\n",
        "\n",
        "print(\"Random Forest Accuracy per Fold:\", rf_accuracy_per_fold)\n",
        "print(\"Gradient Boosting Accuracy per Fold:\", gb_accuracy_per_fold)\n",
        "print(\"Paired t-test p-value:\", p_value)"
      ],
      "metadata": {
        "colab": {
          "base_uri": "https://localhost:8080/"
        },
        "id": "OJTnPczrWgaN",
        "outputId": "1a8776c6-b4c5-48b6-934e-a5b5b8e4dd2c"
      },
      "execution_count": null,
      "outputs": [
        {
          "output_type": "stream",
          "name": "stdout",
          "text": [
            "Random Forest Accuracy per Fold: 0.8539\n",
            "Gradient Boosting Accuracy per Fold: 0.8579\n",
            "Paired t-test p-value: nan\n"
          ]
        },
        {
          "output_type": "stream",
          "name": "stderr",
          "text": [
            "/usr/local/lib/python3.10/dist-packages/scipy/stats/_stats_py.py:1103: RuntimeWarning: divide by zero encountered in divide\n",
            "  var *= np.divide(n, n-ddof)  # to avoid error on division by zero\n",
            "/usr/local/lib/python3.10/dist-packages/scipy/stats/_stats_py.py:1103: RuntimeWarning: invalid value encountered in scalar multiply\n",
            "  var *= np.divide(n, n-ddof)  # to avoid error on division by zero\n"
          ]
        }
      ]
    },
    {
      "cell_type": "markdown",
      "source": [
        "Dari hasil analisis ada beberapa hal yang dapat diamati:\n",
        "1. Akurasi Per Fold:\n",
        "Akurasi Random Forest sebesar 0.8539 dan akurasi Gradient Boosting sebesar 0.8579. Ini menunjukkan bahwa secara rata-rata, model Gradient Boosting memiliki performa yang sedikit lebih baik daripada Random Forest dalam memprediksi kelas target.\n",
        "2. Uji T yang Berpasangan (Paired t-test):\n",
        "Hasil dari uji t yang berpasangan menunjukkan nilai p-value yang tidak terdefinisi (NaN). Hal ini mungkin disebabkan oleh perbedaan yang terlalu kecil antara akurasi dari kedua model atau mungkin ada ketidaksesuaian dalam perhitungan.\n",
        "\n",
        "Kesimpulan:\n",
        "Berdasarkan akurasi per fold, model Gradient Boosting memiliki performa yang sedikit lebih baik dibandingkan dengan Random Forest. Untuk lebih lanjutnya dapat dicoba dengan Teknik SMOTE and BAGGING untuk melihat ketidakseimbangan kelasnya.\n"
      ],
      "metadata": {
        "id": "gC04x6MjYhBc"
      }
    }
  ]
}