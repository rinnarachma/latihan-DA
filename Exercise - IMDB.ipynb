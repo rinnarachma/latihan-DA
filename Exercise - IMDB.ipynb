{
 "cells": [
  {
   "cell_type": "markdown",
   "metadata": {},
   "source": [
    "### Import Modules"
   ]
  },
  {
   "cell_type": "code",
   "execution_count": 1,
   "metadata": {},
   "outputs": [],
   "source": [
    "import pandas as pd\n",
    "import numpy as np"
   ]
  },
  {
   "cell_type": "markdown",
   "metadata": {},
   "source": [
    "### Load and Check Dataset"
   ]
  },
  {
   "cell_type": "code",
   "execution_count": 2,
   "metadata": {},
   "outputs": [
    {
     "data": {
      "text/html": [
       "<div>\n",
       "<style scoped>\n",
       "    .dataframe tbody tr th:only-of-type {\n",
       "        vertical-align: middle;\n",
       "    }\n",
       "\n",
       "    .dataframe tbody tr th {\n",
       "        vertical-align: top;\n",
       "    }\n",
       "\n",
       "    .dataframe thead th {\n",
       "        text-align: right;\n",
       "    }\n",
       "</style>\n",
       "<table border=\"1\" class=\"dataframe\">\n",
       "  <thead>\n",
       "    <tr style=\"text-align: right;\">\n",
       "      <th></th>\n",
       "      <th>movie_ID</th>\n",
       "      <th>movie_title</th>\n",
       "      <th>duration</th>\n",
       "      <th>color</th>\n",
       "      <th>title_year</th>\n",
       "      <th>country</th>\n",
       "      <th>language</th>\n",
       "      <th>content_rating</th>\n",
       "      <th>budget_USD</th>\n",
       "      <th>gross_USD</th>\n",
       "      <th>...</th>\n",
       "      <th>actor_3_facebook?</th>\n",
       "      <th>actor_3_facebook_likes</th>\n",
       "      <th>cast_total_facebook_likes</th>\n",
       "      <th>movie_facebook?</th>\n",
       "      <th>movie_facebook_likes;</th>\n",
       "      <th>facenumber_in_poster</th>\n",
       "      <th>num_voted_users</th>\n",
       "      <th>num_user_for_reviews</th>\n",
       "      <th>imdb_score</th>\n",
       "      <th>imdb_top_250</th>\n",
       "    </tr>\n",
       "  </thead>\n",
       "  <tbody>\n",
       "    <tr>\n",
       "      <td>0</td>\n",
       "      <td>1</td>\n",
       "      <td>Avatar</td>\n",
       "      <td>178</td>\n",
       "      <td>1</td>\n",
       "      <td>2009</td>\n",
       "      <td>USA</td>\n",
       "      <td>English</td>\n",
       "      <td>PG-13</td>\n",
       "      <td>237000000</td>\n",
       "      <td>760505847</td>\n",
       "      <td>...</td>\n",
       "      <td>1</td>\n",
       "      <td>855</td>\n",
       "      <td>4834</td>\n",
       "      <td>1</td>\n",
       "      <td>33000</td>\n",
       "      <td>0</td>\n",
       "      <td>886204</td>\n",
       "      <td>3054</td>\n",
       "      <td>7.9</td>\n",
       "      <td>0</td>\n",
       "    </tr>\n",
       "    <tr>\n",
       "      <td>1</td>\n",
       "      <td>2</td>\n",
       "      <td>Pirates of the Caribbean: At World's End</td>\n",
       "      <td>169</td>\n",
       "      <td>1</td>\n",
       "      <td>2007</td>\n",
       "      <td>USA</td>\n",
       "      <td>English</td>\n",
       "      <td>PG-13</td>\n",
       "      <td>300000000</td>\n",
       "      <td>309404152</td>\n",
       "      <td>...</td>\n",
       "      <td>1</td>\n",
       "      <td>1000</td>\n",
       "      <td>48350</td>\n",
       "      <td>0</td>\n",
       "      <td>0</td>\n",
       "      <td>0</td>\n",
       "      <td>471220</td>\n",
       "      <td>1238</td>\n",
       "      <td>7.1</td>\n",
       "      <td>0</td>\n",
       "    </tr>\n",
       "    <tr>\n",
       "      <td>2</td>\n",
       "      <td>3</td>\n",
       "      <td>The Dark Knight Rises</td>\n",
       "      <td>164</td>\n",
       "      <td>1</td>\n",
       "      <td>2012</td>\n",
       "      <td>USA</td>\n",
       "      <td>English</td>\n",
       "      <td>PG-13</td>\n",
       "      <td>250000000</td>\n",
       "      <td>448130642</td>\n",
       "      <td>...</td>\n",
       "      <td>1</td>\n",
       "      <td>23000</td>\n",
       "      <td>106759</td>\n",
       "      <td>1</td>\n",
       "      <td>164000</td>\n",
       "      <td>0</td>\n",
       "      <td>1144337</td>\n",
       "      <td>2701</td>\n",
       "      <td>8.5</td>\n",
       "      <td>1</td>\n",
       "    </tr>\n",
       "  </tbody>\n",
       "</table>\n",
       "<p>3 rows × 36 columns</p>\n",
       "</div>"
      ],
      "text/plain": [
       "   movie_ID                               movie_title  duration  color  \\\n",
       "0         1                                    Avatar       178      1   \n",
       "1         2  Pirates of the Caribbean: At World's End       169      1   \n",
       "2         3                     The Dark Knight Rises       164      1   \n",
       "\n",
       "   title_year country language content_rating  budget_USD  gross_USD  ...  \\\n",
       "0        2009     USA  English          PG-13   237000000  760505847  ...   \n",
       "1        2007     USA  English          PG-13   300000000  309404152  ...   \n",
       "2        2012     USA  English          PG-13   250000000  448130642  ...   \n",
       "\n",
       "   actor_3_facebook?  actor_3_facebook_likes cast_total_facebook_likes  \\\n",
       "0                  1                     855                      4834   \n",
       "1                  1                    1000                     48350   \n",
       "2                  1                   23000                    106759   \n",
       "\n",
       "  movie_facebook?  movie_facebook_likes;  facenumber_in_poster  \\\n",
       "0               1                  33000                     0   \n",
       "1               0                      0                     0   \n",
       "2               1                 164000                     0   \n",
       "\n",
       "  num_voted_users  num_user_for_reviews  imdb_score  imdb_top_250  \n",
       "0          886204                  3054         7.9             0  \n",
       "1          471220                  1238         7.1             0  \n",
       "2         1144337                  2701         8.5             1  \n",
       "\n",
       "[3 rows x 36 columns]"
      ]
     },
     "execution_count": 2,
     "metadata": {},
     "output_type": "execute_result"
    }
   ],
   "source": [
    "data = pd.read_csv('IMDB-database-update.csv', encoding = 'latin1')\n",
    "data.head(3)"
   ]
  },
  {
   "cell_type": "markdown",
   "metadata": {},
   "source": [
    "### 1. How many rows and columns?"
   ]
  },
  {
   "cell_type": "code",
   "execution_count": 3,
   "metadata": {},
   "outputs": [
    {
     "data": {
      "text/plain": [
       "(3781, 36)"
      ]
     },
     "execution_count": 3,
     "metadata": {},
     "output_type": "execute_result"
    }
   ],
   "source": [
    "data.shape"
   ]
  },
  {
   "cell_type": "code",
   "execution_count": 4,
   "metadata": {},
   "outputs": [
    {
     "name": "stdout",
     "output_type": "stream",
     "text": [
      "<class 'pandas.core.frame.DataFrame'>\n",
      "RangeIndex: 3781 entries, 0 to 3780\n",
      "Data columns (total 36 columns):\n",
      "movie_ID                     3781 non-null int64\n",
      "movie_title                  3781 non-null object\n",
      "duration                     3781 non-null int64\n",
      "color                        3781 non-null int64\n",
      "title_year                   3781 non-null int64\n",
      "country                      3781 non-null object\n",
      "language                     3781 non-null object\n",
      "content_rating               3781 non-null object\n",
      "budget_USD                   3781 non-null int64\n",
      "gross_USD                    3781 non-null int64\n",
      "net_USD                      3781 non-null int64\n",
      "profitable                   3781 non-null int64\n",
      "director_name                3781 non-null object\n",
      "director_top20?              3781 non-null object\n",
      "director_facebook?           3781 non-null int64\n",
      "director_facebook_likes      3781 non-null int64\n",
      "actor_1_name                 3781 non-null object\n",
      "actor_top20?                 3781 non-null int64\n",
      "actor_1_facebook?            3781 non-null int64\n",
      "actor_1_facebook_likes       3781 non-null int64\n",
      "actor_2_name                 3781 non-null object\n",
      "actor_top20?.1               3781 non-null int64\n",
      "actor_2_facebook?            3781 non-null int64\n",
      "actor_2_facebook_likes       3781 non-null int64\n",
      "actor_3_name                 3781 non-null object\n",
      "actor_top20?.2               3781 non-null int64\n",
      "actor_3_facebook?            3781 non-null int64\n",
      "actor_3_facebook_likes       3781 non-null int64\n",
      "cast_total_facebook_likes    3781 non-null int64\n",
      "movie_facebook?              3781 non-null int64\n",
      "movie_facebook_likes;        3781 non-null int64\n",
      "facenumber_in_poster         3781 non-null int64\n",
      "num_voted_users              3781 non-null int64\n",
      "num_user_for_reviews         3781 non-null int64\n",
      "imdb_score                   3781 non-null float64\n",
      "imdb_top_250                 3781 non-null int64\n",
      "dtypes: float64(1), int64(26), object(9)\n",
      "memory usage: 1.0+ MB\n"
     ]
    }
   ],
   "source": [
    "data.info()"
   ]
  },
  {
   "cell_type": "markdown",
   "metadata": {},
   "source": [
    "### 2. What are the top 3 movies with highest nett profit in 2013?"
   ]
  },
  {
   "cell_type": "code",
   "execution_count": 5,
   "metadata": {},
   "outputs": [
    {
     "data": {
      "text/html": [
       "<div>\n",
       "<style scoped>\n",
       "    .dataframe tbody tr th:only-of-type {\n",
       "        vertical-align: middle;\n",
       "    }\n",
       "\n",
       "    .dataframe tbody tr th {\n",
       "        vertical-align: top;\n",
       "    }\n",
       "\n",
       "    .dataframe thead th {\n",
       "        text-align: right;\n",
       "    }\n",
       "</style>\n",
       "<table border=\"1\" class=\"dataframe\">\n",
       "  <thead>\n",
       "    <tr style=\"text-align: right;\">\n",
       "      <th></th>\n",
       "      <th>movie_title</th>\n",
       "      <th>net_USD</th>\n",
       "    </tr>\n",
       "  </thead>\n",
       "  <tbody>\n",
       "    <tr>\n",
       "      <td>1614</td>\n",
       "      <td>The Hunger Games: Catching Fire</td>\n",
       "      <td>294645577</td>\n",
       "    </tr>\n",
       "    <tr>\n",
       "      <td>236</td>\n",
       "      <td>Despicable Me 2</td>\n",
       "      <td>292049635</td>\n",
       "    </tr>\n",
       "    <tr>\n",
       "      <td>57</td>\n",
       "      <td>Frozen</td>\n",
       "      <td>250736600</td>\n",
       "    </tr>\n",
       "  </tbody>\n",
       "</table>\n",
       "</div>"
      ],
      "text/plain": [
       "                          movie_title    net_USD\n",
       "1614  The Hunger Games: Catching Fire  294645577\n",
       "236                   Despicable Me 2  292049635\n",
       "57                             Frozen  250736600"
      ]
     },
     "execution_count": 5,
     "metadata": {},
     "output_type": "execute_result"
    }
   ],
   "source": [
    "data[data[\"title_year\"]==2013].sort_values(\"net_USD\", ascending = False)[[\"movie_title\",\"net_USD\"]].head(3)"
   ]
  },
  {
   "cell_type": "code",
   "execution_count": 6,
   "metadata": {},
   "outputs": [
    {
     "data": {
      "text/html": [
       "<div>\n",
       "<style scoped>\n",
       "    .dataframe tbody tr th:only-of-type {\n",
       "        vertical-align: middle;\n",
       "    }\n",
       "\n",
       "    .dataframe tbody tr th {\n",
       "        vertical-align: top;\n",
       "    }\n",
       "\n",
       "    .dataframe thead th {\n",
       "        text-align: right;\n",
       "    }\n",
       "</style>\n",
       "<table border=\"1\" class=\"dataframe\">\n",
       "  <thead>\n",
       "    <tr style=\"text-align: right;\">\n",
       "      <th></th>\n",
       "      <th>movie_ID</th>\n",
       "      <th>movie_title</th>\n",
       "      <th>duration</th>\n",
       "      <th>color</th>\n",
       "      <th>title_year</th>\n",
       "      <th>country</th>\n",
       "      <th>language</th>\n",
       "      <th>content_rating</th>\n",
       "      <th>budget_USD</th>\n",
       "      <th>gross_USD</th>\n",
       "      <th>...</th>\n",
       "      <th>actor_3_facebook?</th>\n",
       "      <th>actor_3_facebook_likes</th>\n",
       "      <th>cast_total_facebook_likes</th>\n",
       "      <th>movie_facebook?</th>\n",
       "      <th>movie_facebook_likes;</th>\n",
       "      <th>facenumber_in_poster</th>\n",
       "      <th>num_voted_users</th>\n",
       "      <th>num_user_for_reviews</th>\n",
       "      <th>imdb_score</th>\n",
       "      <th>imdb_top_250</th>\n",
       "    </tr>\n",
       "  </thead>\n",
       "  <tbody>\n",
       "    <tr>\n",
       "      <td>6</td>\n",
       "      <td>7</td>\n",
       "      <td>Man of Steel</td>\n",
       "      <td>143</td>\n",
       "      <td>1</td>\n",
       "      <td>2013</td>\n",
       "      <td>USA</td>\n",
       "      <td>English</td>\n",
       "      <td>PG-13</td>\n",
       "      <td>225000000</td>\n",
       "      <td>291021565</td>\n",
       "      <td>...</td>\n",
       "      <td>1</td>\n",
       "      <td>748</td>\n",
       "      <td>20495</td>\n",
       "      <td>1</td>\n",
       "      <td>118000</td>\n",
       "      <td>0</td>\n",
       "      <td>548573</td>\n",
       "      <td>2536</td>\n",
       "      <td>7.2</td>\n",
       "      <td>0</td>\n",
       "    </tr>\n",
       "    <tr>\n",
       "      <td>18</td>\n",
       "      <td>19</td>\n",
       "      <td>Monsters University</td>\n",
       "      <td>104</td>\n",
       "      <td>1</td>\n",
       "      <td>2013</td>\n",
       "      <td>USA</td>\n",
       "      <td>English</td>\n",
       "      <td>G</td>\n",
       "      <td>200000000</td>\n",
       "      <td>268488329</td>\n",
       "      <td>...</td>\n",
       "      <td>1</td>\n",
       "      <td>760</td>\n",
       "      <td>14863</td>\n",
       "      <td>1</td>\n",
       "      <td>44000</td>\n",
       "      <td>0</td>\n",
       "      <td>235025</td>\n",
       "      <td>265</td>\n",
       "      <td>7.3</td>\n",
       "      <td>0</td>\n",
       "    </tr>\n",
       "    <tr>\n",
       "      <td>25</td>\n",
       "      <td>26</td>\n",
       "      <td>World War Z</td>\n",
       "      <td>123</td>\n",
       "      <td>1</td>\n",
       "      <td>2013</td>\n",
       "      <td>USA</td>\n",
       "      <td>English</td>\n",
       "      <td>PG-13</td>\n",
       "      <td>190000000</td>\n",
       "      <td>202351611</td>\n",
       "      <td>...</td>\n",
       "      <td>1</td>\n",
       "      <td>1000</td>\n",
       "      <td>32392</td>\n",
       "      <td>1</td>\n",
       "      <td>129000</td>\n",
       "      <td>0</td>\n",
       "      <td>465019</td>\n",
       "      <td>995</td>\n",
       "      <td>7.0</td>\n",
       "      <td>0</td>\n",
       "    </tr>\n",
       "    <tr>\n",
       "      <td>26</td>\n",
       "      <td>27</td>\n",
       "      <td>Star Trek Into Darkness</td>\n",
       "      <td>132</td>\n",
       "      <td>1</td>\n",
       "      <td>2013</td>\n",
       "      <td>USA</td>\n",
       "      <td>English</td>\n",
       "      <td>PG-13</td>\n",
       "      <td>190000000</td>\n",
       "      <td>228756232</td>\n",
       "      <td>...</td>\n",
       "      <td>1</td>\n",
       "      <td>928</td>\n",
       "      <td>21411</td>\n",
       "      <td>1</td>\n",
       "      <td>92000</td>\n",
       "      <td>0</td>\n",
       "      <td>395573</td>\n",
       "      <td>1171</td>\n",
       "      <td>7.8</td>\n",
       "      <td>0</td>\n",
       "    </tr>\n",
       "    <tr>\n",
       "      <td>27</td>\n",
       "      <td>28</td>\n",
       "      <td>Pacific Rim</td>\n",
       "      <td>131</td>\n",
       "      <td>1</td>\n",
       "      <td>2013</td>\n",
       "      <td>USA</td>\n",
       "      <td>English</td>\n",
       "      <td>PG-13</td>\n",
       "      <td>190000000</td>\n",
       "      <td>101785482</td>\n",
       "      <td>...</td>\n",
       "      <td>1</td>\n",
       "      <td>919</td>\n",
       "      <td>19166</td>\n",
       "      <td>1</td>\n",
       "      <td>83000</td>\n",
       "      <td>0</td>\n",
       "      <td>381148</td>\n",
       "      <td>1106</td>\n",
       "      <td>7.0</td>\n",
       "      <td>0</td>\n",
       "    </tr>\n",
       "  </tbody>\n",
       "</table>\n",
       "<p>5 rows × 36 columns</p>\n",
       "</div>"
      ],
      "text/plain": [
       "    movie_ID              movie_title  duration  color  title_year country  \\\n",
       "6          7             Man of Steel       143      1        2013     USA   \n",
       "18        19      Monsters University       104      1        2013     USA   \n",
       "25        26              World War Z       123      1        2013     USA   \n",
       "26        27  Star Trek Into Darkness       132      1        2013     USA   \n",
       "27        28              Pacific Rim       131      1        2013     USA   \n",
       "\n",
       "   language content_rating  budget_USD  gross_USD  ...  actor_3_facebook?  \\\n",
       "6   English          PG-13   225000000  291021565  ...                  1   \n",
       "18  English              G   200000000  268488329  ...                  1   \n",
       "25  English          PG-13   190000000  202351611  ...                  1   \n",
       "26  English          PG-13   190000000  228756232  ...                  1   \n",
       "27  English          PG-13   190000000  101785482  ...                  1   \n",
       "\n",
       "    actor_3_facebook_likes cast_total_facebook_likes movie_facebook?  \\\n",
       "6                      748                     20495               1   \n",
       "18                     760                     14863               1   \n",
       "25                    1000                     32392               1   \n",
       "26                     928                     21411               1   \n",
       "27                     919                     19166               1   \n",
       "\n",
       "    movie_facebook_likes;  facenumber_in_poster num_voted_users  \\\n",
       "6                  118000                     0          548573   \n",
       "18                  44000                     0          235025   \n",
       "25                 129000                     0          465019   \n",
       "26                  92000                     0          395573   \n",
       "27                  83000                     0          381148   \n",
       "\n",
       "    num_user_for_reviews  imdb_score  imdb_top_250  \n",
       "6                   2536         7.2             0  \n",
       "18                   265         7.3             0  \n",
       "25                   995         7.0             0  \n",
       "26                  1171         7.8             0  \n",
       "27                  1106         7.0             0  \n",
       "\n",
       "[5 rows x 36 columns]"
      ]
     },
     "execution_count": 6,
     "metadata": {},
     "output_type": "execute_result"
    }
   ],
   "source": [
    "data_2013 = data[data[\"title_year\"]==2013]\n",
    "data_2013.head()"
   ]
  },
  {
   "cell_type": "code",
   "execution_count": 7,
   "metadata": {},
   "outputs": [
    {
     "data": {
      "text/html": [
       "<div>\n",
       "<style scoped>\n",
       "    .dataframe tbody tr th:only-of-type {\n",
       "        vertical-align: middle;\n",
       "    }\n",
       "\n",
       "    .dataframe tbody tr th {\n",
       "        vertical-align: top;\n",
       "    }\n",
       "\n",
       "    .dataframe thead th {\n",
       "        text-align: right;\n",
       "    }\n",
       "</style>\n",
       "<table border=\"1\" class=\"dataframe\">\n",
       "  <thead>\n",
       "    <tr style=\"text-align: right;\">\n",
       "      <th></th>\n",
       "      <th>movie_title</th>\n",
       "      <th>net_USD</th>\n",
       "      <th>title_year</th>\n",
       "    </tr>\n",
       "  </thead>\n",
       "  <tbody>\n",
       "    <tr>\n",
       "      <td>1614</td>\n",
       "      <td>The Hunger Games: Catching Fire</td>\n",
       "      <td>294645577</td>\n",
       "      <td>2013</td>\n",
       "    </tr>\n",
       "    <tr>\n",
       "      <td>236</td>\n",
       "      <td>Despicable Me 2</td>\n",
       "      <td>292049635</td>\n",
       "      <td>2013</td>\n",
       "    </tr>\n",
       "    <tr>\n",
       "      <td>57</td>\n",
       "      <td>Frozen</td>\n",
       "      <td>250736600</td>\n",
       "      <td>2013</td>\n",
       "    </tr>\n",
       "  </tbody>\n",
       "</table>\n",
       "</div>"
      ],
      "text/plain": [
       "                          movie_title    net_USD  title_year\n",
       "1614  The Hunger Games: Catching Fire  294645577        2013\n",
       "236                   Despicable Me 2  292049635        2013\n",
       "57                             Frozen  250736600        2013"
      ]
     },
     "execution_count": 7,
     "metadata": {},
     "output_type": "execute_result"
    }
   ],
   "source": [
    "data_2013[[\"movie_title\",\"net_USD\",\"title_year\"]].sort_values(\"net_USD\", ascending = False).head(3)"
   ]
  },
  {
   "cell_type": "markdown",
   "metadata": {},
   "source": [
    "### 3. What are the top 3 movies with highest gross profit in 2009"
   ]
  },
  {
   "cell_type": "code",
   "execution_count": 8,
   "metadata": {},
   "outputs": [],
   "source": [
    "data_2009 = data[data[\"title_year\"]==2009]"
   ]
  },
  {
   "cell_type": "code",
   "execution_count": 9,
   "metadata": {},
   "outputs": [
    {
     "data": {
      "text/html": [
       "<div>\n",
       "<style scoped>\n",
       "    .dataframe tbody tr th:only-of-type {\n",
       "        vertical-align: middle;\n",
       "    }\n",
       "\n",
       "    .dataframe tbody tr th {\n",
       "        vertical-align: top;\n",
       "    }\n",
       "\n",
       "    .dataframe thead th {\n",
       "        text-align: right;\n",
       "    }\n",
       "</style>\n",
       "<table border=\"1\" class=\"dataframe\">\n",
       "  <thead>\n",
       "    <tr style=\"text-align: right;\">\n",
       "      <th></th>\n",
       "      <th>movie_title</th>\n",
       "      <th>gross_USD</th>\n",
       "      <th>title_year</th>\n",
       "    </tr>\n",
       "  </thead>\n",
       "  <tbody>\n",
       "    <tr>\n",
       "      <td>0</td>\n",
       "      <td>Avatar</td>\n",
       "      <td>760505847</td>\n",
       "      <td>2009</td>\n",
       "    </tr>\n",
       "    <tr>\n",
       "      <td>19</td>\n",
       "      <td>Transformers: Revenge of the Fallen</td>\n",
       "      <td>402076689</td>\n",
       "      <td>2009</td>\n",
       "    </tr>\n",
       "    <tr>\n",
       "      <td>3094</td>\n",
       "      <td>Harry Potter and the Half-Blood Prince</td>\n",
       "      <td>301956980</td>\n",
       "      <td>2009</td>\n",
       "    </tr>\n",
       "  </tbody>\n",
       "</table>\n",
       "</div>"
      ],
      "text/plain": [
       "                                 movie_title  gross_USD  title_year\n",
       "0                                     Avatar  760505847        2009\n",
       "19       Transformers: Revenge of the Fallen  402076689        2009\n",
       "3094  Harry Potter and the Half-Blood Prince  301956980        2009"
      ]
     },
     "execution_count": 9,
     "metadata": {},
     "output_type": "execute_result"
    }
   ],
   "source": [
    "data_2009[[\"movie_title\",\"gross_USD\",\"title_year\"]].sort_values(\"gross_USD\", ascending = False).head(3)"
   ]
  },
  {
   "cell_type": "markdown",
   "metadata": {},
   "source": [
    "### 4. How many non-english movies are in the dataset?"
   ]
  },
  {
   "cell_type": "code",
   "execution_count": 10,
   "metadata": {},
   "outputs": [
    {
     "data": {
      "text/plain": [
       "153"
      ]
     },
     "execution_count": 10,
     "metadata": {},
     "output_type": "execute_result"
    }
   ],
   "source": [
    "non_english = data[data[\"language\"]!=\"English\"]\n",
    "non_english[\"movie_ID\"].count()"
   ]
  },
  {
   "cell_type": "markdown",
   "metadata": {},
   "source": [
    "### 5.What are top 3 languages in the dataset aside English (based on number of movies)?"
   ]
  },
  {
   "cell_type": "code",
   "execution_count": 11,
   "metadata": {},
   "outputs": [
    {
     "data": {
      "text/plain": [
       "French      33\n",
       "Spanish     23\n",
       "Mandarin    14\n",
       "Name: language, dtype: int64"
      ]
     },
     "execution_count": 11,
     "metadata": {},
     "output_type": "execute_result"
    }
   ],
   "source": [
    "non_english[\"language\"].value_counts().sort_values(ascending=False).head(3)"
   ]
  },
  {
   "cell_type": "markdown",
   "metadata": {},
   "source": [
    "### 6.What are the top 3 countries with the highest nett profit in all dataset times?"
   ]
  },
  {
   "cell_type": "code",
   "execution_count": 12,
   "metadata": {},
   "outputs": [
    {
     "data": {
      "text/html": [
       "<div>\n",
       "<style scoped>\n",
       "    .dataframe tbody tr th:only-of-type {\n",
       "        vertical-align: middle;\n",
       "    }\n",
       "\n",
       "    .dataframe tbody tr th {\n",
       "        vertical-align: top;\n",
       "    }\n",
       "\n",
       "    .dataframe thead th {\n",
       "        text-align: right;\n",
       "    }\n",
       "</style>\n",
       "<table border=\"1\" class=\"dataframe\">\n",
       "  <thead>\n",
       "    <tr style=\"text-align: right;\">\n",
       "      <th></th>\n",
       "      <th>net_USD</th>\n",
       "    </tr>\n",
       "    <tr>\n",
       "      <th>country</th>\n",
       "      <th></th>\n",
       "    </tr>\n",
       "  </thead>\n",
       "  <tbody>\n",
       "    <tr>\n",
       "      <td>USA</td>\n",
       "      <td>52003933174</td>\n",
       "    </tr>\n",
       "    <tr>\n",
       "      <td>UK</td>\n",
       "      <td>1531614524</td>\n",
       "    </tr>\n",
       "    <tr>\n",
       "      <td>Australia</td>\n",
       "      <td>252571616</td>\n",
       "    </tr>\n",
       "  </tbody>\n",
       "</table>\n",
       "</div>"
      ],
      "text/plain": [
       "               net_USD\n",
       "country               \n",
       "USA        52003933174\n",
       "UK          1531614524\n",
       "Australia    252571616"
      ]
     },
     "execution_count": 12,
     "metadata": {},
     "output_type": "execute_result"
    }
   ],
   "source": [
    "top_3 = data[[\"country\",\"net_USD\"]].groupby('country').sum().sort_values('net_USD', ascending=False).head(3)\n",
    "top_3"
   ]
  },
  {
   "cell_type": "markdown",
   "metadata": {},
   "source": [
    "### 7.What are the average budget of all movies in dataset in 2013?"
   ]
  },
  {
   "cell_type": "code",
   "execution_count": 13,
   "metadata": {},
   "outputs": [
    {
     "data": {
      "text/plain": [
       "51069610.77439024"
      ]
     },
     "execution_count": 13,
     "metadata": {},
     "output_type": "execute_result"
    }
   ],
   "source": [
    "data_2013 = data_2013['budget_USD'].mean()\n",
    "data_2013"
   ]
  },
  {
   "cell_type": "markdown",
   "metadata": {},
   "source": [
    "### 8.What are the average budget of all movies in dataset in 2014? "
   ]
  },
  {
   "cell_type": "code",
   "execution_count": 14,
   "metadata": {},
   "outputs": [
    {
     "data": {
      "text/plain": [
       "49919006.62251656"
      ]
     },
     "execution_count": 14,
     "metadata": {},
     "output_type": "execute_result"
    }
   ],
   "source": [
    "data_2014 = data[data[\"title_year\"]==2014]\n",
    "data_2014 = data_2014['budget_USD'].mean()\n",
    "data_2014"
   ]
  },
  {
   "cell_type": "markdown",
   "metadata": {},
   "source": [
    "### 9.Which one is higher, average budget of all movies in dataset in 2014 or 2013"
   ]
  },
  {
   "cell_type": "code",
   "execution_count": 15,
   "metadata": {},
   "outputs": [
    {
     "name": "stdout",
     "output_type": "stream",
     "text": [
      "The average budget of all movies in dataset 2013 is higher than in 2014\n"
     ]
    }
   ],
   "source": [
    "if data_2014>data_2013:\n",
    "    print(\"The average budget of all movies in dataset 2014 is higher than in 2013\")\n",
    "else :\n",
    "    print(\"The average budget of all movies in dataset 2013 is higher than in 2014\")"
   ]
  },
  {
   "cell_type": "markdown",
   "metadata": {},
   "source": [
    "### 10.What movie that resulted highest nett profit of all dataset times? How much did the movie make? "
   ]
  },
  {
   "cell_type": "code",
   "execution_count": 16,
   "metadata": {},
   "outputs": [
    {
     "data": {
      "text/html": [
       "<div>\n",
       "<style scoped>\n",
       "    .dataframe tbody tr th:only-of-type {\n",
       "        vertical-align: middle;\n",
       "    }\n",
       "\n",
       "    .dataframe tbody tr th {\n",
       "        vertical-align: top;\n",
       "    }\n",
       "\n",
       "    .dataframe thead th {\n",
       "        text-align: right;\n",
       "    }\n",
       "</style>\n",
       "<table border=\"1\" class=\"dataframe\">\n",
       "  <thead>\n",
       "    <tr style=\"text-align: right;\">\n",
       "      <th></th>\n",
       "      <th>movie_title</th>\n",
       "      <th>net_USD</th>\n",
       "      <th>title_year</th>\n",
       "    </tr>\n",
       "  </thead>\n",
       "  <tbody>\n",
       "    <tr>\n",
       "      <td>0</td>\n",
       "      <td>Avatar</td>\n",
       "      <td>523505847</td>\n",
       "      <td>2009</td>\n",
       "    </tr>\n",
       "  </tbody>\n",
       "</table>\n",
       "</div>"
      ],
      "text/plain": [
       "  movie_title    net_USD  title_year\n",
       "0      Avatar  523505847        2009"
      ]
     },
     "execution_count": 16,
     "metadata": {},
     "output_type": "execute_result"
    }
   ],
   "source": [
    "top_1 = data.sort_values('net_USD', ascending=False).head(1)\n",
    "top_1[['movie_title','net_USD','title_year']]"
   ]
  },
  {
   "cell_type": "code",
   "execution_count": null,
   "metadata": {},
   "outputs": [],
   "source": []
  }
 ],
 "metadata": {
  "kernelspec": {
   "display_name": "Python 3",
   "language": "python",
   "name": "python3"
  },
  "language_info": {
   "codemirror_mode": {
    "name": "ipython",
    "version": 3
   },
   "file_extension": ".py",
   "mimetype": "text/x-python",
   "name": "python",
   "nbconvert_exporter": "python",
   "pygments_lexer": "ipython3",
   "version": "3.7.4"
  }
 },
 "nbformat": 4,
 "nbformat_minor": 2
}
