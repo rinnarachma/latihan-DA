{
  "cells": [
    {
      "cell_type": "markdown",
      "metadata": {
        "id": "view-in-github",
        "colab_type": "text"
      },
      "source": [
        "<a href=\"https://colab.research.google.com/github/rinnarachma/latihan-DA/blob/main/Data_Manipulation2.ipynb\" target=\"_parent\"><img src=\"https://colab.research.google.com/assets/colab-badge.svg\" alt=\"Open In Colab\"/></a>"
      ]
    },
    {
      "cell_type": "markdown",
      "metadata": {
        "id": "ZaX-yD5rxfxY"
      },
      "source": [
        "# Manipulation and Transformation"
      ]
    },
    {
      "cell_type": "code",
      "execution_count": 1,
      "metadata": {
        "id": "EoJ1SbcVxfxb"
      },
      "outputs": [],
      "source": [
        "# Mengimport library pandas dan numpy\n",
        "import pandas as pd\n",
        "import numpy as np"
      ]
    },
    {
      "cell_type": "code",
      "source": [
        "!"
      ],
      "metadata": {
        "id": "iJfnKsE4ZdTL"
      },
      "execution_count": 3,
      "outputs": []
    },
    {
      "cell_type": "code",
      "execution_count": null,
      "metadata": {
        "id": "MSIPX9orxfxc",
        "outputId": "63bd557f-b6b5-46b4-eaae-0e8bd79f2a3c"
      },
      "outputs": [
        {
          "data": {
            "text/html": [
              "<div>\n",
              "<style scoped>\n",
              "    .dataframe tbody tr th:only-of-type {\n",
              "        vertical-align: middle;\n",
              "    }\n",
              "\n",
              "    .dataframe tbody tr th {\n",
              "        vertical-align: top;\n",
              "    }\n",
              "\n",
              "    .dataframe thead th {\n",
              "        text-align: right;\n",
              "    }\n",
              "</style>\n",
              "<table border=\"1\" class=\"dataframe\">\n",
              "  <thead>\n",
              "    <tr style=\"text-align: right;\">\n",
              "      <th></th>\n",
              "      <th>No</th>\n",
              "      <th>company</th>\n",
              "      <th>order</th>\n",
              "      <th>qty</th>\n",
              "      <th>unit_price</th>\n",
              "    </tr>\n",
              "  </thead>\n",
              "  <tbody>\n",
              "    <tr>\n",
              "      <td>0</td>\n",
              "      <td>0</td>\n",
              "      <td>Go-Jek</td>\n",
              "      <td>10001</td>\n",
              "      <td>30</td>\n",
              "      <td>30000</td>\n",
              "    </tr>\n",
              "    <tr>\n",
              "      <td>1</td>\n",
              "      <td>1</td>\n",
              "      <td>Grab</td>\n",
              "      <td>10002</td>\n",
              "      <td>23</td>\n",
              "      <td>39000</td>\n",
              "    </tr>\n",
              "    <tr>\n",
              "      <td>2</td>\n",
              "      <td>2</td>\n",
              "      <td>OVO</td>\n",
              "      <td>10004</td>\n",
              "      <td>45</td>\n",
              "      <td>56000</td>\n",
              "    </tr>\n",
              "    <tr>\n",
              "      <td>3</td>\n",
              "      <td>3</td>\n",
              "      <td>Tokopedia</td>\n",
              "      <td>10004</td>\n",
              "      <td>67</td>\n",
              "      <td>39000</td>\n",
              "    </tr>\n",
              "    <tr>\n",
              "      <td>4</td>\n",
              "      <td>4</td>\n",
              "      <td>Bukalapak</td>\n",
              "      <td>10006</td>\n",
              "      <td>34</td>\n",
              "      <td>32800</td>\n",
              "    </tr>\n",
              "    <tr>\n",
              "      <td>5</td>\n",
              "      <td>5</td>\n",
              "      <td>Shopee</td>\n",
              "      <td>10006</td>\n",
              "      <td>23</td>\n",
              "      <td>27890</td>\n",
              "    </tr>\n",
              "  </tbody>\n",
              "</table>\n",
              "</div>"
            ],
            "text/plain": [
              "   No    company  order  qty  unit_price\n",
              "0   0     Go-Jek  10001   30       30000\n",
              "1   1       Grab  10002   23       39000\n",
              "2   2        OVO  10004   45       56000\n",
              "3   3  Tokopedia  10004   67       39000\n",
              "4   4  Bukalapak  10006   34       32800\n",
              "5   5     Shopee  10006   23       27890"
            ]
          },
          "execution_count": 2,
          "metadata": {},
          "output_type": "execute_result"
        }
      ],
      "source": [
        "# Load file startup.csv\n",
        "data = pd.read_csv('startup.csv')\n",
        "data"
      ]
    },
    {
      "cell_type": "code",
      "execution_count": null,
      "metadata": {
        "id": "cxFTcJKZxfxd",
        "outputId": "94116d88-85fc-4f04-fb87-f402221259e4"
      },
      "outputs": [
        {
          "data": {
            "text/html": [
              "<div>\n",
              "<style scoped>\n",
              "    .dataframe tbody tr th:only-of-type {\n",
              "        vertical-align: middle;\n",
              "    }\n",
              "\n",
              "    .dataframe tbody tr th {\n",
              "        vertical-align: top;\n",
              "    }\n",
              "\n",
              "    .dataframe thead th {\n",
              "        text-align: right;\n",
              "    }\n",
              "</style>\n",
              "<table border=\"1\" class=\"dataframe\">\n",
              "  <thead>\n",
              "    <tr style=\"text-align: right;\">\n",
              "      <th></th>\n",
              "      <th>No</th>\n",
              "      <th>company</th>\n",
              "      <th>order</th>\n",
              "      <th>qty</th>\n",
              "      <th>unit_price</th>\n",
              "    </tr>\n",
              "  </thead>\n",
              "  <tbody>\n",
              "    <tr>\n",
              "      <td>0</td>\n",
              "      <td>0</td>\n",
              "      <td>Go-Jek</td>\n",
              "      <td>10001</td>\n",
              "      <td>30</td>\n",
              "      <td>30000</td>\n",
              "    </tr>\n",
              "    <tr>\n",
              "      <td>1</td>\n",
              "      <td>1</td>\n",
              "      <td>Grab</td>\n",
              "      <td>10002</td>\n",
              "      <td>23</td>\n",
              "      <td>39000</td>\n",
              "    </tr>\n",
              "    <tr>\n",
              "      <td>2</td>\n",
              "      <td>2</td>\n",
              "      <td>OVO</td>\n",
              "      <td>10004</td>\n",
              "      <td>45</td>\n",
              "      <td>56000</td>\n",
              "    </tr>\n",
              "    <tr>\n",
              "      <td>3</td>\n",
              "      <td>3</td>\n",
              "      <td>Tokopedia</td>\n",
              "      <td>10004</td>\n",
              "      <td>67</td>\n",
              "      <td>39000</td>\n",
              "    </tr>\n",
              "    <tr>\n",
              "      <td>4</td>\n",
              "      <td>4</td>\n",
              "      <td>Bukalapak</td>\n",
              "      <td>10006</td>\n",
              "      <td>34</td>\n",
              "      <td>32800</td>\n",
              "    </tr>\n",
              "  </tbody>\n",
              "</table>\n",
              "</div>"
            ],
            "text/plain": [
              "   No    company  order  qty  unit_price\n",
              "0   0     Go-Jek  10001   30       30000\n",
              "1   1       Grab  10002   23       39000\n",
              "2   2        OVO  10004   45       56000\n",
              "3   3  Tokopedia  10004   67       39000\n",
              "4   4  Bukalapak  10006   34       32800"
            ]
          },
          "execution_count": 3,
          "metadata": {},
          "output_type": "execute_result"
        }
      ],
      "source": [
        "# Mengubah menjadi Data Frame\n",
        "df = pd.DataFrame(data)\n",
        "df.head()"
      ]
    },
    {
      "cell_type": "code",
      "execution_count": null,
      "metadata": {
        "id": "L3eEPZjrxfxe",
        "outputId": "b2e723fb-f5d5-48e8-e9fd-7afcd16e6dfd"
      },
      "outputs": [
        {
          "data": {
            "text/plain": [
              "(6, 5)"
            ]
          },
          "execution_count": 4,
          "metadata": {},
          "output_type": "execute_result"
        }
      ],
      "source": [
        "# Melihat ukuran dimensi data (baris dan kolom)\n",
        "df.shape"
      ]
    },
    {
      "cell_type": "code",
      "execution_count": null,
      "metadata": {
        "scrolled": true,
        "id": "RIkfPwRHxfxe",
        "outputId": "4bad4e44-ed88-460d-aba4-a04d1fe6f0bf"
      },
      "outputs": [
        {
          "data": {
            "text/html": [
              "<div>\n",
              "<style scoped>\n",
              "    .dataframe tbody tr th:only-of-type {\n",
              "        vertical-align: middle;\n",
              "    }\n",
              "\n",
              "    .dataframe tbody tr th {\n",
              "        vertical-align: top;\n",
              "    }\n",
              "\n",
              "    .dataframe thead th {\n",
              "        text-align: right;\n",
              "    }\n",
              "</style>\n",
              "<table border=\"1\" class=\"dataframe\">\n",
              "  <thead>\n",
              "    <tr style=\"text-align: right;\">\n",
              "      <th></th>\n",
              "      <th>No</th>\n",
              "      <th>company</th>\n",
              "      <th>order</th>\n",
              "      <th>qty</th>\n",
              "      <th>unit_price</th>\n",
              "      <th>price_group</th>\n",
              "    </tr>\n",
              "  </thead>\n",
              "  <tbody>\n",
              "    <tr>\n",
              "      <td>0</td>\n",
              "      <td>0</td>\n",
              "      <td>Go-Jek</td>\n",
              "      <td>10001</td>\n",
              "      <td>30</td>\n",
              "      <td>30000</td>\n",
              "      <td>low</td>\n",
              "    </tr>\n",
              "    <tr>\n",
              "      <td>1</td>\n",
              "      <td>1</td>\n",
              "      <td>Grab</td>\n",
              "      <td>10002</td>\n",
              "      <td>23</td>\n",
              "      <td>39000</td>\n",
              "      <td>high</td>\n",
              "    </tr>\n",
              "    <tr>\n",
              "      <td>2</td>\n",
              "      <td>2</td>\n",
              "      <td>OVO</td>\n",
              "      <td>10004</td>\n",
              "      <td>45</td>\n",
              "      <td>56000</td>\n",
              "      <td>high</td>\n",
              "    </tr>\n",
              "    <tr>\n",
              "      <td>3</td>\n",
              "      <td>3</td>\n",
              "      <td>Tokopedia</td>\n",
              "      <td>10004</td>\n",
              "      <td>67</td>\n",
              "      <td>39000</td>\n",
              "      <td>high</td>\n",
              "    </tr>\n",
              "    <tr>\n",
              "      <td>4</td>\n",
              "      <td>4</td>\n",
              "      <td>Bukalapak</td>\n",
              "      <td>10006</td>\n",
              "      <td>34</td>\n",
              "      <td>32800</td>\n",
              "      <td>low</td>\n",
              "    </tr>\n",
              "    <tr>\n",
              "      <td>5</td>\n",
              "      <td>5</td>\n",
              "      <td>Shopee</td>\n",
              "      <td>10006</td>\n",
              "      <td>23</td>\n",
              "      <td>27890</td>\n",
              "      <td>low</td>\n",
              "    </tr>\n",
              "  </tbody>\n",
              "</table>\n",
              "</div>"
            ],
            "text/plain": [
              "   No    company  order  qty  unit_price price_group\n",
              "0   0     Go-Jek  10001   30       30000         low\n",
              "1   1       Grab  10002   23       39000        high\n",
              "2   2        OVO  10004   45       56000        high\n",
              "3   3  Tokopedia  10004   67       39000        high\n",
              "4   4  Bukalapak  10006   34       32800         low\n",
              "5   5     Shopee  10006   23       27890         low"
            ]
          },
          "execution_count": 5,
          "metadata": {},
          "output_type": "execute_result"
        }
      ],
      "source": [
        "# Membuat kolom baru dengan mengunakan 2 kategori\n",
        "df['price_group'] = np.where(df['unit_price']>=35000, 'high', 'low')\n",
        "df"
      ]
    },
    {
      "cell_type": "markdown",
      "metadata": {
        "id": "NWmHThVExfxe"
      },
      "source": [
        "### Q & A\n",
        "*Bagaimana kalo ingin membuatnya menjadi 3 kategori?*"
      ]
    },
    {
      "cell_type": "code",
      "execution_count": null,
      "metadata": {
        "id": "Q2iepjXCxfxe",
        "outputId": "13a5d159-dfe6-4160-8214-7f3bdbfe014b"
      },
      "outputs": [
        {
          "data": {
            "text/html": [
              "<div>\n",
              "<style scoped>\n",
              "    .dataframe tbody tr th:only-of-type {\n",
              "        vertical-align: middle;\n",
              "    }\n",
              "\n",
              "    .dataframe tbody tr th {\n",
              "        vertical-align: top;\n",
              "    }\n",
              "\n",
              "    .dataframe thead th {\n",
              "        text-align: right;\n",
              "    }\n",
              "</style>\n",
              "<table border=\"1\" class=\"dataframe\">\n",
              "  <thead>\n",
              "    <tr style=\"text-align: right;\">\n",
              "      <th></th>\n",
              "      <th>No</th>\n",
              "      <th>company</th>\n",
              "      <th>order</th>\n",
              "      <th>qty</th>\n",
              "      <th>unit_price</th>\n",
              "      <th>price_group</th>\n",
              "      <th>price_level</th>\n",
              "    </tr>\n",
              "  </thead>\n",
              "  <tbody>\n",
              "    <tr>\n",
              "      <td>0</td>\n",
              "      <td>0</td>\n",
              "      <td>Go-Jek</td>\n",
              "      <td>10001</td>\n",
              "      <td>30</td>\n",
              "      <td>30000</td>\n",
              "      <td>low</td>\n",
              "      <td>low</td>\n",
              "    </tr>\n",
              "    <tr>\n",
              "      <td>1</td>\n",
              "      <td>1</td>\n",
              "      <td>Grab</td>\n",
              "      <td>10002</td>\n",
              "      <td>23</td>\n",
              "      <td>39000</td>\n",
              "      <td>high</td>\n",
              "      <td>medium</td>\n",
              "    </tr>\n",
              "    <tr>\n",
              "      <td>2</td>\n",
              "      <td>2</td>\n",
              "      <td>OVO</td>\n",
              "      <td>10004</td>\n",
              "      <td>45</td>\n",
              "      <td>56000</td>\n",
              "      <td>high</td>\n",
              "      <td>high</td>\n",
              "    </tr>\n",
              "    <tr>\n",
              "      <td>3</td>\n",
              "      <td>3</td>\n",
              "      <td>Tokopedia</td>\n",
              "      <td>10004</td>\n",
              "      <td>67</td>\n",
              "      <td>39000</td>\n",
              "      <td>high</td>\n",
              "      <td>medium</td>\n",
              "    </tr>\n",
              "    <tr>\n",
              "      <td>4</td>\n",
              "      <td>4</td>\n",
              "      <td>Bukalapak</td>\n",
              "      <td>10006</td>\n",
              "      <td>34</td>\n",
              "      <td>32800</td>\n",
              "      <td>low</td>\n",
              "      <td>medium</td>\n",
              "    </tr>\n",
              "    <tr>\n",
              "      <td>5</td>\n",
              "      <td>5</td>\n",
              "      <td>Shopee</td>\n",
              "      <td>10006</td>\n",
              "      <td>23</td>\n",
              "      <td>27890</td>\n",
              "      <td>low</td>\n",
              "      <td>low</td>\n",
              "    </tr>\n",
              "  </tbody>\n",
              "</table>\n",
              "</div>"
            ],
            "text/plain": [
              "   No    company  order  qty  unit_price price_group price_level\n",
              "0   0     Go-Jek  10001   30       30000         low         low\n",
              "1   1       Grab  10002   23       39000        high      medium\n",
              "2   2        OVO  10004   45       56000        high        high\n",
              "3   3  Tokopedia  10004   67       39000        high      medium\n",
              "4   4  Bukalapak  10006   34       32800         low      medium\n",
              "5   5     Shopee  10006   23       27890         low         low"
            ]
          },
          "execution_count": 6,
          "metadata": {},
          "output_type": "execute_result"
        }
      ],
      "source": [
        "# Cara 1 - Menggunakan np.where\n",
        "df['price_level'] = np.where(df['unit_price']>=50000, 'high', (np.where(df['unit_price'] <= 30000, 'low', 'medium')))\n",
        "df"
      ]
    },
    {
      "cell_type": "code",
      "execution_count": null,
      "metadata": {
        "id": "PysDHQK9xfxf",
        "outputId": "55eb8018-798d-4ef9-d961-a082c3adadea"
      },
      "outputs": [
        {
          "data": {
            "text/html": [
              "<div>\n",
              "<style scoped>\n",
              "    .dataframe tbody tr th:only-of-type {\n",
              "        vertical-align: middle;\n",
              "    }\n",
              "\n",
              "    .dataframe tbody tr th {\n",
              "        vertical-align: top;\n",
              "    }\n",
              "\n",
              "    .dataframe thead th {\n",
              "        text-align: right;\n",
              "    }\n",
              "</style>\n",
              "<table border=\"1\" class=\"dataframe\">\n",
              "  <thead>\n",
              "    <tr style=\"text-align: right;\">\n",
              "      <th></th>\n",
              "      <th>No</th>\n",
              "      <th>company</th>\n",
              "      <th>order</th>\n",
              "      <th>qty</th>\n",
              "      <th>unit_price</th>\n",
              "      <th>price_group</th>\n",
              "      <th>price_level</th>\n",
              "      <th>level_harga</th>\n",
              "    </tr>\n",
              "  </thead>\n",
              "  <tbody>\n",
              "    <tr>\n",
              "      <td>0</td>\n",
              "      <td>0</td>\n",
              "      <td>Go-Jek</td>\n",
              "      <td>10001</td>\n",
              "      <td>30</td>\n",
              "      <td>30000</td>\n",
              "      <td>low</td>\n",
              "      <td>low</td>\n",
              "      <td>low</td>\n",
              "    </tr>\n",
              "    <tr>\n",
              "      <td>1</td>\n",
              "      <td>1</td>\n",
              "      <td>Grab</td>\n",
              "      <td>10002</td>\n",
              "      <td>23</td>\n",
              "      <td>39000</td>\n",
              "      <td>high</td>\n",
              "      <td>medium</td>\n",
              "      <td>medium</td>\n",
              "    </tr>\n",
              "    <tr>\n",
              "      <td>2</td>\n",
              "      <td>2</td>\n",
              "      <td>OVO</td>\n",
              "      <td>10004</td>\n",
              "      <td>45</td>\n",
              "      <td>56000</td>\n",
              "      <td>high</td>\n",
              "      <td>high</td>\n",
              "      <td>high</td>\n",
              "    </tr>\n",
              "    <tr>\n",
              "      <td>3</td>\n",
              "      <td>3</td>\n",
              "      <td>Tokopedia</td>\n",
              "      <td>10004</td>\n",
              "      <td>67</td>\n",
              "      <td>39000</td>\n",
              "      <td>high</td>\n",
              "      <td>medium</td>\n",
              "      <td>medium</td>\n",
              "    </tr>\n",
              "    <tr>\n",
              "      <td>4</td>\n",
              "      <td>4</td>\n",
              "      <td>Bukalapak</td>\n",
              "      <td>10006</td>\n",
              "      <td>34</td>\n",
              "      <td>32800</td>\n",
              "      <td>low</td>\n",
              "      <td>medium</td>\n",
              "      <td>medium</td>\n",
              "    </tr>\n",
              "    <tr>\n",
              "      <td>5</td>\n",
              "      <td>5</td>\n",
              "      <td>Shopee</td>\n",
              "      <td>10006</td>\n",
              "      <td>23</td>\n",
              "      <td>27890</td>\n",
              "      <td>low</td>\n",
              "      <td>low</td>\n",
              "      <td>low</td>\n",
              "    </tr>\n",
              "  </tbody>\n",
              "</table>\n",
              "</div>"
            ],
            "text/plain": [
              "   No    company  order  qty  unit_price price_group price_level level_harga\n",
              "0   0     Go-Jek  10001   30       30000         low         low         low\n",
              "1   1       Grab  10002   23       39000        high      medium      medium\n",
              "2   2        OVO  10004   45       56000        high        high        high\n",
              "3   3  Tokopedia  10004   67       39000        high      medium      medium\n",
              "4   4  Bukalapak  10006   34       32800         low      medium      medium\n",
              "5   5     Shopee  10006   23       27890         low         low         low"
            ]
          },
          "execution_count": 7,
          "metadata": {},
          "output_type": "execute_result"
        }
      ],
      "source": [
        "# Cara 2 - Menggunakan np.select\n",
        "conditions  = [ df['unit_price']>=50000, (df['unit_price']<50000) & (df['unit_price']>30000), df['unit_price'] <= 30000]\n",
        "choices     = [ \"high\", 'medium', 'low' ]\n",
        "\n",
        "df[\"level_harga\"] = np.select(conditions, choices, default=np.nan)\n",
        "df"
      ]
    },
    {
      "cell_type": "code",
      "execution_count": null,
      "metadata": {
        "id": "CX3IA7eIxfxf",
        "outputId": "360eef8e-d74c-494a-dc58-514b8a4a8d39"
      },
      "outputs": [
        {
          "data": {
            "text/html": [
              "<div>\n",
              "<style scoped>\n",
              "    .dataframe tbody tr th:only-of-type {\n",
              "        vertical-align: middle;\n",
              "    }\n",
              "\n",
              "    .dataframe tbody tr th {\n",
              "        vertical-align: top;\n",
              "    }\n",
              "\n",
              "    .dataframe thead th {\n",
              "        text-align: right;\n",
              "    }\n",
              "</style>\n",
              "<table border=\"1\" class=\"dataframe\">\n",
              "  <thead>\n",
              "    <tr style=\"text-align: right;\">\n",
              "      <th></th>\n",
              "      <th>No</th>\n",
              "      <th>company</th>\n",
              "      <th>order</th>\n",
              "      <th>qty</th>\n",
              "      <th>unit_price</th>\n",
              "      <th>price_group</th>\n",
              "      <th>price_level</th>\n",
              "      <th>level_harga</th>\n",
              "      <th>level_harga2</th>\n",
              "    </tr>\n",
              "  </thead>\n",
              "  <tbody>\n",
              "    <tr>\n",
              "      <td>0</td>\n",
              "      <td>0</td>\n",
              "      <td>Go-Jek</td>\n",
              "      <td>10001</td>\n",
              "      <td>30</td>\n",
              "      <td>30000</td>\n",
              "      <td>low</td>\n",
              "      <td>low</td>\n",
              "      <td>low</td>\n",
              "      <td>Low</td>\n",
              "    </tr>\n",
              "    <tr>\n",
              "      <td>1</td>\n",
              "      <td>1</td>\n",
              "      <td>Grab</td>\n",
              "      <td>10002</td>\n",
              "      <td>23</td>\n",
              "      <td>39000</td>\n",
              "      <td>high</td>\n",
              "      <td>medium</td>\n",
              "      <td>medium</td>\n",
              "      <td>Medium</td>\n",
              "    </tr>\n",
              "    <tr>\n",
              "      <td>2</td>\n",
              "      <td>2</td>\n",
              "      <td>OVO</td>\n",
              "      <td>10004</td>\n",
              "      <td>45</td>\n",
              "      <td>56000</td>\n",
              "      <td>high</td>\n",
              "      <td>high</td>\n",
              "      <td>high</td>\n",
              "      <td>High</td>\n",
              "    </tr>\n",
              "    <tr>\n",
              "      <td>3</td>\n",
              "      <td>3</td>\n",
              "      <td>Tokopedia</td>\n",
              "      <td>10004</td>\n",
              "      <td>67</td>\n",
              "      <td>39000</td>\n",
              "      <td>high</td>\n",
              "      <td>medium</td>\n",
              "      <td>medium</td>\n",
              "      <td>Medium</td>\n",
              "    </tr>\n",
              "    <tr>\n",
              "      <td>4</td>\n",
              "      <td>4</td>\n",
              "      <td>Bukalapak</td>\n",
              "      <td>10006</td>\n",
              "      <td>34</td>\n",
              "      <td>32800</td>\n",
              "      <td>low</td>\n",
              "      <td>medium</td>\n",
              "      <td>medium</td>\n",
              "      <td>Medium</td>\n",
              "    </tr>\n",
              "    <tr>\n",
              "      <td>5</td>\n",
              "      <td>5</td>\n",
              "      <td>Shopee</td>\n",
              "      <td>10006</td>\n",
              "      <td>23</td>\n",
              "      <td>27890</td>\n",
              "      <td>low</td>\n",
              "      <td>low</td>\n",
              "      <td>low</td>\n",
              "      <td>Low</td>\n",
              "    </tr>\n",
              "  </tbody>\n",
              "</table>\n",
              "</div>"
            ],
            "text/plain": [
              "   No    company  order  qty  unit_price price_group price_level level_harga  \\\n",
              "0   0     Go-Jek  10001   30       30000         low         low         low   \n",
              "1   1       Grab  10002   23       39000        high      medium      medium   \n",
              "2   2        OVO  10004   45       56000        high        high        high   \n",
              "3   3  Tokopedia  10004   67       39000        high      medium      medium   \n",
              "4   4  Bukalapak  10006   34       32800         low      medium      medium   \n",
              "5   5     Shopee  10006   23       27890         low         low         low   \n",
              "\n",
              "  level_harga2  \n",
              "0          Low  \n",
              "1       Medium  \n",
              "2         High  \n",
              "3       Medium  \n",
              "4       Medium  \n",
              "5          Low  "
            ]
          },
          "execution_count": 8,
          "metadata": {},
          "output_type": "execute_result"
        }
      ],
      "source": [
        "# Cara 3 - Menggunakan np.vectorize dan membuat function\n",
        "def level(x):\n",
        "    if x >=50000:\n",
        "        return \"High\"\n",
        "    elif x >30000:\n",
        "        return \"Medium\"\n",
        "    else:\n",
        "        return \"Low\"\n",
        "\n",
        "func = np.vectorize(level)\n",
        "df[\"level_harga2\"] = func(df[\"unit_price\"])\n",
        "df"
      ]
    },
    {
      "cell_type": "code",
      "execution_count": null,
      "metadata": {
        "id": "fX_vuZDrxfxf",
        "outputId": "8080baa6-87a4-4d4a-d729-ab506375e499"
      },
      "outputs": [
        {
          "data": {
            "text/plain": [
              "0       low\n",
              "1    medium\n",
              "2      high\n",
              "3    medium\n",
              "4    medium\n",
              "5       low\n",
              "Name: unit_price, dtype: category\n",
              "Categories (3, object): [low < medium < high]"
            ]
          },
          "execution_count": 9,
          "metadata": {},
          "output_type": "execute_result"
        }
      ],
      "source": [
        "# Cara 4 - Menggunakan pd.cut untuk memisahkan kolom dari data frame\n",
        "import copy\n",
        "df2 = copy.deepcopy(df)\n",
        "df2 = pd.cut(df.unit_price, [0, 30000, 50000, np.inf], labels=['low','medium','high'])\n",
        "df2"
      ]
    },
    {
      "cell_type": "markdown",
      "metadata": {
        "id": "73QIq_Qvxfxg"
      },
      "source": [
        "***"
      ]
    },
    {
      "cell_type": "code",
      "execution_count": null,
      "metadata": {
        "scrolled": true,
        "id": "q7VtXF0Mxfxg",
        "outputId": "e95f8a1a-700a-44aa-e44a-8d44d2f4f4d9"
      },
      "outputs": [
        {
          "data": {
            "text/html": [
              "<div>\n",
              "<style scoped>\n",
              "    .dataframe tbody tr th:only-of-type {\n",
              "        vertical-align: middle;\n",
              "    }\n",
              "\n",
              "    .dataframe tbody tr th {\n",
              "        vertical-align: top;\n",
              "    }\n",
              "\n",
              "    .dataframe thead th {\n",
              "        text-align: right;\n",
              "    }\n",
              "</style>\n",
              "<table border=\"1\" class=\"dataframe\">\n",
              "  <thead>\n",
              "    <tr style=\"text-align: right;\">\n",
              "      <th></th>\n",
              "      <th>No</th>\n",
              "      <th>company</th>\n",
              "      <th>order</th>\n",
              "      <th>qty</th>\n",
              "      <th>unit_price</th>\n",
              "      <th>price_group</th>\n",
              "      <th>price_level</th>\n",
              "      <th>level_harga</th>\n",
              "      <th>level_harga2</th>\n",
              "      <th>total_price</th>\n",
              "      <th>qty_log</th>\n",
              "    </tr>\n",
              "  </thead>\n",
              "  <tbody>\n",
              "    <tr>\n",
              "      <td>0</td>\n",
              "      <td>0</td>\n",
              "      <td>Go-Jek</td>\n",
              "      <td>10001</td>\n",
              "      <td>30</td>\n",
              "      <td>30000</td>\n",
              "      <td>low</td>\n",
              "      <td>low</td>\n",
              "      <td>low</td>\n",
              "      <td>Low</td>\n",
              "      <td>900000</td>\n",
              "      <td>3.401197</td>\n",
              "    </tr>\n",
              "    <tr>\n",
              "      <td>1</td>\n",
              "      <td>1</td>\n",
              "      <td>Grab</td>\n",
              "      <td>10002</td>\n",
              "      <td>23</td>\n",
              "      <td>39000</td>\n",
              "      <td>high</td>\n",
              "      <td>medium</td>\n",
              "      <td>medium</td>\n",
              "      <td>Medium</td>\n",
              "      <td>897000</td>\n",
              "      <td>3.135494</td>\n",
              "    </tr>\n",
              "    <tr>\n",
              "      <td>2</td>\n",
              "      <td>2</td>\n",
              "      <td>OVO</td>\n",
              "      <td>10004</td>\n",
              "      <td>45</td>\n",
              "      <td>56000</td>\n",
              "      <td>high</td>\n",
              "      <td>high</td>\n",
              "      <td>high</td>\n",
              "      <td>High</td>\n",
              "      <td>2520000</td>\n",
              "      <td>3.806662</td>\n",
              "    </tr>\n",
              "    <tr>\n",
              "      <td>3</td>\n",
              "      <td>3</td>\n",
              "      <td>Tokopedia</td>\n",
              "      <td>10004</td>\n",
              "      <td>67</td>\n",
              "      <td>39000</td>\n",
              "      <td>high</td>\n",
              "      <td>medium</td>\n",
              "      <td>medium</td>\n",
              "      <td>Medium</td>\n",
              "      <td>2613000</td>\n",
              "      <td>4.204693</td>\n",
              "    </tr>\n",
              "    <tr>\n",
              "      <td>4</td>\n",
              "      <td>4</td>\n",
              "      <td>Bukalapak</td>\n",
              "      <td>10006</td>\n",
              "      <td>34</td>\n",
              "      <td>32800</td>\n",
              "      <td>low</td>\n",
              "      <td>medium</td>\n",
              "      <td>medium</td>\n",
              "      <td>Medium</td>\n",
              "      <td>1115200</td>\n",
              "      <td>3.526361</td>\n",
              "    </tr>\n",
              "    <tr>\n",
              "      <td>5</td>\n",
              "      <td>5</td>\n",
              "      <td>Shopee</td>\n",
              "      <td>10006</td>\n",
              "      <td>23</td>\n",
              "      <td>27890</td>\n",
              "      <td>low</td>\n",
              "      <td>low</td>\n",
              "      <td>low</td>\n",
              "      <td>Low</td>\n",
              "      <td>641470</td>\n",
              "      <td>3.135494</td>\n",
              "    </tr>\n",
              "  </tbody>\n",
              "</table>\n",
              "</div>"
            ],
            "text/plain": [
              "   No    company  order  qty  unit_price price_group price_level level_harga  \\\n",
              "0   0     Go-Jek  10001   30       30000         low         low         low   \n",
              "1   1       Grab  10002   23       39000        high      medium      medium   \n",
              "2   2        OVO  10004   45       56000        high        high        high   \n",
              "3   3  Tokopedia  10004   67       39000        high      medium      medium   \n",
              "4   4  Bukalapak  10006   34       32800         low      medium      medium   \n",
              "5   5     Shopee  10006   23       27890         low         low         low   \n",
              "\n",
              "  level_harga2  total_price   qty_log  \n",
              "0          Low       900000  3.401197  \n",
              "1       Medium       897000  3.135494  \n",
              "2         High      2520000  3.806662  \n",
              "3       Medium      2613000  4.204693  \n",
              "4       Medium      1115200  3.526361  \n",
              "5          Low       641470  3.135494  "
            ]
          },
          "execution_count": 10,
          "metadata": {},
          "output_type": "execute_result"
        }
      ],
      "source": [
        "# Membuat kolom baru dengan menggunakan komputasi\n",
        "df[\"total_price\"] = df[\"qty\"]*df[\"unit_price\"]\n",
        "df[\"qty_log\"] = np.log(df[\"qty\"])\n",
        "df"
      ]
    },
    {
      "cell_type": "code",
      "execution_count": null,
      "metadata": {
        "id": "wciNwNmixfxg",
        "outputId": "7fbf348a-34bb-4805-c88f-bc43199f18e3"
      },
      "outputs": [
        {
          "data": {
            "text/html": [
              "<div>\n",
              "<style scoped>\n",
              "    .dataframe tbody tr th:only-of-type {\n",
              "        vertical-align: middle;\n",
              "    }\n",
              "\n",
              "    .dataframe tbody tr th {\n",
              "        vertical-align: top;\n",
              "    }\n",
              "\n",
              "    .dataframe thead th {\n",
              "        text-align: right;\n",
              "    }\n",
              "</style>\n",
              "<table border=\"1\" class=\"dataframe\">\n",
              "  <thead>\n",
              "    <tr style=\"text-align: right;\">\n",
              "      <th></th>\n",
              "      <th>No</th>\n",
              "      <th>company</th>\n",
              "      <th>order</th>\n",
              "      <th>qty</th>\n",
              "      <th>unit_price</th>\n",
              "      <th>price_group</th>\n",
              "      <th>price_level</th>\n",
              "      <th>level_harga</th>\n",
              "      <th>level_harga2</th>\n",
              "      <th>total_price</th>\n",
              "      <th>qty_log</th>\n",
              "      <th>qty_log2</th>\n",
              "    </tr>\n",
              "  </thead>\n",
              "  <tbody>\n",
              "    <tr>\n",
              "      <td>0</td>\n",
              "      <td>0</td>\n",
              "      <td>Go-Jek</td>\n",
              "      <td>10001</td>\n",
              "      <td>30</td>\n",
              "      <td>30000</td>\n",
              "      <td>low</td>\n",
              "      <td>low</td>\n",
              "      <td>low</td>\n",
              "      <td>Low</td>\n",
              "      <td>900000</td>\n",
              "      <td>3.401197</td>\n",
              "      <td>3.401197</td>\n",
              "    </tr>\n",
              "    <tr>\n",
              "      <td>1</td>\n",
              "      <td>1</td>\n",
              "      <td>Grab</td>\n",
              "      <td>10002</td>\n",
              "      <td>23</td>\n",
              "      <td>39000</td>\n",
              "      <td>high</td>\n",
              "      <td>medium</td>\n",
              "      <td>medium</td>\n",
              "      <td>Medium</td>\n",
              "      <td>897000</td>\n",
              "      <td>3.135494</td>\n",
              "      <td>3.135494</td>\n",
              "    </tr>\n",
              "    <tr>\n",
              "      <td>2</td>\n",
              "      <td>2</td>\n",
              "      <td>OVO</td>\n",
              "      <td>10004</td>\n",
              "      <td>45</td>\n",
              "      <td>56000</td>\n",
              "      <td>high</td>\n",
              "      <td>high</td>\n",
              "      <td>high</td>\n",
              "      <td>High</td>\n",
              "      <td>2520000</td>\n",
              "      <td>3.806662</td>\n",
              "      <td>3.806662</td>\n",
              "    </tr>\n",
              "    <tr>\n",
              "      <td>3</td>\n",
              "      <td>3</td>\n",
              "      <td>Tokopedia</td>\n",
              "      <td>10004</td>\n",
              "      <td>67</td>\n",
              "      <td>39000</td>\n",
              "      <td>high</td>\n",
              "      <td>medium</td>\n",
              "      <td>medium</td>\n",
              "      <td>Medium</td>\n",
              "      <td>2613000</td>\n",
              "      <td>4.204693</td>\n",
              "      <td>4.204693</td>\n",
              "    </tr>\n",
              "    <tr>\n",
              "      <td>4</td>\n",
              "      <td>4</td>\n",
              "      <td>Bukalapak</td>\n",
              "      <td>10006</td>\n",
              "      <td>34</td>\n",
              "      <td>32800</td>\n",
              "      <td>low</td>\n",
              "      <td>medium</td>\n",
              "      <td>medium</td>\n",
              "      <td>Medium</td>\n",
              "      <td>1115200</td>\n",
              "      <td>3.526361</td>\n",
              "      <td>3.526361</td>\n",
              "    </tr>\n",
              "    <tr>\n",
              "      <td>5</td>\n",
              "      <td>5</td>\n",
              "      <td>Shopee</td>\n",
              "      <td>10006</td>\n",
              "      <td>23</td>\n",
              "      <td>27890</td>\n",
              "      <td>low</td>\n",
              "      <td>low</td>\n",
              "      <td>low</td>\n",
              "      <td>Low</td>\n",
              "      <td>641470</td>\n",
              "      <td>3.135494</td>\n",
              "      <td>3.135494</td>\n",
              "    </tr>\n",
              "  </tbody>\n",
              "</table>\n",
              "</div>"
            ],
            "text/plain": [
              "   No    company  order  qty  unit_price price_group price_level level_harga  \\\n",
              "0   0     Go-Jek  10001   30       30000         low         low         low   \n",
              "1   1       Grab  10002   23       39000        high      medium      medium   \n",
              "2   2        OVO  10004   45       56000        high        high        high   \n",
              "3   3  Tokopedia  10004   67       39000        high      medium      medium   \n",
              "4   4  Bukalapak  10006   34       32800         low      medium      medium   \n",
              "5   5     Shopee  10006   23       27890         low         low         low   \n",
              "\n",
              "  level_harga2  total_price   qty_log  qty_log2  \n",
              "0          Low       900000  3.401197  3.401197  \n",
              "1       Medium       897000  3.135494  3.135494  \n",
              "2         High      2520000  3.806662  3.806662  \n",
              "3       Medium      2613000  4.204693  4.204693  \n",
              "4       Medium      1115200  3.526361  3.526361  \n",
              "5          Low       641470  3.135494  3.135494  "
            ]
          },
          "execution_count": 11,
          "metadata": {},
          "output_type": "execute_result"
        }
      ],
      "source": [
        "# Membuat kolom dengan menggunakan fungsi 'transform'\n",
        "df[\"qty_log2\"] = df['qty'].transform(lambda x: np.log(x))\n",
        "df"
      ]
    },
    {
      "cell_type": "code",
      "execution_count": null,
      "metadata": {
        "scrolled": true,
        "id": "1-x_cs9-xfxh",
        "outputId": "0a8d513d-7a3b-4271-f86f-64f01e8d49f9"
      },
      "outputs": [
        {
          "data": {
            "text/plain": [
              "37.0"
            ]
          },
          "execution_count": 12,
          "metadata": {},
          "output_type": "execute_result"
        }
      ],
      "source": [
        "# Melihat rata-rata pada kolom tertentu\n",
        "df['qty'].mean()"
      ]
    },
    {
      "cell_type": "code",
      "execution_count": null,
      "metadata": {
        "scrolled": true,
        "id": "T6kgzZ6sxfxh",
        "outputId": "8b14089d-249d-48d1-ee01-a13d6a17f2aa"
      },
      "outputs": [
        {
          "data": {
            "text/plain": [
              "0    1.000000\n",
              "1    1.000000\n",
              "2    0.803571\n",
              "3    1.196429\n",
              "4    1.192982\n",
              "5    0.807018\n",
              "Name: qty, dtype: float64"
            ]
          },
          "execution_count": 13,
          "metadata": {},
          "output_type": "execute_result"
        }
      ],
      "source": [
        "# Membuat kolom dengan menggunakan fungsi 'transform'\n",
        "df.groupby('order')['qty'].transform(lambda x: x/x.mean())"
      ]
    },
    {
      "cell_type": "markdown",
      "metadata": {
        "id": "9zdVJ5Z5xfxh"
      },
      "source": [
        "## Split Data Numeric & Data Categorical"
      ]
    },
    {
      "cell_type": "code",
      "execution_count": null,
      "metadata": {
        "scrolled": true,
        "id": "MrdLuB4dxfxh",
        "outputId": "dadc170b-fc00-40b5-fb82-b17b94337c58"
      },
      "outputs": [
        {
          "data": {
            "text/plain": [
              "{'No', 'order', 'qty', 'qty_log', 'qty_log2', 'total_price', 'unit_price'}"
            ]
          },
          "execution_count": 14,
          "metadata": {},
          "output_type": "execute_result"
        }
      ],
      "source": [
        "# Memilih Kolom Numerik\n",
        "numeric = set(df._get_numeric_data().columns.values)\n",
        "numeric"
      ]
    },
    {
      "cell_type": "code",
      "execution_count": null,
      "metadata": {
        "id": "T2mW_2uixfxh",
        "outputId": "436b2cdb-fce1-4f5a-fc8d-b36e7190c350"
      },
      "outputs": [
        {
          "data": {
            "text/html": [
              "<div>\n",
              "<style scoped>\n",
              "    .dataframe tbody tr th:only-of-type {\n",
              "        vertical-align: middle;\n",
              "    }\n",
              "\n",
              "    .dataframe tbody tr th {\n",
              "        vertical-align: top;\n",
              "    }\n",
              "\n",
              "    .dataframe thead th {\n",
              "        text-align: right;\n",
              "    }\n",
              "</style>\n",
              "<table border=\"1\" class=\"dataframe\">\n",
              "  <thead>\n",
              "    <tr style=\"text-align: right;\">\n",
              "      <th></th>\n",
              "      <th>No</th>\n",
              "      <th>company</th>\n",
              "      <th>order</th>\n",
              "      <th>qty</th>\n",
              "      <th>unit_price</th>\n",
              "      <th>price_group</th>\n",
              "      <th>price_level</th>\n",
              "      <th>level_harga</th>\n",
              "      <th>level_harga2</th>\n",
              "      <th>total_price</th>\n",
              "      <th>qty_log</th>\n",
              "      <th>qty_log2</th>\n",
              "    </tr>\n",
              "  </thead>\n",
              "  <tbody>\n",
              "    <tr>\n",
              "      <td>0</td>\n",
              "      <td>0</td>\n",
              "      <td>Go-Jek</td>\n",
              "      <td>10001</td>\n",
              "      <td>30</td>\n",
              "      <td>30000</td>\n",
              "      <td>low</td>\n",
              "      <td>low</td>\n",
              "      <td>low</td>\n",
              "      <td>Low</td>\n",
              "      <td>900000</td>\n",
              "      <td>3.401197</td>\n",
              "      <td>3.401197</td>\n",
              "    </tr>\n",
              "    <tr>\n",
              "      <td>1</td>\n",
              "      <td>1</td>\n",
              "      <td>Grab</td>\n",
              "      <td>10002</td>\n",
              "      <td>23</td>\n",
              "      <td>39000</td>\n",
              "      <td>high</td>\n",
              "      <td>medium</td>\n",
              "      <td>medium</td>\n",
              "      <td>Medium</td>\n",
              "      <td>897000</td>\n",
              "      <td>3.135494</td>\n",
              "      <td>3.135494</td>\n",
              "    </tr>\n",
              "    <tr>\n",
              "      <td>2</td>\n",
              "      <td>2</td>\n",
              "      <td>OVO</td>\n",
              "      <td>10004</td>\n",
              "      <td>45</td>\n",
              "      <td>56000</td>\n",
              "      <td>high</td>\n",
              "      <td>high</td>\n",
              "      <td>high</td>\n",
              "      <td>High</td>\n",
              "      <td>2520000</td>\n",
              "      <td>3.806662</td>\n",
              "      <td>3.806662</td>\n",
              "    </tr>\n",
              "    <tr>\n",
              "      <td>3</td>\n",
              "      <td>3</td>\n",
              "      <td>Tokopedia</td>\n",
              "      <td>10004</td>\n",
              "      <td>67</td>\n",
              "      <td>39000</td>\n",
              "      <td>high</td>\n",
              "      <td>medium</td>\n",
              "      <td>medium</td>\n",
              "      <td>Medium</td>\n",
              "      <td>2613000</td>\n",
              "      <td>4.204693</td>\n",
              "      <td>4.204693</td>\n",
              "    </tr>\n",
              "    <tr>\n",
              "      <td>4</td>\n",
              "      <td>4</td>\n",
              "      <td>Bukalapak</td>\n",
              "      <td>10006</td>\n",
              "      <td>34</td>\n",
              "      <td>32800</td>\n",
              "      <td>low</td>\n",
              "      <td>medium</td>\n",
              "      <td>medium</td>\n",
              "      <td>Medium</td>\n",
              "      <td>1115200</td>\n",
              "      <td>3.526361</td>\n",
              "      <td>3.526361</td>\n",
              "    </tr>\n",
              "    <tr>\n",
              "      <td>5</td>\n",
              "      <td>5</td>\n",
              "      <td>Shopee</td>\n",
              "      <td>10006</td>\n",
              "      <td>23</td>\n",
              "      <td>27890</td>\n",
              "      <td>low</td>\n",
              "      <td>low</td>\n",
              "      <td>low</td>\n",
              "      <td>Low</td>\n",
              "      <td>641470</td>\n",
              "      <td>3.135494</td>\n",
              "      <td>3.135494</td>\n",
              "    </tr>\n",
              "  </tbody>\n",
              "</table>\n",
              "</div>"
            ],
            "text/plain": [
              "   No    company  order  qty  unit_price price_group price_level level_harga  \\\n",
              "0   0     Go-Jek  10001   30       30000         low         low         low   \n",
              "1   1       Grab  10002   23       39000        high      medium      medium   \n",
              "2   2        OVO  10004   45       56000        high        high        high   \n",
              "3   3  Tokopedia  10004   67       39000        high      medium      medium   \n",
              "4   4  Bukalapak  10006   34       32800         low      medium      medium   \n",
              "5   5     Shopee  10006   23       27890         low         low         low   \n",
              "\n",
              "  level_harga2  total_price   qty_log  qty_log2  \n",
              "0          Low       900000  3.401197  3.401197  \n",
              "1       Medium       897000  3.135494  3.135494  \n",
              "2         High      2520000  3.806662  3.806662  \n",
              "3       Medium      2613000  4.204693  4.204693  \n",
              "4       Medium      1115200  3.526361  3.526361  \n",
              "5          Low       641470  3.135494  3.135494  "
            ]
          },
          "execution_count": 15,
          "metadata": {},
          "output_type": "execute_result"
        }
      ],
      "source": [
        "df"
      ]
    },
    {
      "cell_type": "code",
      "execution_count": null,
      "metadata": {
        "id": "02W1Wf_zxfxi",
        "outputId": "5e3a215d-842c-4c6c-f44f-c2bcecee0a64"
      },
      "outputs": [
        {
          "data": {
            "text/plain": [
              "Index(['No', 'order', 'qty', 'unit_price', 'total_price', 'qty_log',\n",
              "       'qty_log2'],\n",
              "      dtype='object')"
            ]
          },
          "execution_count": 16,
          "metadata": {},
          "output_type": "execute_result"
        }
      ],
      "source": [
        "# Memilih Kolom Numerik\n",
        "# Note: cara ini lebih efektif\n",
        "num = df.select_dtypes(include=[np.number])\n",
        "num.columns"
      ]
    },
    {
      "cell_type": "code",
      "execution_count": null,
      "metadata": {
        "scrolled": true,
        "id": "0_6Duaoaxfxi",
        "outputId": "f99cf7a4-0488-4dc4-d23e-1c9c4bc64fef"
      },
      "outputs": [
        {
          "data": {
            "text/html": [
              "<div>\n",
              "<style scoped>\n",
              "    .dataframe tbody tr th:only-of-type {\n",
              "        vertical-align: middle;\n",
              "    }\n",
              "\n",
              "    .dataframe tbody tr th {\n",
              "        vertical-align: top;\n",
              "    }\n",
              "\n",
              "    .dataframe thead th {\n",
              "        text-align: right;\n",
              "    }\n",
              "</style>\n",
              "<table border=\"1\" class=\"dataframe\">\n",
              "  <thead>\n",
              "    <tr style=\"text-align: right;\">\n",
              "      <th></th>\n",
              "      <th>No</th>\n",
              "      <th>order</th>\n",
              "      <th>qty</th>\n",
              "      <th>unit_price</th>\n",
              "      <th>total_price</th>\n",
              "      <th>qty_log</th>\n",
              "      <th>qty_log2</th>\n",
              "    </tr>\n",
              "  </thead>\n",
              "  <tbody>\n",
              "    <tr>\n",
              "      <td>0</td>\n",
              "      <td>0</td>\n",
              "      <td>10001</td>\n",
              "      <td>30</td>\n",
              "      <td>30000</td>\n",
              "      <td>900000</td>\n",
              "      <td>3.401197</td>\n",
              "      <td>3.401197</td>\n",
              "    </tr>\n",
              "    <tr>\n",
              "      <td>1</td>\n",
              "      <td>1</td>\n",
              "      <td>10002</td>\n",
              "      <td>23</td>\n",
              "      <td>39000</td>\n",
              "      <td>897000</td>\n",
              "      <td>3.135494</td>\n",
              "      <td>3.135494</td>\n",
              "    </tr>\n",
              "    <tr>\n",
              "      <td>2</td>\n",
              "      <td>2</td>\n",
              "      <td>10004</td>\n",
              "      <td>45</td>\n",
              "      <td>56000</td>\n",
              "      <td>2520000</td>\n",
              "      <td>3.806662</td>\n",
              "      <td>3.806662</td>\n",
              "    </tr>\n",
              "    <tr>\n",
              "      <td>3</td>\n",
              "      <td>3</td>\n",
              "      <td>10004</td>\n",
              "      <td>67</td>\n",
              "      <td>39000</td>\n",
              "      <td>2613000</td>\n",
              "      <td>4.204693</td>\n",
              "      <td>4.204693</td>\n",
              "    </tr>\n",
              "    <tr>\n",
              "      <td>4</td>\n",
              "      <td>4</td>\n",
              "      <td>10006</td>\n",
              "      <td>34</td>\n",
              "      <td>32800</td>\n",
              "      <td>1115200</td>\n",
              "      <td>3.526361</td>\n",
              "      <td>3.526361</td>\n",
              "    </tr>\n",
              "    <tr>\n",
              "      <td>5</td>\n",
              "      <td>5</td>\n",
              "      <td>10006</td>\n",
              "      <td>23</td>\n",
              "      <td>27890</td>\n",
              "      <td>641470</td>\n",
              "      <td>3.135494</td>\n",
              "      <td>3.135494</td>\n",
              "    </tr>\n",
              "  </tbody>\n",
              "</table>\n",
              "</div>"
            ],
            "text/plain": [
              "   No  order  qty  unit_price  total_price   qty_log  qty_log2\n",
              "0   0  10001   30       30000       900000  3.401197  3.401197\n",
              "1   1  10002   23       39000       897000  3.135494  3.135494\n",
              "2   2  10004   45       56000      2520000  3.806662  3.806662\n",
              "3   3  10004   67       39000      2613000  4.204693  4.204693\n",
              "4   4  10006   34       32800      1115200  3.526361  3.526361\n",
              "5   5  10006   23       27890       641470  3.135494  3.135494"
            ]
          },
          "execution_count": 17,
          "metadata": {},
          "output_type": "execute_result"
        }
      ],
      "source": [
        "# Mengecek Tipe Data Numerik\n",
        "num"
      ]
    },
    {
      "cell_type": "code",
      "execution_count": null,
      "metadata": {
        "id": "Furi6o1Sxfxi",
        "outputId": "4c19179a-2c69-4164-dc6c-982cd2129b40"
      },
      "outputs": [
        {
          "data": {
            "text/plain": [
              "Index(['company', 'price_group', 'price_level', 'level_harga', 'level_harga2'], dtype='object')"
            ]
          },
          "execution_count": 18,
          "metadata": {},
          "output_type": "execute_result"
        }
      ],
      "source": [
        "# Memilih Kolom Kategorik\n",
        "categ = df.select_dtypes(exclude=[np.number])\n",
        "categ.columns"
      ]
    },
    {
      "cell_type": "code",
      "execution_count": null,
      "metadata": {
        "id": "ebT1zGdMxfxi",
        "outputId": "5597ecd8-af82-4661-fa7e-65ea9b207efe"
      },
      "outputs": [
        {
          "data": {
            "text/html": [
              "<div>\n",
              "<style scoped>\n",
              "    .dataframe tbody tr th:only-of-type {\n",
              "        vertical-align: middle;\n",
              "    }\n",
              "\n",
              "    .dataframe tbody tr th {\n",
              "        vertical-align: top;\n",
              "    }\n",
              "\n",
              "    .dataframe thead th {\n",
              "        text-align: right;\n",
              "    }\n",
              "</style>\n",
              "<table border=\"1\" class=\"dataframe\">\n",
              "  <thead>\n",
              "    <tr style=\"text-align: right;\">\n",
              "      <th></th>\n",
              "      <th>company</th>\n",
              "      <th>price_group</th>\n",
              "      <th>price_level</th>\n",
              "      <th>level_harga</th>\n",
              "      <th>level_harga2</th>\n",
              "    </tr>\n",
              "  </thead>\n",
              "  <tbody>\n",
              "    <tr>\n",
              "      <td>0</td>\n",
              "      <td>Go-Jek</td>\n",
              "      <td>low</td>\n",
              "      <td>low</td>\n",
              "      <td>low</td>\n",
              "      <td>Low</td>\n",
              "    </tr>\n",
              "    <tr>\n",
              "      <td>1</td>\n",
              "      <td>Grab</td>\n",
              "      <td>high</td>\n",
              "      <td>medium</td>\n",
              "      <td>medium</td>\n",
              "      <td>Medium</td>\n",
              "    </tr>\n",
              "    <tr>\n",
              "      <td>2</td>\n",
              "      <td>OVO</td>\n",
              "      <td>high</td>\n",
              "      <td>high</td>\n",
              "      <td>high</td>\n",
              "      <td>High</td>\n",
              "    </tr>\n",
              "    <tr>\n",
              "      <td>3</td>\n",
              "      <td>Tokopedia</td>\n",
              "      <td>high</td>\n",
              "      <td>medium</td>\n",
              "      <td>medium</td>\n",
              "      <td>Medium</td>\n",
              "    </tr>\n",
              "    <tr>\n",
              "      <td>4</td>\n",
              "      <td>Bukalapak</td>\n",
              "      <td>low</td>\n",
              "      <td>medium</td>\n",
              "      <td>medium</td>\n",
              "      <td>Medium</td>\n",
              "    </tr>\n",
              "    <tr>\n",
              "      <td>5</td>\n",
              "      <td>Shopee</td>\n",
              "      <td>low</td>\n",
              "      <td>low</td>\n",
              "      <td>low</td>\n",
              "      <td>Low</td>\n",
              "    </tr>\n",
              "  </tbody>\n",
              "</table>\n",
              "</div>"
            ],
            "text/plain": [
              "     company price_group price_level level_harga level_harga2\n",
              "0     Go-Jek         low         low         low          Low\n",
              "1       Grab        high      medium      medium       Medium\n",
              "2        OVO        high        high        high         High\n",
              "3  Tokopedia        high      medium      medium       Medium\n",
              "4  Bukalapak         low      medium      medium       Medium\n",
              "5     Shopee         low         low         low          Low"
            ]
          },
          "execution_count": 19,
          "metadata": {},
          "output_type": "execute_result"
        }
      ],
      "source": [
        "# Mengecek Tipe Data Kategorik\n",
        "categ"
      ]
    },
    {
      "cell_type": "code",
      "execution_count": null,
      "metadata": {
        "id": "vK6OP50Kxfxi",
        "outputId": "ab3dcf67-0617-415f-f234-4ab547c5d426"
      },
      "outputs": [
        {
          "data": {
            "text/html": [
              "<div>\n",
              "<style scoped>\n",
              "    .dataframe tbody tr th:only-of-type {\n",
              "        vertical-align: middle;\n",
              "    }\n",
              "\n",
              "    .dataframe tbody tr th {\n",
              "        vertical-align: top;\n",
              "    }\n",
              "\n",
              "    .dataframe thead th {\n",
              "        text-align: right;\n",
              "    }\n",
              "</style>\n",
              "<table border=\"1\" class=\"dataframe\">\n",
              "  <thead>\n",
              "    <tr style=\"text-align: right;\">\n",
              "      <th></th>\n",
              "      <th>order</th>\n",
              "      <th>qty</th>\n",
              "      <th>unit_price</th>\n",
              "      <th>total_price</th>\n",
              "      <th>qty_log</th>\n",
              "      <th>qty_log2</th>\n",
              "    </tr>\n",
              "  </thead>\n",
              "  <tbody>\n",
              "    <tr>\n",
              "      <td>0</td>\n",
              "      <td>10001</td>\n",
              "      <td>30</td>\n",
              "      <td>30000</td>\n",
              "      <td>900000</td>\n",
              "      <td>3.401197</td>\n",
              "      <td>3.401197</td>\n",
              "    </tr>\n",
              "    <tr>\n",
              "      <td>1</td>\n",
              "      <td>10002</td>\n",
              "      <td>23</td>\n",
              "      <td>39000</td>\n",
              "      <td>897000</td>\n",
              "      <td>3.135494</td>\n",
              "      <td>3.135494</td>\n",
              "    </tr>\n",
              "    <tr>\n",
              "      <td>2</td>\n",
              "      <td>10004</td>\n",
              "      <td>45</td>\n",
              "      <td>56000</td>\n",
              "      <td>2520000</td>\n",
              "      <td>3.806662</td>\n",
              "      <td>3.806662</td>\n",
              "    </tr>\n",
              "    <tr>\n",
              "      <td>3</td>\n",
              "      <td>10004</td>\n",
              "      <td>67</td>\n",
              "      <td>39000</td>\n",
              "      <td>2613000</td>\n",
              "      <td>4.204693</td>\n",
              "      <td>4.204693</td>\n",
              "    </tr>\n",
              "    <tr>\n",
              "      <td>4</td>\n",
              "      <td>10006</td>\n",
              "      <td>34</td>\n",
              "      <td>32800</td>\n",
              "      <td>1115200</td>\n",
              "      <td>3.526361</td>\n",
              "      <td>3.526361</td>\n",
              "    </tr>\n",
              "    <tr>\n",
              "      <td>5</td>\n",
              "      <td>10006</td>\n",
              "      <td>23</td>\n",
              "      <td>27890</td>\n",
              "      <td>641470</td>\n",
              "      <td>3.135494</td>\n",
              "      <td>3.135494</td>\n",
              "    </tr>\n",
              "  </tbody>\n",
              "</table>\n",
              "</div>"
            ],
            "text/plain": [
              "   order  qty  unit_price  total_price   qty_log  qty_log2\n",
              "0  10001   30       30000       900000  3.401197  3.401197\n",
              "1  10002   23       39000       897000  3.135494  3.135494\n",
              "2  10004   45       56000      2520000  3.806662  3.806662\n",
              "3  10004   67       39000      2613000  4.204693  4.204693\n",
              "4  10006   34       32800      1115200  3.526361  3.526361\n",
              "5  10006   23       27890       641470  3.135494  3.135494"
            ]
          },
          "execution_count": 20,
          "metadata": {},
          "output_type": "execute_result"
        }
      ],
      "source": [
        "# Hapus kolom yang tidak diperlukan dari data frame num\n",
        "num = num.drop(columns = 'No')\n",
        "num"
      ]
    },
    {
      "cell_type": "code",
      "execution_count": null,
      "metadata": {
        "id": "FLcN9M63xfxj",
        "outputId": "7c249db8-c4d4-46a5-d86c-9a0b1d1210a3"
      },
      "outputs": [
        {
          "data": {
            "text/html": [
              "<div>\n",
              "<style scoped>\n",
              "    .dataframe tbody tr th:only-of-type {\n",
              "        vertical-align: middle;\n",
              "    }\n",
              "\n",
              "    .dataframe tbody tr th {\n",
              "        vertical-align: top;\n",
              "    }\n",
              "\n",
              "    .dataframe thead th {\n",
              "        text-align: right;\n",
              "    }\n",
              "</style>\n",
              "<table border=\"1\" class=\"dataframe\">\n",
              "  <thead>\n",
              "    <tr style=\"text-align: right;\">\n",
              "      <th></th>\n",
              "      <th>total_price</th>\n",
              "      <th>unit_price</th>\n",
              "      <th>qty</th>\n",
              "      <th>qty_log2</th>\n",
              "      <th>order</th>\n",
              "      <th>qty_log</th>\n",
              "    </tr>\n",
              "  </thead>\n",
              "  <tbody>\n",
              "    <tr>\n",
              "      <td>0</td>\n",
              "      <td>900000</td>\n",
              "      <td>30000</td>\n",
              "      <td>30</td>\n",
              "      <td>3.401197</td>\n",
              "      <td>10001</td>\n",
              "      <td>3.401197</td>\n",
              "    </tr>\n",
              "    <tr>\n",
              "      <td>1</td>\n",
              "      <td>897000</td>\n",
              "      <td>39000</td>\n",
              "      <td>23</td>\n",
              "      <td>3.135494</td>\n",
              "      <td>10002</td>\n",
              "      <td>3.135494</td>\n",
              "    </tr>\n",
              "    <tr>\n",
              "      <td>2</td>\n",
              "      <td>2520000</td>\n",
              "      <td>56000</td>\n",
              "      <td>45</td>\n",
              "      <td>3.806662</td>\n",
              "      <td>10004</td>\n",
              "      <td>3.806662</td>\n",
              "    </tr>\n",
              "    <tr>\n",
              "      <td>3</td>\n",
              "      <td>2613000</td>\n",
              "      <td>39000</td>\n",
              "      <td>67</td>\n",
              "      <td>4.204693</td>\n",
              "      <td>10004</td>\n",
              "      <td>4.204693</td>\n",
              "    </tr>\n",
              "    <tr>\n",
              "      <td>4</td>\n",
              "      <td>1115200</td>\n",
              "      <td>32800</td>\n",
              "      <td>34</td>\n",
              "      <td>3.526361</td>\n",
              "      <td>10006</td>\n",
              "      <td>3.526361</td>\n",
              "    </tr>\n",
              "    <tr>\n",
              "      <td>5</td>\n",
              "      <td>641470</td>\n",
              "      <td>27890</td>\n",
              "      <td>23</td>\n",
              "      <td>3.135494</td>\n",
              "      <td>10006</td>\n",
              "      <td>3.135494</td>\n",
              "    </tr>\n",
              "  </tbody>\n",
              "</table>\n",
              "</div>"
            ],
            "text/plain": [
              "   total_price  unit_price  qty  qty_log2  order   qty_log\n",
              "0       900000       30000   30  3.401197  10001  3.401197\n",
              "1       897000       39000   23  3.135494  10002  3.135494\n",
              "2      2520000       56000   45  3.806662  10004  3.806662\n",
              "3      2613000       39000   67  4.204693  10004  4.204693\n",
              "4      1115200       32800   34  3.526361  10006  3.526361\n",
              "5       641470       27890   23  3.135494  10006  3.135494"
            ]
          },
          "execution_count": 21,
          "metadata": {},
          "output_type": "execute_result"
        }
      ],
      "source": [
        "# Hapus kolom yang tidak diperlukan dari data frame df\n",
        "df_num = df[numeric]\n",
        "df_num = df_num.drop(columns = 'No')\n",
        "df_num"
      ]
    },
    {
      "cell_type": "code",
      "execution_count": null,
      "metadata": {
        "id": "YCOVY1SYxfxj",
        "outputId": "0f308335-e9a1-435a-92d9-9a898c57ca98"
      },
      "outputs": [
        {
          "data": {
            "text/plain": [
              "Index(['total_price', 'unit_price', 'qty', 'qty_log2', 'order', 'qty_log'], dtype='object')"
            ]
          },
          "execution_count": 22,
          "metadata": {},
          "output_type": "execute_result"
        }
      ],
      "source": [
        "# Mengecek kolom\n",
        "df_num.columns"
      ]
    },
    {
      "cell_type": "markdown",
      "metadata": {
        "id": "eX7wuuvZxfxj"
      },
      "source": [
        "## Normalisasi"
      ]
    },
    {
      "cell_type": "code",
      "execution_count": null,
      "metadata": {
        "id": "SqNAfJyDxfxj"
      },
      "outputs": [],
      "source": [
        "from sklearn import preprocessing"
      ]
    },
    {
      "cell_type": "code",
      "execution_count": null,
      "metadata": {
        "id": "lG2rftZIxfxj",
        "outputId": "903c8071-9ed5-4e1d-bb61-5af3a551fef8"
      },
      "outputs": [
        {
          "data": {
            "text/plain": [
              "MinMaxScaler(copy=True, feature_range=(0, 1))"
            ]
          },
          "execution_count": 24,
          "metadata": {},
          "output_type": "execute_result"
        }
      ],
      "source": [
        "# Normalisasi MinMax ke Skala 0-1 (menggunakan 'preprocessing' method dari scikit)\n",
        "min_max_scaler = preprocessing.MinMaxScaler()\n",
        "min_max_scaler"
      ]
    },
    {
      "cell_type": "code",
      "execution_count": null,
      "metadata": {
        "id": "p4HIoOUxxfxj",
        "outputId": "a09283d1-859c-42d8-deb0-1c0beac832f0"
      },
      "outputs": [
        {
          "data": {
            "text/plain": [
              "array([[0.13113166, 0.07506226, 0.15909091, 0.24850689, 0.        ,\n",
              "        0.24850689],\n",
              "       [0.12961   , 0.39523301, 0.        , 0.        , 0.2       ,\n",
              "        0.        ],\n",
              "       [0.95282851, 1.        , 0.5       , 0.62773034, 0.6       ,\n",
              "        0.62773034],\n",
              "       [1.        , 0.39523301, 1.        , 1.        , 0.6       ,\n",
              "        1.        ],\n",
              "       [0.24028546, 0.17467094, 0.25      , 0.36556948, 1.        ,\n",
              "        0.36556948],\n",
              "       [0.        , 0.        , 0.        , 0.        , 1.        ,\n",
              "        0.        ]])"
            ]
          },
          "execution_count": 25,
          "metadata": {},
          "output_type": "execute_result"
        }
      ],
      "source": [
        "# Fitting Normalisasi\n",
        "np_scaled = min_max_scaler.fit_transform(df_num)\n",
        "np_scaled"
      ]
    },
    {
      "cell_type": "code",
      "execution_count": null,
      "metadata": {
        "id": "ZhJUhtGNxfxk"
      },
      "outputs": [],
      "source": [
        "# Membuat data frame dari hasil normalisasi dengan kolom yang sama\n",
        "df_normalized = pd.DataFrame(np_scaled)\n",
        "df_normalized.columns = ['total_price', 'qty_log2', 'order', 'qty', 'unit_price', 'qty_log']"
      ]
    },
    {
      "cell_type": "code",
      "execution_count": null,
      "metadata": {
        "id": "kBnBHPiSxfxk",
        "outputId": "b763f739-b4eb-454d-ce07-7b16898d81cd"
      },
      "outputs": [
        {
          "data": {
            "text/html": [
              "<div>\n",
              "<style scoped>\n",
              "    .dataframe tbody tr th:only-of-type {\n",
              "        vertical-align: middle;\n",
              "    }\n",
              "\n",
              "    .dataframe tbody tr th {\n",
              "        vertical-align: top;\n",
              "    }\n",
              "\n",
              "    .dataframe thead th {\n",
              "        text-align: right;\n",
              "    }\n",
              "</style>\n",
              "<table border=\"1\" class=\"dataframe\">\n",
              "  <thead>\n",
              "    <tr style=\"text-align: right;\">\n",
              "      <th></th>\n",
              "      <th>total_price</th>\n",
              "      <th>qty_log2</th>\n",
              "      <th>order</th>\n",
              "      <th>qty</th>\n",
              "      <th>unit_price</th>\n",
              "      <th>qty_log</th>\n",
              "    </tr>\n",
              "  </thead>\n",
              "  <tbody>\n",
              "    <tr>\n",
              "      <td>0</td>\n",
              "      <td>0.131132</td>\n",
              "      <td>0.075062</td>\n",
              "      <td>0.159091</td>\n",
              "      <td>0.248507</td>\n",
              "      <td>0.0</td>\n",
              "      <td>0.248507</td>\n",
              "    </tr>\n",
              "    <tr>\n",
              "      <td>1</td>\n",
              "      <td>0.129610</td>\n",
              "      <td>0.395233</td>\n",
              "      <td>0.000000</td>\n",
              "      <td>0.000000</td>\n",
              "      <td>0.2</td>\n",
              "      <td>0.000000</td>\n",
              "    </tr>\n",
              "    <tr>\n",
              "      <td>2</td>\n",
              "      <td>0.952829</td>\n",
              "      <td>1.000000</td>\n",
              "      <td>0.500000</td>\n",
              "      <td>0.627730</td>\n",
              "      <td>0.6</td>\n",
              "      <td>0.627730</td>\n",
              "    </tr>\n",
              "    <tr>\n",
              "      <td>3</td>\n",
              "      <td>1.000000</td>\n",
              "      <td>0.395233</td>\n",
              "      <td>1.000000</td>\n",
              "      <td>1.000000</td>\n",
              "      <td>0.6</td>\n",
              "      <td>1.000000</td>\n",
              "    </tr>\n",
              "    <tr>\n",
              "      <td>4</td>\n",
              "      <td>0.240285</td>\n",
              "      <td>0.174671</td>\n",
              "      <td>0.250000</td>\n",
              "      <td>0.365569</td>\n",
              "      <td>1.0</td>\n",
              "      <td>0.365569</td>\n",
              "    </tr>\n",
              "    <tr>\n",
              "      <td>5</td>\n",
              "      <td>0.000000</td>\n",
              "      <td>0.000000</td>\n",
              "      <td>0.000000</td>\n",
              "      <td>0.000000</td>\n",
              "      <td>1.0</td>\n",
              "      <td>0.000000</td>\n",
              "    </tr>\n",
              "  </tbody>\n",
              "</table>\n",
              "</div>"
            ],
            "text/plain": [
              "   total_price  qty_log2     order       qty  unit_price   qty_log\n",
              "0     0.131132  0.075062  0.159091  0.248507         0.0  0.248507\n",
              "1     0.129610  0.395233  0.000000  0.000000         0.2  0.000000\n",
              "2     0.952829  1.000000  0.500000  0.627730         0.6  0.627730\n",
              "3     1.000000  0.395233  1.000000  1.000000         0.6  1.000000\n",
              "4     0.240285  0.174671  0.250000  0.365569         1.0  0.365569\n",
              "5     0.000000  0.000000  0.000000  0.000000         1.0  0.000000"
            ]
          },
          "execution_count": 27,
          "metadata": {},
          "output_type": "execute_result"
        }
      ],
      "source": [
        "df_normalized"
      ]
    },
    {
      "cell_type": "code",
      "execution_count": null,
      "metadata": {
        "id": "XblFrKOJxfxk",
        "outputId": "4baacc26-bf36-4e92-e8cb-5882f5286bba"
      },
      "outputs": [
        {
          "data": {
            "text/html": [
              "<div>\n",
              "<style scoped>\n",
              "    .dataframe tbody tr th:only-of-type {\n",
              "        vertical-align: middle;\n",
              "    }\n",
              "\n",
              "    .dataframe tbody tr th {\n",
              "        vertical-align: top;\n",
              "    }\n",
              "\n",
              "    .dataframe thead th {\n",
              "        text-align: right;\n",
              "    }\n",
              "</style>\n",
              "<table border=\"1\" class=\"dataframe\">\n",
              "  <thead>\n",
              "    <tr style=\"text-align: right;\">\n",
              "      <th></th>\n",
              "      <th>total_price</th>\n",
              "      <th>unit_price</th>\n",
              "      <th>qty</th>\n",
              "      <th>qty_log2</th>\n",
              "      <th>order</th>\n",
              "      <th>qty_log</th>\n",
              "    </tr>\n",
              "  </thead>\n",
              "  <tbody>\n",
              "    <tr>\n",
              "      <td>0</td>\n",
              "      <td>0.131132</td>\n",
              "      <td>0.075062</td>\n",
              "      <td>0.159091</td>\n",
              "      <td>0.248507</td>\n",
              "      <td>0.0</td>\n",
              "      <td>0.248507</td>\n",
              "    </tr>\n",
              "    <tr>\n",
              "      <td>1</td>\n",
              "      <td>0.129610</td>\n",
              "      <td>0.395233</td>\n",
              "      <td>0.000000</td>\n",
              "      <td>0.000000</td>\n",
              "      <td>0.2</td>\n",
              "      <td>0.000000</td>\n",
              "    </tr>\n",
              "    <tr>\n",
              "      <td>2</td>\n",
              "      <td>0.952829</td>\n",
              "      <td>1.000000</td>\n",
              "      <td>0.500000</td>\n",
              "      <td>0.627730</td>\n",
              "      <td>0.6</td>\n",
              "      <td>0.627730</td>\n",
              "    </tr>\n",
              "    <tr>\n",
              "      <td>3</td>\n",
              "      <td>1.000000</td>\n",
              "      <td>0.395233</td>\n",
              "      <td>1.000000</td>\n",
              "      <td>1.000000</td>\n",
              "      <td>0.6</td>\n",
              "      <td>1.000000</td>\n",
              "    </tr>\n",
              "    <tr>\n",
              "      <td>4</td>\n",
              "      <td>0.240285</td>\n",
              "      <td>0.174671</td>\n",
              "      <td>0.250000</td>\n",
              "      <td>0.365569</td>\n",
              "      <td>1.0</td>\n",
              "      <td>0.365569</td>\n",
              "    </tr>\n",
              "    <tr>\n",
              "      <td>5</td>\n",
              "      <td>0.000000</td>\n",
              "      <td>0.000000</td>\n",
              "      <td>0.000000</td>\n",
              "      <td>0.000000</td>\n",
              "      <td>1.0</td>\n",
              "      <td>0.000000</td>\n",
              "    </tr>\n",
              "  </tbody>\n",
              "</table>\n",
              "</div>"
            ],
            "text/plain": [
              "   total_price  unit_price       qty  qty_log2  order   qty_log\n",
              "0     0.131132    0.075062  0.159091  0.248507    0.0  0.248507\n",
              "1     0.129610    0.395233  0.000000  0.000000    0.2  0.000000\n",
              "2     0.952829    1.000000  0.500000  0.627730    0.6  0.627730\n",
              "3     1.000000    0.395233  1.000000  1.000000    0.6  1.000000\n",
              "4     0.240285    0.174671  0.250000  0.365569    1.0  0.365569\n",
              "5     0.000000    0.000000  0.000000  0.000000    1.0  0.000000"
            ]
          },
          "execution_count": 28,
          "metadata": {},
          "output_type": "execute_result"
        }
      ],
      "source": [
        "# Normalisasi dengan kalkulasi manual\n",
        "df_norm = (df_num - df_num.min())/(df_num.max() - df_num.min())\n",
        "df_norm"
      ]
    },
    {
      "cell_type": "code",
      "execution_count": null,
      "metadata": {
        "id": "eev7kwKixfxk",
        "outputId": "da1db1f9-38cb-415e-fa90-c19d6bae6f2f"
      },
      "outputs": [
        {
          "data": {
            "text/html": [
              "<div>\n",
              "<style scoped>\n",
              "    .dataframe tbody tr th:only-of-type {\n",
              "        vertical-align: middle;\n",
              "    }\n",
              "\n",
              "    .dataframe tbody tr th {\n",
              "        vertical-align: top;\n",
              "    }\n",
              "\n",
              "    .dataframe thead th {\n",
              "        text-align: right;\n",
              "    }\n",
              "</style>\n",
              "<table border=\"1\" class=\"dataframe\">\n",
              "  <thead>\n",
              "    <tr style=\"text-align: right;\">\n",
              "      <th></th>\n",
              "      <th>total_price</th>\n",
              "      <th>unit_price</th>\n",
              "      <th>qty</th>\n",
              "      <th>qty_log2</th>\n",
              "      <th>order</th>\n",
              "      <th>qty_log</th>\n",
              "    </tr>\n",
              "  </thead>\n",
              "  <tbody>\n",
              "    <tr>\n",
              "      <td>0</td>\n",
              "      <td>-0.681926</td>\n",
              "      <td>-0.802067</td>\n",
              "      <td>-0.455983</td>\n",
              "      <td>-0.353484</td>\n",
              "      <td>-1.520526</td>\n",
              "      <td>-0.353484</td>\n",
              "    </tr>\n",
              "    <tr>\n",
              "      <td>1</td>\n",
              "      <td>-0.685661</td>\n",
              "      <td>0.167090</td>\n",
              "      <td>-0.911967</td>\n",
              "      <td>-1.055514</td>\n",
              "      <td>-0.983870</td>\n",
              "      <td>-1.055514</td>\n",
              "    </tr>\n",
              "    <tr>\n",
              "      <td>2</td>\n",
              "      <td>1.334803</td>\n",
              "      <td>1.997719</td>\n",
              "      <td>0.521124</td>\n",
              "      <td>0.717818</td>\n",
              "      <td>0.089443</td>\n",
              "      <td>0.717818</td>\n",
              "    </tr>\n",
              "    <tr>\n",
              "      <td>3</td>\n",
              "      <td>1.450578</td>\n",
              "      <td>0.167090</td>\n",
              "      <td>1.954214</td>\n",
              "      <td>1.769477</td>\n",
              "      <td>0.089443</td>\n",
              "      <td>1.769477</td>\n",
              "    </tr>\n",
              "    <tr>\n",
              "      <td>4</td>\n",
              "      <td>-0.414025</td>\n",
              "      <td>-0.500551</td>\n",
              "      <td>-0.195421</td>\n",
              "      <td>-0.022783</td>\n",
              "      <td>1.162755</td>\n",
              "      <td>-0.022783</td>\n",
              "    </tr>\n",
              "    <tr>\n",
              "      <td>5</td>\n",
              "      <td>-1.003769</td>\n",
              "      <td>-1.029280</td>\n",
              "      <td>-0.911967</td>\n",
              "      <td>-1.055514</td>\n",
              "      <td>1.162755</td>\n",
              "      <td>-1.055514</td>\n",
              "    </tr>\n",
              "  </tbody>\n",
              "</table>\n",
              "</div>"
            ],
            "text/plain": [
              "   total_price  unit_price       qty  qty_log2     order   qty_log\n",
              "0    -0.681926   -0.802067 -0.455983 -0.353484 -1.520526 -0.353484\n",
              "1    -0.685661    0.167090 -0.911967 -1.055514 -0.983870 -1.055514\n",
              "2     1.334803    1.997719  0.521124  0.717818  0.089443  0.717818\n",
              "3     1.450578    0.167090  1.954214  1.769477  0.089443  1.769477\n",
              "4    -0.414025   -0.500551 -0.195421 -0.022783  1.162755 -0.022783\n",
              "5    -1.003769   -1.029280 -0.911967 -1.055514  1.162755 -1.055514"
            ]
          },
          "execution_count": 29,
          "metadata": {},
          "output_type": "execute_result"
        }
      ],
      "source": [
        "# Z-Score Normalization\n",
        "df_norm = (df_num - df_num.mean())/df_num.std(ddof=0)\n",
        "df_norm"
      ]
    },
    {
      "cell_type": "markdown",
      "metadata": {
        "id": "EzcoO3E1xfxk"
      },
      "source": [
        "# Regex\n",
        "Available in Python through package 're'\n",
        "* Idea: Matching pattern in text\n",
        "* Used for matching and modifying string"
      ]
    },
    {
      "cell_type": "code",
      "execution_count": null,
      "metadata": {
        "id": "YVZpQrRlxfxl"
      },
      "outputs": [],
      "source": [
        "# Import library regular expression\n",
        "import re as re"
      ]
    },
    {
      "cell_type": "markdown",
      "metadata": {
        "id": "_Lcfqcshxfxl"
      },
      "source": [
        "### Extract Character\n",
        "\n",
        "\\w = mengambil alpha numerik<br>\n",
        "\\D = alpha nya saja<br>\n",
        "\\d = hanya numerik<br>"
      ]
    },
    {
      "cell_type": "code",
      "execution_count": null,
      "metadata": {
        "id": "pFhNZsIvxfxl",
        "outputId": "9d135ead-1a0d-49e7-a68e-206d5b278020"
      },
      "outputs": [
        {
          "name": "stdout",
          "output_type": "stream",
          "text": [
            "Learning Python Programming 1991\n",
            "\n",
            "['L', 'e', 'a', 'r', 'n', 'i', 'n', 'g', 'P', 'y', 't', 'h', 'o', 'n', 'P', 'r', 'o', 'g', 'r', 'a', 'm', 'm', 'i', 'n', 'g', '1', '9', '9', '1']\n"
          ]
        }
      ],
      "source": [
        "print('Learning Python Programming 1991\\n')\n",
        "\n",
        "result = re.findall(r'\\w', 'Learning Python Programming 1991')\n",
        "print(result)"
      ]
    },
    {
      "cell_type": "code",
      "execution_count": null,
      "metadata": {
        "id": "Yxn6c2jUxfxl",
        "outputId": "15f95b21-417e-42a8-cc0e-3b500f330d07"
      },
      "outputs": [
        {
          "name": "stdout",
          "output_type": "stream",
          "text": [
            "['L', 'e', 'a', 'r', 'n', 'i', 'n', 'g', ' ', 'P', 'y', 't', 'h', 'o', 'n', ' ', 'P', 'r', 'o', 'g', 'r', 'a', 'm', 'm', 'i', 'n', 'g', ' ']\n"
          ]
        }
      ],
      "source": [
        "result = re.findall('\\D', 'Learning Python Programming 1991')\n",
        "print(result)"
      ]
    },
    {
      "cell_type": "code",
      "execution_count": null,
      "metadata": {
        "id": "uANL7ZD9xfxq",
        "outputId": "8fd039c3-4e31-4a5c-9d44-21c2cf468076"
      },
      "outputs": [
        {
          "name": "stdout",
          "output_type": "stream",
          "text": [
            "['1', '9', '9', '1']\n"
          ]
        }
      ],
      "source": [
        "result = re.findall('\\d', 'Learning Python Programming 1991')\n",
        "print(result)"
      ]
    },
    {
      "cell_type": "markdown",
      "metadata": {
        "id": "xng1uyulxfxq"
      },
      "source": [
        "### Extract Word"
      ]
    },
    {
      "cell_type": "code",
      "execution_count": null,
      "metadata": {
        "scrolled": true,
        "id": "6c_omWTkxfxq",
        "outputId": "94440b49-263f-4cd4-bfab-b9e92a63cb3a"
      },
      "outputs": [
        {
          "name": "stdout",
          "output_type": "stream",
          "text": [
            "['Learning', 'Python', 'Programming', '1991']\n"
          ]
        }
      ],
      "source": [
        "result = re.findall(r'\\w+', 'Learning Python Programming 1991')\n",
        "print(result)"
      ]
    },
    {
      "cell_type": "code",
      "execution_count": null,
      "metadata": {
        "id": "a5SmApwbxfxq",
        "outputId": "5f91fed5-0b6f-42aa-ae66-042e97235010"
      },
      "outputs": [
        {
          "data": {
            "text/plain": [
              "list"
            ]
          },
          "execution_count": 35,
          "metadata": {},
          "output_type": "execute_result"
        }
      ],
      "source": [
        "type(result)"
      ]
    },
    {
      "cell_type": "markdown",
      "metadata": {
        "id": "SWuzFHlPxfxr"
      },
      "source": [
        "### Extract Character after ‘@’ in email address"
      ]
    },
    {
      "cell_type": "code",
      "execution_count": null,
      "metadata": {
        "id": "k9aWsBthxfxr",
        "outputId": "9d7e2d8c-dbe9-4f98-9714-80eda5644901"
      },
      "outputs": [
        {
          "name": "stdout",
          "output_type": "stream",
          "text": [
            "['@gmail.com', '@test.in', '@yahoo.com', '@rest.biz']\n"
          ]
        }
      ],
      "source": [
        "result = re.findall(r'@\\w+.\\w+', 'abc.test@gmail.com, xyz@test.in, test.frist@yahoo.com, first.test@rest.biz')\n",
        "print(result)"
      ]
    },
    {
      "cell_type": "markdown",
      "metadata": {
        "id": "oTTWN32exfxr"
      },
      "source": [
        "***"
      ]
    },
    {
      "cell_type": "markdown",
      "metadata": {
        "id": "qGBWEHxzxfxr"
      },
      "source": [
        "## Deep Copy"
      ]
    },
    {
      "cell_type": "code",
      "execution_count": null,
      "metadata": {
        "id": "SRdqNYEHxfxr"
      },
      "outputs": [],
      "source": [
        "import copy"
      ]
    },
    {
      "cell_type": "code",
      "execution_count": null,
      "metadata": {
        "id": "l6WRfwNrxfxs",
        "outputId": "97833a92-b04b-43f8-910d-73a40f77eddf"
      },
      "outputs": [
        {
          "data": {
            "text/html": [
              "<div>\n",
              "<style scoped>\n",
              "    .dataframe tbody tr th:only-of-type {\n",
              "        vertical-align: middle;\n",
              "    }\n",
              "\n",
              "    .dataframe tbody tr th {\n",
              "        vertical-align: top;\n",
              "    }\n",
              "\n",
              "    .dataframe thead th {\n",
              "        text-align: right;\n",
              "    }\n",
              "</style>\n",
              "<table border=\"1\" class=\"dataframe\">\n",
              "  <thead>\n",
              "    <tr style=\"text-align: right;\">\n",
              "      <th></th>\n",
              "      <th>No</th>\n",
              "      <th>company</th>\n",
              "      <th>order</th>\n",
              "      <th>qty</th>\n",
              "      <th>unit_price</th>\n",
              "      <th>price_group</th>\n",
              "      <th>price_level</th>\n",
              "      <th>level_harga</th>\n",
              "      <th>level_harga2</th>\n",
              "      <th>total_price</th>\n",
              "      <th>qty_log</th>\n",
              "      <th>qty_log2</th>\n",
              "    </tr>\n",
              "  </thead>\n",
              "  <tbody>\n",
              "    <tr>\n",
              "      <td>0</td>\n",
              "      <td>0</td>\n",
              "      <td>Go-Jek</td>\n",
              "      <td>10001</td>\n",
              "      <td>30</td>\n",
              "      <td>30000</td>\n",
              "      <td>low</td>\n",
              "      <td>low</td>\n",
              "      <td>low</td>\n",
              "      <td>Low</td>\n",
              "      <td>900000</td>\n",
              "      <td>3.401197</td>\n",
              "      <td>3.401197</td>\n",
              "    </tr>\n",
              "    <tr>\n",
              "      <td>1</td>\n",
              "      <td>1</td>\n",
              "      <td>Grab</td>\n",
              "      <td>10002</td>\n",
              "      <td>23</td>\n",
              "      <td>39000</td>\n",
              "      <td>high</td>\n",
              "      <td>medium</td>\n",
              "      <td>medium</td>\n",
              "      <td>Medium</td>\n",
              "      <td>897000</td>\n",
              "      <td>3.135494</td>\n",
              "      <td>3.135494</td>\n",
              "    </tr>\n",
              "    <tr>\n",
              "      <td>2</td>\n",
              "      <td>2</td>\n",
              "      <td>OVO</td>\n",
              "      <td>10004</td>\n",
              "      <td>45</td>\n",
              "      <td>56000</td>\n",
              "      <td>high</td>\n",
              "      <td>high</td>\n",
              "      <td>high</td>\n",
              "      <td>High</td>\n",
              "      <td>2520000</td>\n",
              "      <td>3.806662</td>\n",
              "      <td>3.806662</td>\n",
              "    </tr>\n",
              "    <tr>\n",
              "      <td>3</td>\n",
              "      <td>3</td>\n",
              "      <td>Tokopedia</td>\n",
              "      <td>10004</td>\n",
              "      <td>67</td>\n",
              "      <td>39000</td>\n",
              "      <td>high</td>\n",
              "      <td>medium</td>\n",
              "      <td>medium</td>\n",
              "      <td>Medium</td>\n",
              "      <td>2613000</td>\n",
              "      <td>4.204693</td>\n",
              "      <td>4.204693</td>\n",
              "    </tr>\n",
              "    <tr>\n",
              "      <td>4</td>\n",
              "      <td>4</td>\n",
              "      <td>Bukalapak</td>\n",
              "      <td>10006</td>\n",
              "      <td>34</td>\n",
              "      <td>32800</td>\n",
              "      <td>low</td>\n",
              "      <td>medium</td>\n",
              "      <td>medium</td>\n",
              "      <td>Medium</td>\n",
              "      <td>1115200</td>\n",
              "      <td>3.526361</td>\n",
              "      <td>3.526361</td>\n",
              "    </tr>\n",
              "    <tr>\n",
              "      <td>5</td>\n",
              "      <td>5</td>\n",
              "      <td>Shopee</td>\n",
              "      <td>10006</td>\n",
              "      <td>23</td>\n",
              "      <td>27890</td>\n",
              "      <td>low</td>\n",
              "      <td>low</td>\n",
              "      <td>low</td>\n",
              "      <td>Low</td>\n",
              "      <td>641470</td>\n",
              "      <td>3.135494</td>\n",
              "      <td>3.135494</td>\n",
              "    </tr>\n",
              "  </tbody>\n",
              "</table>\n",
              "</div>"
            ],
            "text/plain": [
              "   No    company  order  qty  unit_price price_group price_level level_harga  \\\n",
              "0   0     Go-Jek  10001   30       30000         low         low         low   \n",
              "1   1       Grab  10002   23       39000        high      medium      medium   \n",
              "2   2        OVO  10004   45       56000        high        high        high   \n",
              "3   3  Tokopedia  10004   67       39000        high      medium      medium   \n",
              "4   4  Bukalapak  10006   34       32800         low      medium      medium   \n",
              "5   5     Shopee  10006   23       27890         low         low         low   \n",
              "\n",
              "  level_harga2  total_price   qty_log  qty_log2  \n",
              "0          Low       900000  3.401197  3.401197  \n",
              "1       Medium       897000  3.135494  3.135494  \n",
              "2         High      2520000  3.806662  3.806662  \n",
              "3       Medium      2613000  4.204693  4.204693  \n",
              "4       Medium      1115200  3.526361  3.526361  \n",
              "5          Low       641470  3.135494  3.135494  "
            ]
          },
          "execution_count": 38,
          "metadata": {},
          "output_type": "execute_result"
        }
      ],
      "source": [
        "df_copy = copy.deepcopy(df)\n",
        "df_copy"
      ]
    },
    {
      "cell_type": "markdown",
      "metadata": {
        "id": "PAiXKbPFxfxs"
      },
      "source": [
        "## Regex In Data Frame"
      ]
    },
    {
      "cell_type": "code",
      "execution_count": null,
      "metadata": {
        "scrolled": true,
        "id": "UN5cGIVBxfxs",
        "outputId": "927a8ec2-b56d-4f0d-a303-a9133adfd0ad"
      },
      "outputs": [
        {
          "data": {
            "text/html": [
              "<div>\n",
              "<style scoped>\n",
              "    .dataframe tbody tr th:only-of-type {\n",
              "        vertical-align: middle;\n",
              "    }\n",
              "\n",
              "    .dataframe tbody tr th {\n",
              "        vertical-align: top;\n",
              "    }\n",
              "\n",
              "    .dataframe thead th {\n",
              "        text-align: right;\n",
              "    }\n",
              "</style>\n",
              "<table border=\"1\" class=\"dataframe\">\n",
              "  <thead>\n",
              "    <tr style=\"text-align: right;\">\n",
              "      <th></th>\n",
              "      <th>No</th>\n",
              "      <th>company</th>\n",
              "      <th>order</th>\n",
              "      <th>qty</th>\n",
              "      <th>unit_price</th>\n",
              "      <th>price_group</th>\n",
              "      <th>price_level</th>\n",
              "      <th>level_harga</th>\n",
              "      <th>level_harga2</th>\n",
              "      <th>total_price</th>\n",
              "      <th>qty_log</th>\n",
              "      <th>qty_log2</th>\n",
              "    </tr>\n",
              "  </thead>\n",
              "  <tbody>\n",
              "    <tr>\n",
              "      <td>0</td>\n",
              "      <td>0</td>\n",
              "      <td>Go-Jek</td>\n",
              "      <td>10001</td>\n",
              "      <td>30</td>\n",
              "      <td>30000</td>\n",
              "      <td>low</td>\n",
              "      <td>low</td>\n",
              "      <td>low</td>\n",
              "      <td>Low</td>\n",
              "      <td>900000</td>\n",
              "      <td>3.401197</td>\n",
              "      <td>3.401197</td>\n",
              "    </tr>\n",
              "    <tr>\n",
              "      <td>1</td>\n",
              "      <td>1</td>\n",
              "      <td>Grab</td>\n",
              "      <td>10002</td>\n",
              "      <td>23</td>\n",
              "      <td>39000</td>\n",
              "      <td>high</td>\n",
              "      <td>medium</td>\n",
              "      <td>medium</td>\n",
              "      <td>Medium</td>\n",
              "      <td>897000</td>\n",
              "      <td>3.135494</td>\n",
              "      <td>3.135494</td>\n",
              "    </tr>\n",
              "    <tr>\n",
              "      <td>2</td>\n",
              "      <td>2</td>\n",
              "      <td>OVO</td>\n",
              "      <td>10004</td>\n",
              "      <td>45</td>\n",
              "      <td>56000</td>\n",
              "      <td>high</td>\n",
              "      <td>high</td>\n",
              "      <td>high</td>\n",
              "      <td>High</td>\n",
              "      <td>2520000</td>\n",
              "      <td>3.806662</td>\n",
              "      <td>3.806662</td>\n",
              "    </tr>\n",
              "    <tr>\n",
              "      <td>3</td>\n",
              "      <td>3</td>\n",
              "      <td>Tokopedia</td>\n",
              "      <td>10004</td>\n",
              "      <td>67</td>\n",
              "      <td>39000</td>\n",
              "      <td>high</td>\n",
              "      <td>medium</td>\n",
              "      <td>medium</td>\n",
              "      <td>Medium</td>\n",
              "      <td>2613000</td>\n",
              "      <td>4.204693</td>\n",
              "      <td>4.204693</td>\n",
              "    </tr>\n",
              "    <tr>\n",
              "      <td>4</td>\n",
              "      <td>4</td>\n",
              "      <td>Bukalapak</td>\n",
              "      <td>10006</td>\n",
              "      <td>34</td>\n",
              "      <td>32800</td>\n",
              "      <td>low</td>\n",
              "      <td>medium</td>\n",
              "      <td>medium</td>\n",
              "      <td>Medium</td>\n",
              "      <td>1115200</td>\n",
              "      <td>3.526361</td>\n",
              "      <td>3.526361</td>\n",
              "    </tr>\n",
              "    <tr>\n",
              "      <td>5</td>\n",
              "      <td>5</td>\n",
              "      <td>Shopee</td>\n",
              "      <td>10006</td>\n",
              "      <td>23</td>\n",
              "      <td>27890</td>\n",
              "      <td>low</td>\n",
              "      <td>low</td>\n",
              "      <td>low</td>\n",
              "      <td>Low</td>\n",
              "      <td>641470</td>\n",
              "      <td>3.135494</td>\n",
              "      <td>3.135494</td>\n",
              "    </tr>\n",
              "  </tbody>\n",
              "</table>\n",
              "</div>"
            ],
            "text/plain": [
              "   No    company  order  qty  unit_price price_group price_level level_harga  \\\n",
              "0   0     Go-Jek  10001   30       30000         low         low         low   \n",
              "1   1       Grab  10002   23       39000        high      medium      medium   \n",
              "2   2        OVO  10004   45       56000        high        high        high   \n",
              "3   3  Tokopedia  10004   67       39000        high      medium      medium   \n",
              "4   4  Bukalapak  10006   34       32800         low      medium      medium   \n",
              "5   5     Shopee  10006   23       27890         low         low         low   \n",
              "\n",
              "  level_harga2  total_price   qty_log  qty_log2  \n",
              "0          Low       900000  3.401197  3.401197  \n",
              "1       Medium       897000  3.135494  3.135494  \n",
              "2         High      2520000  3.806662  3.806662  \n",
              "3       Medium      2613000  4.204693  4.204693  \n",
              "4       Medium      1115200  3.526361  3.526361  \n",
              "5          Low       641470  3.135494  3.135494  "
            ]
          },
          "execution_count": 39,
          "metadata": {},
          "output_type": "execute_result"
        }
      ],
      "source": [
        "df_copy"
      ]
    },
    {
      "cell_type": "markdown",
      "metadata": {
        "id": "fjzfLu6Zxfxs"
      },
      "source": [
        "### Q & A\n",
        "*Bagaimana cara memecah huruf pada DataFrame menggunakan regex?*"
      ]
    },
    {
      "cell_type": "code",
      "execution_count": null,
      "metadata": {
        "id": "mfNKOm_Jxfxs"
      },
      "outputs": [],
      "source": [
        "# Fungsi untuk mengambil alpha numerik\n",
        "def perusahaan(company):\n",
        "    return re.findall(r'(\\D)', company)"
      ]
    },
    {
      "cell_type": "code",
      "execution_count": null,
      "metadata": {
        "scrolled": true,
        "id": "jdIO0LJMxfxt",
        "outputId": "1a0555c6-fe67-4166-8dd1-004be524a0b5"
      },
      "outputs": [
        {
          "data": {
            "text/plain": [
              "0       Go-Jek\n",
              "1         Grab\n",
              "2          OVO\n",
              "3    Tokopedia\n",
              "4    Bukalapak\n",
              "5       Shopee\n",
              "Name: company, dtype: object"
            ]
          },
          "execution_count": 41,
          "metadata": {},
          "output_type": "execute_result"
        }
      ],
      "source": [
        "df_copy['company']"
      ]
    },
    {
      "cell_type": "code",
      "execution_count": null,
      "metadata": {
        "scrolled": true,
        "id": "qARbkjkDxfxt",
        "outputId": "42bf16cc-72f9-456c-cfe9-54f1d773ff60"
      },
      "outputs": [
        {
          "data": {
            "text/plain": [
              "0             [G, o, -, J, e, k]\n",
              "1                   [G, r, a, b]\n",
              "2                      [O, V, O]\n",
              "3    [T, o, k, o, p, e, d, i, a]\n",
              "4    [B, u, k, a, l, a, p, a, k]\n",
              "5             [S, h, o, p, e, e]\n",
              "Name: company, dtype: object"
            ]
          },
          "execution_count": 42,
          "metadata": {},
          "output_type": "execute_result"
        }
      ],
      "source": [
        "df_copy['company'] = df_copy['company'].apply(perusahaan)\n",
        "df_copy['company']"
      ]
    },
    {
      "cell_type": "code",
      "execution_count": null,
      "metadata": {
        "id": "UFm-4YHexfxt",
        "outputId": "ea919779-7de9-43de-cd72-d3c191a49f1a"
      },
      "outputs": [
        {
          "data": {
            "text/html": [
              "<div>\n",
              "<style scoped>\n",
              "    .dataframe tbody tr th:only-of-type {\n",
              "        vertical-align: middle;\n",
              "    }\n",
              "\n",
              "    .dataframe tbody tr th {\n",
              "        vertical-align: top;\n",
              "    }\n",
              "\n",
              "    .dataframe thead th {\n",
              "        text-align: right;\n",
              "    }\n",
              "</style>\n",
              "<table border=\"1\" class=\"dataframe\">\n",
              "  <thead>\n",
              "    <tr style=\"text-align: right;\">\n",
              "      <th></th>\n",
              "      <th>No</th>\n",
              "      <th>company</th>\n",
              "      <th>order</th>\n",
              "      <th>qty</th>\n",
              "      <th>unit_price</th>\n",
              "      <th>price_group</th>\n",
              "      <th>price_level</th>\n",
              "      <th>level_harga</th>\n",
              "      <th>level_harga2</th>\n",
              "      <th>total_price</th>\n",
              "      <th>qty_log</th>\n",
              "      <th>qty_log2</th>\n",
              "    </tr>\n",
              "  </thead>\n",
              "  <tbody>\n",
              "    <tr>\n",
              "      <td>0</td>\n",
              "      <td>0</td>\n",
              "      <td>[G, o, -, J, e, k]</td>\n",
              "      <td>10001</td>\n",
              "      <td>30</td>\n",
              "      <td>30000</td>\n",
              "      <td>low</td>\n",
              "      <td>low</td>\n",
              "      <td>low</td>\n",
              "      <td>Low</td>\n",
              "      <td>900000</td>\n",
              "      <td>3.401197</td>\n",
              "      <td>3.401197</td>\n",
              "    </tr>\n",
              "    <tr>\n",
              "      <td>1</td>\n",
              "      <td>1</td>\n",
              "      <td>[G, r, a, b]</td>\n",
              "      <td>10002</td>\n",
              "      <td>23</td>\n",
              "      <td>39000</td>\n",
              "      <td>high</td>\n",
              "      <td>medium</td>\n",
              "      <td>medium</td>\n",
              "      <td>Medium</td>\n",
              "      <td>897000</td>\n",
              "      <td>3.135494</td>\n",
              "      <td>3.135494</td>\n",
              "    </tr>\n",
              "    <tr>\n",
              "      <td>2</td>\n",
              "      <td>2</td>\n",
              "      <td>[O, V, O]</td>\n",
              "      <td>10004</td>\n",
              "      <td>45</td>\n",
              "      <td>56000</td>\n",
              "      <td>high</td>\n",
              "      <td>high</td>\n",
              "      <td>high</td>\n",
              "      <td>High</td>\n",
              "      <td>2520000</td>\n",
              "      <td>3.806662</td>\n",
              "      <td>3.806662</td>\n",
              "    </tr>\n",
              "    <tr>\n",
              "      <td>3</td>\n",
              "      <td>3</td>\n",
              "      <td>[T, o, k, o, p, e, d, i, a]</td>\n",
              "      <td>10004</td>\n",
              "      <td>67</td>\n",
              "      <td>39000</td>\n",
              "      <td>high</td>\n",
              "      <td>medium</td>\n",
              "      <td>medium</td>\n",
              "      <td>Medium</td>\n",
              "      <td>2613000</td>\n",
              "      <td>4.204693</td>\n",
              "      <td>4.204693</td>\n",
              "    </tr>\n",
              "    <tr>\n",
              "      <td>4</td>\n",
              "      <td>4</td>\n",
              "      <td>[B, u, k, a, l, a, p, a, k]</td>\n",
              "      <td>10006</td>\n",
              "      <td>34</td>\n",
              "      <td>32800</td>\n",
              "      <td>low</td>\n",
              "      <td>medium</td>\n",
              "      <td>medium</td>\n",
              "      <td>Medium</td>\n",
              "      <td>1115200</td>\n",
              "      <td>3.526361</td>\n",
              "      <td>3.526361</td>\n",
              "    </tr>\n",
              "    <tr>\n",
              "      <td>5</td>\n",
              "      <td>5</td>\n",
              "      <td>[S, h, o, p, e, e]</td>\n",
              "      <td>10006</td>\n",
              "      <td>23</td>\n",
              "      <td>27890</td>\n",
              "      <td>low</td>\n",
              "      <td>low</td>\n",
              "      <td>low</td>\n",
              "      <td>Low</td>\n",
              "      <td>641470</td>\n",
              "      <td>3.135494</td>\n",
              "      <td>3.135494</td>\n",
              "    </tr>\n",
              "  </tbody>\n",
              "</table>\n",
              "</div>"
            ],
            "text/plain": [
              "   No                      company  order  qty  unit_price price_group  \\\n",
              "0   0           [G, o, -, J, e, k]  10001   30       30000         low   \n",
              "1   1                 [G, r, a, b]  10002   23       39000        high   \n",
              "2   2                    [O, V, O]  10004   45       56000        high   \n",
              "3   3  [T, o, k, o, p, e, d, i, a]  10004   67       39000        high   \n",
              "4   4  [B, u, k, a, l, a, p, a, k]  10006   34       32800         low   \n",
              "5   5           [S, h, o, p, e, e]  10006   23       27890         low   \n",
              "\n",
              "  price_level level_harga level_harga2  total_price   qty_log  qty_log2  \n",
              "0         low         low          Low       900000  3.401197  3.401197  \n",
              "1      medium      medium       Medium       897000  3.135494  3.135494  \n",
              "2        high        high         High      2520000  3.806662  3.806662  \n",
              "3      medium      medium       Medium      2613000  4.204693  4.204693  \n",
              "4      medium      medium       Medium      1115200  3.526361  3.526361  \n",
              "5         low         low          Low       641470  3.135494  3.135494  "
            ]
          },
          "execution_count": 43,
          "metadata": {},
          "output_type": "execute_result"
        }
      ],
      "source": [
        "df_copy"
      ]
    },
    {
      "cell_type": "markdown",
      "metadata": {
        "id": "_AHXIYHIxfxu"
      },
      "source": [
        "*Bagaimana kalo type datanya integer?*<br>\n",
        "*- Harus dirubah terlebih dahulu menjadi type data string*"
      ]
    },
    {
      "cell_type": "code",
      "execution_count": null,
      "metadata": {
        "id": "dMq_uO37xfxu"
      },
      "outputs": [],
      "source": [
        "def orderan(order):\n",
        "    return re.findall(r'(\\d)', order)"
      ]
    },
    {
      "cell_type": "code",
      "execution_count": null,
      "metadata": {
        "scrolled": true,
        "id": "yQSnr0xYxfxu"
      },
      "outputs": [],
      "source": [
        "df_copy['order'] = df_copy['order'].astype(str).apply(orderan)"
      ]
    },
    {
      "cell_type": "code",
      "execution_count": null,
      "metadata": {
        "id": "lTw8AhcBxfxu",
        "outputId": "234cb445-1e07-4587-8baf-1a9482162f3a"
      },
      "outputs": [
        {
          "data": {
            "text/html": [
              "<div>\n",
              "<style scoped>\n",
              "    .dataframe tbody tr th:only-of-type {\n",
              "        vertical-align: middle;\n",
              "    }\n",
              "\n",
              "    .dataframe tbody tr th {\n",
              "        vertical-align: top;\n",
              "    }\n",
              "\n",
              "    .dataframe thead th {\n",
              "        text-align: right;\n",
              "    }\n",
              "</style>\n",
              "<table border=\"1\" class=\"dataframe\">\n",
              "  <thead>\n",
              "    <tr style=\"text-align: right;\">\n",
              "      <th></th>\n",
              "      <th>No</th>\n",
              "      <th>company</th>\n",
              "      <th>order</th>\n",
              "      <th>qty</th>\n",
              "      <th>unit_price</th>\n",
              "      <th>price_group</th>\n",
              "      <th>price_level</th>\n",
              "      <th>level_harga</th>\n",
              "      <th>level_harga2</th>\n",
              "      <th>total_price</th>\n",
              "      <th>qty_log</th>\n",
              "      <th>qty_log2</th>\n",
              "    </tr>\n",
              "  </thead>\n",
              "  <tbody>\n",
              "    <tr>\n",
              "      <td>0</td>\n",
              "      <td>0</td>\n",
              "      <td>[G, o, -, J, e, k]</td>\n",
              "      <td>[1, 0, 0, 0, 1]</td>\n",
              "      <td>30</td>\n",
              "      <td>30000</td>\n",
              "      <td>low</td>\n",
              "      <td>low</td>\n",
              "      <td>low</td>\n",
              "      <td>Low</td>\n",
              "      <td>900000</td>\n",
              "      <td>3.401197</td>\n",
              "      <td>3.401197</td>\n",
              "    </tr>\n",
              "    <tr>\n",
              "      <td>1</td>\n",
              "      <td>1</td>\n",
              "      <td>[G, r, a, b]</td>\n",
              "      <td>[1, 0, 0, 0, 2]</td>\n",
              "      <td>23</td>\n",
              "      <td>39000</td>\n",
              "      <td>high</td>\n",
              "      <td>medium</td>\n",
              "      <td>medium</td>\n",
              "      <td>Medium</td>\n",
              "      <td>897000</td>\n",
              "      <td>3.135494</td>\n",
              "      <td>3.135494</td>\n",
              "    </tr>\n",
              "    <tr>\n",
              "      <td>2</td>\n",
              "      <td>2</td>\n",
              "      <td>[O, V, O]</td>\n",
              "      <td>[1, 0, 0, 0, 4]</td>\n",
              "      <td>45</td>\n",
              "      <td>56000</td>\n",
              "      <td>high</td>\n",
              "      <td>high</td>\n",
              "      <td>high</td>\n",
              "      <td>High</td>\n",
              "      <td>2520000</td>\n",
              "      <td>3.806662</td>\n",
              "      <td>3.806662</td>\n",
              "    </tr>\n",
              "    <tr>\n",
              "      <td>3</td>\n",
              "      <td>3</td>\n",
              "      <td>[T, o, k, o, p, e, d, i, a]</td>\n",
              "      <td>[1, 0, 0, 0, 4]</td>\n",
              "      <td>67</td>\n",
              "      <td>39000</td>\n",
              "      <td>high</td>\n",
              "      <td>medium</td>\n",
              "      <td>medium</td>\n",
              "      <td>Medium</td>\n",
              "      <td>2613000</td>\n",
              "      <td>4.204693</td>\n",
              "      <td>4.204693</td>\n",
              "    </tr>\n",
              "    <tr>\n",
              "      <td>4</td>\n",
              "      <td>4</td>\n",
              "      <td>[B, u, k, a, l, a, p, a, k]</td>\n",
              "      <td>[1, 0, 0, 0, 6]</td>\n",
              "      <td>34</td>\n",
              "      <td>32800</td>\n",
              "      <td>low</td>\n",
              "      <td>medium</td>\n",
              "      <td>medium</td>\n",
              "      <td>Medium</td>\n",
              "      <td>1115200</td>\n",
              "      <td>3.526361</td>\n",
              "      <td>3.526361</td>\n",
              "    </tr>\n",
              "    <tr>\n",
              "      <td>5</td>\n",
              "      <td>5</td>\n",
              "      <td>[S, h, o, p, e, e]</td>\n",
              "      <td>[1, 0, 0, 0, 6]</td>\n",
              "      <td>23</td>\n",
              "      <td>27890</td>\n",
              "      <td>low</td>\n",
              "      <td>low</td>\n",
              "      <td>low</td>\n",
              "      <td>Low</td>\n",
              "      <td>641470</td>\n",
              "      <td>3.135494</td>\n",
              "      <td>3.135494</td>\n",
              "    </tr>\n",
              "  </tbody>\n",
              "</table>\n",
              "</div>"
            ],
            "text/plain": [
              "   No                      company            order  qty  unit_price  \\\n",
              "0   0           [G, o, -, J, e, k]  [1, 0, 0, 0, 1]   30       30000   \n",
              "1   1                 [G, r, a, b]  [1, 0, 0, 0, 2]   23       39000   \n",
              "2   2                    [O, V, O]  [1, 0, 0, 0, 4]   45       56000   \n",
              "3   3  [T, o, k, o, p, e, d, i, a]  [1, 0, 0, 0, 4]   67       39000   \n",
              "4   4  [B, u, k, a, l, a, p, a, k]  [1, 0, 0, 0, 6]   34       32800   \n",
              "5   5           [S, h, o, p, e, e]  [1, 0, 0, 0, 6]   23       27890   \n",
              "\n",
              "  price_group price_level level_harga level_harga2  total_price   qty_log  \\\n",
              "0         low         low         low          Low       900000  3.401197   \n",
              "1        high      medium      medium       Medium       897000  3.135494   \n",
              "2        high        high        high         High      2520000  3.806662   \n",
              "3        high      medium      medium       Medium      2613000  4.204693   \n",
              "4         low      medium      medium       Medium      1115200  3.526361   \n",
              "5         low         low         low          Low       641470  3.135494   \n",
              "\n",
              "   qty_log2  \n",
              "0  3.401197  \n",
              "1  3.135494  \n",
              "2  3.806662  \n",
              "3  4.204693  \n",
              "4  3.526361  \n",
              "5  3.135494  "
            ]
          },
          "execution_count": 46,
          "metadata": {},
          "output_type": "execute_result"
        }
      ],
      "source": [
        "df_copy"
      ]
    },
    {
      "cell_type": "code",
      "execution_count": null,
      "metadata": {
        "id": "PE-g7PjAxfxv",
        "outputId": "78686b4c-abc8-4a3e-8f3d-41bc27f2f457"
      },
      "outputs": [
        {
          "name": "stdout",
          "output_type": "stream",
          "text": [
            "<class 'pandas.core.frame.DataFrame'>\n",
            "RangeIndex: 6 entries, 0 to 5\n",
            "Data columns (total 12 columns):\n",
            "No              6 non-null int64\n",
            "company         6 non-null object\n",
            "order           6 non-null object\n",
            "qty             6 non-null int64\n",
            "unit_price      6 non-null int64\n",
            "price_group     6 non-null object\n",
            "price_level     6 non-null object\n",
            "level_harga     6 non-null object\n",
            "level_harga2    6 non-null object\n",
            "total_price     6 non-null int64\n",
            "qty_log         6 non-null float64\n",
            "qty_log2        6 non-null float64\n",
            "dtypes: float64(2), int64(4), object(6)\n",
            "memory usage: 704.0+ bytes\n"
          ]
        }
      ],
      "source": [
        "df_copy.info()"
      ]
    },
    {
      "cell_type": "markdown",
      "metadata": {
        "id": "MZrdKXWLxfxv"
      },
      "source": [
        "***"
      ]
    },
    {
      "cell_type": "code",
      "execution_count": null,
      "metadata": {
        "id": "8UWrgeZRxfxw",
        "outputId": "156b6089-5166-4f55-f3d6-c9a27ab23656"
      },
      "outputs": [
        {
          "data": {
            "text/html": [
              "<div>\n",
              "<style scoped>\n",
              "    .dataframe tbody tr th:only-of-type {\n",
              "        vertical-align: middle;\n",
              "    }\n",
              "\n",
              "    .dataframe tbody tr th {\n",
              "        vertical-align: top;\n",
              "    }\n",
              "\n",
              "    .dataframe thead th {\n",
              "        text-align: right;\n",
              "    }\n",
              "</style>\n",
              "<table border=\"1\" class=\"dataframe\">\n",
              "  <thead>\n",
              "    <tr style=\"text-align: right;\">\n",
              "      <th></th>\n",
              "      <th>No</th>\n",
              "      <th>company</th>\n",
              "      <th>order</th>\n",
              "      <th>qty</th>\n",
              "      <th>unit_price</th>\n",
              "      <th>price_group</th>\n",
              "      <th>price_level</th>\n",
              "      <th>level_harga</th>\n",
              "      <th>level_harga2</th>\n",
              "      <th>total_price</th>\n",
              "      <th>qty_log</th>\n",
              "      <th>qty_log2</th>\n",
              "    </tr>\n",
              "  </thead>\n",
              "  <tbody>\n",
              "    <tr>\n",
              "      <td>0</td>\n",
              "      <td>0</td>\n",
              "      <td>Go-Jek</td>\n",
              "      <td>10001</td>\n",
              "      <td>30</td>\n",
              "      <td>30000</td>\n",
              "      <td>low</td>\n",
              "      <td>low</td>\n",
              "      <td>low</td>\n",
              "      <td>Low</td>\n",
              "      <td>900000</td>\n",
              "      <td>3.401197</td>\n",
              "      <td>3.401197</td>\n",
              "    </tr>\n",
              "    <tr>\n",
              "      <td>1</td>\n",
              "      <td>1</td>\n",
              "      <td>Grab</td>\n",
              "      <td>10002</td>\n",
              "      <td>23</td>\n",
              "      <td>39000</td>\n",
              "      <td>high</td>\n",
              "      <td>medium</td>\n",
              "      <td>medium</td>\n",
              "      <td>Medium</td>\n",
              "      <td>897000</td>\n",
              "      <td>3.135494</td>\n",
              "      <td>3.135494</td>\n",
              "    </tr>\n",
              "    <tr>\n",
              "      <td>2</td>\n",
              "      <td>2</td>\n",
              "      <td>OVO</td>\n",
              "      <td>10004</td>\n",
              "      <td>45</td>\n",
              "      <td>56000</td>\n",
              "      <td>high</td>\n",
              "      <td>high</td>\n",
              "      <td>high</td>\n",
              "      <td>High</td>\n",
              "      <td>2520000</td>\n",
              "      <td>3.806662</td>\n",
              "      <td>3.806662</td>\n",
              "    </tr>\n",
              "    <tr>\n",
              "      <td>3</td>\n",
              "      <td>3</td>\n",
              "      <td>Tokopedia</td>\n",
              "      <td>10004</td>\n",
              "      <td>67</td>\n",
              "      <td>39000</td>\n",
              "      <td>high</td>\n",
              "      <td>medium</td>\n",
              "      <td>medium</td>\n",
              "      <td>Medium</td>\n",
              "      <td>2613000</td>\n",
              "      <td>4.204693</td>\n",
              "      <td>4.204693</td>\n",
              "    </tr>\n",
              "    <tr>\n",
              "      <td>4</td>\n",
              "      <td>4</td>\n",
              "      <td>Bukalapak</td>\n",
              "      <td>10006</td>\n",
              "      <td>34</td>\n",
              "      <td>32800</td>\n",
              "      <td>low</td>\n",
              "      <td>medium</td>\n",
              "      <td>medium</td>\n",
              "      <td>Medium</td>\n",
              "      <td>1115200</td>\n",
              "      <td>3.526361</td>\n",
              "      <td>3.526361</td>\n",
              "    </tr>\n",
              "    <tr>\n",
              "      <td>5</td>\n",
              "      <td>5</td>\n",
              "      <td>Shopee</td>\n",
              "      <td>10006</td>\n",
              "      <td>23</td>\n",
              "      <td>27890</td>\n",
              "      <td>low</td>\n",
              "      <td>low</td>\n",
              "      <td>low</td>\n",
              "      <td>Low</td>\n",
              "      <td>641470</td>\n",
              "      <td>3.135494</td>\n",
              "      <td>3.135494</td>\n",
              "    </tr>\n",
              "  </tbody>\n",
              "</table>\n",
              "</div>"
            ],
            "text/plain": [
              "   No    company  order  qty  unit_price price_group price_level level_harga  \\\n",
              "0   0     Go-Jek  10001   30       30000         low         low         low   \n",
              "1   1       Grab  10002   23       39000        high      medium      medium   \n",
              "2   2        OVO  10004   45       56000        high        high        high   \n",
              "3   3  Tokopedia  10004   67       39000        high      medium      medium   \n",
              "4   4  Bukalapak  10006   34       32800         low      medium      medium   \n",
              "5   5     Shopee  10006   23       27890         low         low         low   \n",
              "\n",
              "  level_harga2  total_price   qty_log  qty_log2  \n",
              "0          Low       900000  3.401197  3.401197  \n",
              "1       Medium       897000  3.135494  3.135494  \n",
              "2         High      2520000  3.806662  3.806662  \n",
              "3       Medium      2613000  4.204693  4.204693  \n",
              "4       Medium      1115200  3.526361  3.526361  \n",
              "5          Low       641470  3.135494  3.135494  "
            ]
          },
          "execution_count": 48,
          "metadata": {},
          "output_type": "execute_result"
        }
      ],
      "source": [
        "df"
      ]
    },
    {
      "cell_type": "code",
      "execution_count": null,
      "metadata": {
        "id": "jh41Jiqjxfxw",
        "outputId": "03136831-3994-4af2-d23b-065f1de2cd8c"
      },
      "outputs": [
        {
          "data": {
            "text/plain": [
              "['Go-Jek', 'Grab', 'OVO', 'Tokopedia', 'Bukalapak', 'Shopee']"
            ]
          },
          "execution_count": 49,
          "metadata": {},
          "output_type": "execute_result"
        }
      ],
      "source": [
        "com = list(df['company'])\n",
        "com"
      ]
    },
    {
      "cell_type": "code",
      "execution_count": null,
      "metadata": {
        "id": "k-2179Glxfxx",
        "outputId": "8b364100-3f5e-4641-8c7f-a2125ec88e52"
      },
      "outputs": [
        {
          "name": "stdout",
          "output_type": "stream",
          "text": [
            "['G', 'o', 'J', 'e', 'k', 'G', 'r', 'a', 'b', 'O', 'V', 'O', 'T', 'o', 'k', 'o', 'p', 'e', 'd', 'i', 'a', 'B', 'u', 'k', 'a', 'l', 'a', 'p', 'a', 'k', 'S', 'h', 'o', 'p', 'e', 'e']\n"
          ]
        }
      ],
      "source": [
        "result = re.findall(r'\\w', str(com))\n",
        "print(result)"
      ]
    },
    {
      "cell_type": "markdown",
      "metadata": {
        "id": "A4CggJRYxfxy"
      },
      "source": [
        "### Split string with multiple delimeters"
      ]
    },
    {
      "cell_type": "code",
      "execution_count": null,
      "metadata": {
        "id": "3DNXFgt0xfxy",
        "outputId": "cf8b196a-c967-4d62-b8d6-c317c6082ea4"
      },
      "outputs": [
        {
          "name": "stdout",
          "output_type": "stream",
          "text": [
            "['asdf', 'fjdk', 'afed', 'fjek', 'asdf', 'foo']\n"
          ]
        }
      ],
      "source": [
        "line = 'asdf fjdk;afed,fjek,asdf,foo'\n",
        "result = re.split(r'[;,\\s]', line)\n",
        "print(result)"
      ]
    },
    {
      "cell_type": "code",
      "execution_count": null,
      "metadata": {
        "id": "xSzmWQ3Lxfxz",
        "outputId": "0cbcbd0a-23df-42d8-ea6c-3bd50a4866af"
      },
      "outputs": [
        {
          "name": "stdout",
          "output_type": "stream",
          "text": [
            "asdf fjdk afed fjek asdf foo\n"
          ]
        }
      ],
      "source": [
        "result = re.sub(r'[;,\\s]',' ', line)\n",
        "print(result)"
      ]
    },
    {
      "cell_type": "markdown",
      "metadata": {
        "id": "1DgZIpJixfxz"
      },
      "source": [
        "***"
      ]
    },
    {
      "cell_type": "markdown",
      "metadata": {
        "id": "pz7bixamxfxz"
      },
      "source": [
        "## Join and Merge"
      ]
    },
    {
      "cell_type": "code",
      "execution_count": null,
      "metadata": {
        "id": "LSDAQs4Sxfx0",
        "outputId": "183f0c38-2b0d-43d3-d257-b0e06c38e193"
      },
      "outputs": [
        {
          "data": {
            "text/html": [
              "<div>\n",
              "<style scoped>\n",
              "    .dataframe tbody tr th:only-of-type {\n",
              "        vertical-align: middle;\n",
              "    }\n",
              "\n",
              "    .dataframe tbody tr th {\n",
              "        vertical-align: top;\n",
              "    }\n",
              "\n",
              "    .dataframe thead th {\n",
              "        text-align: right;\n",
              "    }\n",
              "</style>\n",
              "<table border=\"1\" class=\"dataframe\">\n",
              "  <thead>\n",
              "    <tr style=\"text-align: right;\">\n",
              "      <th></th>\n",
              "      <th>X1</th>\n",
              "      <th>X2</th>\n",
              "    </tr>\n",
              "  </thead>\n",
              "  <tbody>\n",
              "    <tr>\n",
              "      <td>0</td>\n",
              "      <td>a</td>\n",
              "      <td>11.432</td>\n",
              "    </tr>\n",
              "    <tr>\n",
              "      <td>1</td>\n",
              "      <td>b</td>\n",
              "      <td>1.303</td>\n",
              "    </tr>\n",
              "    <tr>\n",
              "      <td>2</td>\n",
              "      <td>c</td>\n",
              "      <td>99.906</td>\n",
              "    </tr>\n",
              "  </tbody>\n",
              "</table>\n",
              "</div>"
            ],
            "text/plain": [
              "  X1      X2\n",
              "0  a  11.432\n",
              "1  b   1.303\n",
              "2  c  99.906"
            ]
          },
          "execution_count": 53,
          "metadata": {},
          "output_type": "execute_result"
        }
      ],
      "source": [
        "# Load data1\n",
        "data1 = pd.read_csv('data1.csv')\n",
        "data1"
      ]
    },
    {
      "cell_type": "code",
      "execution_count": null,
      "metadata": {
        "id": "O3hMgvbGxfx0"
      },
      "outputs": [],
      "source": [
        "data1.columns = ['Y1','X2']"
      ]
    },
    {
      "cell_type": "code",
      "execution_count": null,
      "metadata": {
        "id": "EHz_XsJOxfx0",
        "outputId": "d6afa9b9-1801-4f87-da96-ca40a8a2b2c8"
      },
      "outputs": [
        {
          "data": {
            "text/html": [
              "<div>\n",
              "<style scoped>\n",
              "    .dataframe tbody tr th:only-of-type {\n",
              "        vertical-align: middle;\n",
              "    }\n",
              "\n",
              "    .dataframe tbody tr th {\n",
              "        vertical-align: top;\n",
              "    }\n",
              "\n",
              "    .dataframe thead th {\n",
              "        text-align: right;\n",
              "    }\n",
              "</style>\n",
              "<table border=\"1\" class=\"dataframe\">\n",
              "  <thead>\n",
              "    <tr style=\"text-align: right;\">\n",
              "      <th></th>\n",
              "      <th>Y1</th>\n",
              "      <th>X2</th>\n",
              "    </tr>\n",
              "  </thead>\n",
              "  <tbody>\n",
              "    <tr>\n",
              "      <td>0</td>\n",
              "      <td>a</td>\n",
              "      <td>11.432</td>\n",
              "    </tr>\n",
              "    <tr>\n",
              "      <td>1</td>\n",
              "      <td>b</td>\n",
              "      <td>1.303</td>\n",
              "    </tr>\n",
              "    <tr>\n",
              "      <td>2</td>\n",
              "      <td>c</td>\n",
              "      <td>99.906</td>\n",
              "    </tr>\n",
              "  </tbody>\n",
              "</table>\n",
              "</div>"
            ],
            "text/plain": [
              "  Y1      X2\n",
              "0  a  11.432\n",
              "1  b   1.303\n",
              "2  c  99.906"
            ]
          },
          "execution_count": 55,
          "metadata": {},
          "output_type": "execute_result"
        }
      ],
      "source": [
        "data1"
      ]
    },
    {
      "cell_type": "code",
      "execution_count": null,
      "metadata": {
        "scrolled": true,
        "id": "NTJi3JzMxfx0",
        "outputId": "0e5914fe-1e45-4f73-90d1-dcb577ffd51b"
      },
      "outputs": [
        {
          "data": {
            "text/html": [
              "<div>\n",
              "<style scoped>\n",
              "    .dataframe tbody tr th:only-of-type {\n",
              "        vertical-align: middle;\n",
              "    }\n",
              "\n",
              "    .dataframe tbody tr th {\n",
              "        vertical-align: top;\n",
              "    }\n",
              "\n",
              "    .dataframe thead th {\n",
              "        text-align: right;\n",
              "    }\n",
              "</style>\n",
              "<table border=\"1\" class=\"dataframe\">\n",
              "  <thead>\n",
              "    <tr style=\"text-align: right;\">\n",
              "      <th></th>\n",
              "      <th>X1</th>\n",
              "      <th>X3</th>\n",
              "    </tr>\n",
              "  </thead>\n",
              "  <tbody>\n",
              "    <tr>\n",
              "      <td>0</td>\n",
              "      <td>a</td>\n",
              "      <td>20.784</td>\n",
              "    </tr>\n",
              "    <tr>\n",
              "      <td>1</td>\n",
              "      <td>b</td>\n",
              "      <td>NaN</td>\n",
              "    </tr>\n",
              "    <tr>\n",
              "      <td>2</td>\n",
              "      <td>d</td>\n",
              "      <td>20.784</td>\n",
              "    </tr>\n",
              "  </tbody>\n",
              "</table>\n",
              "</div>"
            ],
            "text/plain": [
              "  X1      X3\n",
              "0  a  20.784\n",
              "1  b     NaN\n",
              "2  d  20.784"
            ]
          },
          "execution_count": 56,
          "metadata": {},
          "output_type": "execute_result"
        }
      ],
      "source": [
        "# Load data2\n",
        "data2 = pd.read_csv('data2.csv')\n",
        "data2"
      ]
    },
    {
      "cell_type": "markdown",
      "metadata": {
        "id": "cKHja4Fsxfx1"
      },
      "source": [
        "## Join\n",
        "Pandas Join"
      ]
    },
    {
      "cell_type": "code",
      "execution_count": null,
      "metadata": {
        "scrolled": false,
        "id": "w6JkL17Kxfx1",
        "outputId": "bb72618c-6b68-443f-fe0a-f1e50bc10b87"
      },
      "outputs": [
        {
          "data": {
            "text/html": [
              "<div>\n",
              "<style scoped>\n",
              "    .dataframe tbody tr th:only-of-type {\n",
              "        vertical-align: middle;\n",
              "    }\n",
              "\n",
              "    .dataframe tbody tr th {\n",
              "        vertical-align: top;\n",
              "    }\n",
              "\n",
              "    .dataframe thead th {\n",
              "        text-align: right;\n",
              "    }\n",
              "</style>\n",
              "<table border=\"1\" class=\"dataframe\">\n",
              "  <thead>\n",
              "    <tr style=\"text-align: right;\">\n",
              "      <th></th>\n",
              "      <th>Y1</th>\n",
              "      <th>X2</th>\n",
              "      <th>X1</th>\n",
              "      <th>X3</th>\n",
              "    </tr>\n",
              "  </thead>\n",
              "  <tbody>\n",
              "    <tr>\n",
              "      <td>0</td>\n",
              "      <td>a</td>\n",
              "      <td>11.432</td>\n",
              "      <td>a</td>\n",
              "      <td>20.784</td>\n",
              "    </tr>\n",
              "    <tr>\n",
              "      <td>1</td>\n",
              "      <td>b</td>\n",
              "      <td>1.303</td>\n",
              "      <td>b</td>\n",
              "      <td>NaN</td>\n",
              "    </tr>\n",
              "    <tr>\n",
              "      <td>2</td>\n",
              "      <td>c</td>\n",
              "      <td>99.906</td>\n",
              "      <td>d</td>\n",
              "      <td>20.784</td>\n",
              "    </tr>\n",
              "  </tbody>\n",
              "</table>\n",
              "</div>"
            ],
            "text/plain": [
              "  Y1      X2 X1      X3\n",
              "0  a  11.432  a  20.784\n",
              "1  b   1.303  b     NaN\n",
              "2  c  99.906  d  20.784"
            ]
          },
          "execution_count": 57,
          "metadata": {},
          "output_type": "execute_result"
        }
      ],
      "source": [
        "join = data1.join(data2, lsuffix='_left', rsuffix='_right')\n",
        "join"
      ]
    },
    {
      "cell_type": "code",
      "execution_count": null,
      "metadata": {
        "id": "qRSthNfWxfx1"
      },
      "outputs": [],
      "source": [
        "data1.columns = ['X1','X2']"
      ]
    },
    {
      "cell_type": "markdown",
      "metadata": {
        "id": "Ul7gU2ehxfx1"
      },
      "source": [
        "## Merge\n",
        "Pandas Merge (with left_index and right_index True, equal to Join)"
      ]
    },
    {
      "cell_type": "code",
      "execution_count": null,
      "metadata": {
        "scrolled": false,
        "id": "sjXtmntqxfx1",
        "outputId": "ee93150a-a82c-4c2e-800d-d67875341585"
      },
      "outputs": [
        {
          "data": {
            "text/html": [
              "<div>\n",
              "<style scoped>\n",
              "    .dataframe tbody tr th:only-of-type {\n",
              "        vertical-align: middle;\n",
              "    }\n",
              "\n",
              "    .dataframe tbody tr th {\n",
              "        vertical-align: top;\n",
              "    }\n",
              "\n",
              "    .dataframe thead th {\n",
              "        text-align: right;\n",
              "    }\n",
              "</style>\n",
              "<table border=\"1\" class=\"dataframe\">\n",
              "  <thead>\n",
              "    <tr style=\"text-align: right;\">\n",
              "      <th></th>\n",
              "      <th>X1</th>\n",
              "      <th>X2</th>\n",
              "      <th>X3</th>\n",
              "    </tr>\n",
              "  </thead>\n",
              "  <tbody>\n",
              "    <tr>\n",
              "      <td>0</td>\n",
              "      <td>a</td>\n",
              "      <td>11.432</td>\n",
              "      <td>20.784</td>\n",
              "    </tr>\n",
              "    <tr>\n",
              "      <td>1</td>\n",
              "      <td>b</td>\n",
              "      <td>1.303</td>\n",
              "      <td>NaN</td>\n",
              "    </tr>\n",
              "    <tr>\n",
              "      <td>2</td>\n",
              "      <td>c</td>\n",
              "      <td>99.906</td>\n",
              "      <td>NaN</td>\n",
              "    </tr>\n",
              "  </tbody>\n",
              "</table>\n",
              "</div>"
            ],
            "text/plain": [
              "  X1      X2      X3\n",
              "0  a  11.432  20.784\n",
              "1  b   1.303     NaN\n",
              "2  c  99.906     NaN"
            ]
          },
          "execution_count": 59,
          "metadata": {},
          "output_type": "execute_result"
        }
      ],
      "source": [
        "merge_left = pd.merge(data1, data2, how='left', on='X1')\n",
        "merge_left"
      ]
    },
    {
      "cell_type": "code",
      "execution_count": null,
      "metadata": {
        "id": "-Tb68Zz3xfx2",
        "outputId": "4a80a6b1-2af6-4a93-9972-8ae79aa4bc46"
      },
      "outputs": [
        {
          "data": {
            "text/html": [
              "<div>\n",
              "<style scoped>\n",
              "    .dataframe tbody tr th:only-of-type {\n",
              "        vertical-align: middle;\n",
              "    }\n",
              "\n",
              "    .dataframe tbody tr th {\n",
              "        vertical-align: top;\n",
              "    }\n",
              "\n",
              "    .dataframe thead th {\n",
              "        text-align: right;\n",
              "    }\n",
              "</style>\n",
              "<table border=\"1\" class=\"dataframe\">\n",
              "  <thead>\n",
              "    <tr style=\"text-align: right;\">\n",
              "      <th></th>\n",
              "      <th>X1</th>\n",
              "      <th>X2</th>\n",
              "      <th>X3</th>\n",
              "    </tr>\n",
              "  </thead>\n",
              "  <tbody>\n",
              "    <tr>\n",
              "      <td>0</td>\n",
              "      <td>a</td>\n",
              "      <td>11.432</td>\n",
              "      <td>20.784</td>\n",
              "    </tr>\n",
              "    <tr>\n",
              "      <td>1</td>\n",
              "      <td>b</td>\n",
              "      <td>1.303</td>\n",
              "      <td>NaN</td>\n",
              "    </tr>\n",
              "    <tr>\n",
              "      <td>2</td>\n",
              "      <td>d</td>\n",
              "      <td>NaN</td>\n",
              "      <td>20.784</td>\n",
              "    </tr>\n",
              "  </tbody>\n",
              "</table>\n",
              "</div>"
            ],
            "text/plain": [
              "  X1      X2      X3\n",
              "0  a  11.432  20.784\n",
              "1  b   1.303     NaN\n",
              "2  d     NaN  20.784"
            ]
          },
          "execution_count": 60,
          "metadata": {},
          "output_type": "execute_result"
        }
      ],
      "source": [
        "merge_right = pd.merge(data1, data2, how='right', on='X1')\n",
        "merge_right"
      ]
    },
    {
      "cell_type": "code",
      "execution_count": null,
      "metadata": {
        "id": "PXdC4DYIxfx2",
        "outputId": "cac4af77-e312-4739-b116-f9dd107e54b9"
      },
      "outputs": [
        {
          "data": {
            "text/html": [
              "<div>\n",
              "<style scoped>\n",
              "    .dataframe tbody tr th:only-of-type {\n",
              "        vertical-align: middle;\n",
              "    }\n",
              "\n",
              "    .dataframe tbody tr th {\n",
              "        vertical-align: top;\n",
              "    }\n",
              "\n",
              "    .dataframe thead th {\n",
              "        text-align: right;\n",
              "    }\n",
              "</style>\n",
              "<table border=\"1\" class=\"dataframe\">\n",
              "  <thead>\n",
              "    <tr style=\"text-align: right;\">\n",
              "      <th></th>\n",
              "      <th>X1</th>\n",
              "      <th>X2</th>\n",
              "      <th>X3</th>\n",
              "    </tr>\n",
              "  </thead>\n",
              "  <tbody>\n",
              "    <tr>\n",
              "      <td>0</td>\n",
              "      <td>a</td>\n",
              "      <td>11.432</td>\n",
              "      <td>20.784</td>\n",
              "    </tr>\n",
              "    <tr>\n",
              "      <td>1</td>\n",
              "      <td>b</td>\n",
              "      <td>1.303</td>\n",
              "      <td>NaN</td>\n",
              "    </tr>\n",
              "  </tbody>\n",
              "</table>\n",
              "</div>"
            ],
            "text/plain": [
              "  X1      X2      X3\n",
              "0  a  11.432  20.784\n",
              "1  b   1.303     NaN"
            ]
          },
          "execution_count": 61,
          "metadata": {},
          "output_type": "execute_result"
        }
      ],
      "source": [
        "merge_natural = pd.merge(data1, data2, how='inner', on='X1')\n",
        "merge_natural"
      ]
    },
    {
      "cell_type": "code",
      "execution_count": null,
      "metadata": {
        "id": "zNYYXCU7xfx2",
        "outputId": "426d4849-0b27-4516-86d4-8825d8996f0b"
      },
      "outputs": [
        {
          "data": {
            "text/html": [
              "<div>\n",
              "<style scoped>\n",
              "    .dataframe tbody tr th:only-of-type {\n",
              "        vertical-align: middle;\n",
              "    }\n",
              "\n",
              "    .dataframe tbody tr th {\n",
              "        vertical-align: top;\n",
              "    }\n",
              "\n",
              "    .dataframe thead th {\n",
              "        text-align: right;\n",
              "    }\n",
              "</style>\n",
              "<table border=\"1\" class=\"dataframe\">\n",
              "  <thead>\n",
              "    <tr style=\"text-align: right;\">\n",
              "      <th></th>\n",
              "      <th>X1</th>\n",
              "      <th>X2</th>\n",
              "      <th>X3</th>\n",
              "    </tr>\n",
              "  </thead>\n",
              "  <tbody>\n",
              "    <tr>\n",
              "      <td>0</td>\n",
              "      <td>a</td>\n",
              "      <td>11.432</td>\n",
              "      <td>20.784</td>\n",
              "    </tr>\n",
              "    <tr>\n",
              "      <td>1</td>\n",
              "      <td>b</td>\n",
              "      <td>1.303</td>\n",
              "      <td>NaN</td>\n",
              "    </tr>\n",
              "    <tr>\n",
              "      <td>2</td>\n",
              "      <td>c</td>\n",
              "      <td>99.906</td>\n",
              "      <td>NaN</td>\n",
              "    </tr>\n",
              "    <tr>\n",
              "      <td>3</td>\n",
              "      <td>d</td>\n",
              "      <td>NaN</td>\n",
              "      <td>20.784</td>\n",
              "    </tr>\n",
              "  </tbody>\n",
              "</table>\n",
              "</div>"
            ],
            "text/plain": [
              "  X1      X2      X3\n",
              "0  a  11.432  20.784\n",
              "1  b   1.303     NaN\n",
              "2  c  99.906     NaN\n",
              "3  d     NaN  20.784"
            ]
          },
          "execution_count": 62,
          "metadata": {},
          "output_type": "execute_result"
        }
      ],
      "source": [
        "merge_full = pd.merge(data1, data2, how='outer', on='X1')\n",
        "merge_full"
      ]
    }
  ],
  "metadata": {
    "kernelspec": {
      "display_name": "Python 3",
      "language": "python",
      "name": "python3"
    },
    "language_info": {
      "codemirror_mode": {
        "name": "ipython",
        "version": 3
      },
      "file_extension": ".py",
      "mimetype": "text/x-python",
      "name": "python",
      "nbconvert_exporter": "python",
      "pygments_lexer": "ipython3",
      "version": "3.7.4"
    },
    "colab": {
      "provenance": [],
      "include_colab_link": true
    }
  },
  "nbformat": 4,
  "nbformat_minor": 0
}