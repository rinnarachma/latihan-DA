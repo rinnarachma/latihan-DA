{
 "cells": [
  {
   "cell_type": "markdown",
   "metadata": {},
   "source": [
    "### Import Modules"
   ]
  },
  {
   "cell_type": "code",
   "execution_count": 1,
   "metadata": {},
   "outputs": [],
   "source": [
    "import pandas as pd\n",
    "import numpy as np"
   ]
  },
  {
   "cell_type": "markdown",
   "metadata": {},
   "source": [
    "### Load and Check Dataset"
   ]
  },
  {
   "cell_type": "code",
   "execution_count": 2,
   "metadata": {},
   "outputs": [
    {
     "data": {
      "text/html": [
       "<div>\n",
       "<style scoped>\n",
       "    .dataframe tbody tr th:only-of-type {\n",
       "        vertical-align: middle;\n",
       "    }\n",
       "\n",
       "    .dataframe tbody tr th {\n",
       "        vertical-align: top;\n",
       "    }\n",
       "\n",
       "    .dataframe thead th {\n",
       "        text-align: right;\n",
       "    }\n",
       "</style>\n",
       "<table border=\"1\" class=\"dataframe\">\n",
       "  <thead>\n",
       "    <tr style=\"text-align: right;\">\n",
       "      <th></th>\n",
       "      <th>movie_ID</th>\n",
       "      <th>movie_title</th>\n",
       "      <th>duration</th>\n",
       "      <th>color</th>\n",
       "      <th>title_year</th>\n",
       "      <th>country</th>\n",
       "      <th>language</th>\n",
       "      <th>content_rating</th>\n",
       "      <th>budget_USD</th>\n",
       "      <th>gross_USD</th>\n",
       "      <th>...</th>\n",
       "      <th>actor_3_facebook?</th>\n",
       "      <th>actor_3_facebook_likes</th>\n",
       "      <th>cast_total_facebook_likes</th>\n",
       "      <th>movie_facebook?</th>\n",
       "      <th>movie_facebook_likes;</th>\n",
       "      <th>facenumber_in_poster</th>\n",
       "      <th>num_voted_users</th>\n",
       "      <th>num_user_for_reviews</th>\n",
       "      <th>imdb_score</th>\n",
       "      <th>imdb_top_250</th>\n",
       "    </tr>\n",
       "  </thead>\n",
       "  <tbody>\n",
       "    <tr>\n",
       "      <td>0</td>\n",
       "      <td>1</td>\n",
       "      <td>Avatar</td>\n",
       "      <td>178</td>\n",
       "      <td>1</td>\n",
       "      <td>2009</td>\n",
       "      <td>USA</td>\n",
       "      <td>English</td>\n",
       "      <td>PG-13</td>\n",
       "      <td>237000000</td>\n",
       "      <td>760505847</td>\n",
       "      <td>...</td>\n",
       "      <td>1</td>\n",
       "      <td>855</td>\n",
       "      <td>4834</td>\n",
       "      <td>1</td>\n",
       "      <td>33000</td>\n",
       "      <td>0</td>\n",
       "      <td>886204</td>\n",
       "      <td>3054</td>\n",
       "      <td>7.9</td>\n",
       "      <td>0</td>\n",
       "    </tr>\n",
       "    <tr>\n",
       "      <td>1</td>\n",
       "      <td>2</td>\n",
       "      <td>Pirates of the Caribbean: At World's End</td>\n",
       "      <td>169</td>\n",
       "      <td>1</td>\n",
       "      <td>2007</td>\n",
       "      <td>USA</td>\n",
       "      <td>English</td>\n",
       "      <td>PG-13</td>\n",
       "      <td>300000000</td>\n",
       "      <td>309404152</td>\n",
       "      <td>...</td>\n",
       "      <td>1</td>\n",
       "      <td>1000</td>\n",
       "      <td>48350</td>\n",
       "      <td>0</td>\n",
       "      <td>0</td>\n",
       "      <td>0</td>\n",
       "      <td>471220</td>\n",
       "      <td>1238</td>\n",
       "      <td>7.1</td>\n",
       "      <td>0</td>\n",
       "    </tr>\n",
       "    <tr>\n",
       "      <td>2</td>\n",
       "      <td>3</td>\n",
       "      <td>The Dark Knight Rises</td>\n",
       "      <td>164</td>\n",
       "      <td>1</td>\n",
       "      <td>2012</td>\n",
       "      <td>USA</td>\n",
       "      <td>English</td>\n",
       "      <td>PG-13</td>\n",
       "      <td>250000000</td>\n",
       "      <td>448130642</td>\n",
       "      <td>...</td>\n",
       "      <td>1</td>\n",
       "      <td>23000</td>\n",
       "      <td>106759</td>\n",
       "      <td>1</td>\n",
       "      <td>164000</td>\n",
       "      <td>0</td>\n",
       "      <td>1144337</td>\n",
       "      <td>2701</td>\n",
       "      <td>8.5</td>\n",
       "      <td>1</td>\n",
       "    </tr>\n",
       "  </tbody>\n",
       "</table>\n",
       "<p>3 rows × 36 columns</p>\n",
       "</div>"
      ],
      "text/plain": [
       "   movie_ID                               movie_title  duration  color  \\\n",
       "0         1                                    Avatar       178      1   \n",
       "1         2  Pirates of the Caribbean: At World's End       169      1   \n",
       "2         3                     The Dark Knight Rises       164      1   \n",
       "\n",
       "   title_year country language content_rating  budget_USD  gross_USD  ...  \\\n",
       "0        2009     USA  English          PG-13   237000000  760505847  ...   \n",
       "1        2007     USA  English          PG-13   300000000  309404152  ...   \n",
       "2        2012     USA  English          PG-13   250000000  448130642  ...   \n",
       "\n",
       "   actor_3_facebook?  actor_3_facebook_likes cast_total_facebook_likes  \\\n",
       "0                  1                     855                      4834   \n",
       "1                  1                    1000                     48350   \n",
       "2                  1                   23000                    106759   \n",
       "\n",
       "  movie_facebook?  movie_facebook_likes;  facenumber_in_poster  \\\n",
       "0               1                  33000                     0   \n",
       "1               0                      0                     0   \n",
       "2               1                 164000                     0   \n",
       "\n",
       "  num_voted_users  num_user_for_reviews  imdb_score  imdb_top_250  \n",
       "0          886204                  3054         7.9             0  \n",
       "1          471220                  1238         7.1             0  \n",
       "2         1144337                  2701         8.5             1  \n",
       "\n",
       "[3 rows x 36 columns]"
      ]
     },
     "execution_count": 2,
     "metadata": {},
     "output_type": "execute_result"
    }
   ],
   "source": [
    "data = pd.read_csv('IMDB-database-update.csv', encoding = 'latin1')\n",
    "data.head(3)"
   ]
  },
  {
   "cell_type": "code",
   "execution_count": 3,
   "metadata": {
    "scrolled": true
   },
   "outputs": [
    {
     "data": {
      "text/plain": [
       "Index(['movie_ID', 'duration', 'color', 'title_year', 'budget_USD',\n",
       "       'gross_USD', 'net_USD', 'profitable', 'director_facebook?',\n",
       "       'director_facebook_likes', 'actor_top20?', 'actor_1_facebook?',\n",
       "       'actor_1_facebook_likes', 'actor_top20?.1', 'actor_2_facebook?',\n",
       "       'actor_2_facebook_likes', 'actor_top20?.2', 'actor_3_facebook?',\n",
       "       'actor_3_facebook_likes', 'cast_total_facebook_likes',\n",
       "       'movie_facebook?', 'movie_facebook_likes;', 'facenumber_in_poster',\n",
       "       'num_voted_users', 'num_user_for_reviews', 'imdb_score',\n",
       "       'imdb_top_250'],\n",
       "      dtype='object')"
      ]
     },
     "execution_count": 3,
     "metadata": {},
     "output_type": "execute_result"
    }
   ],
   "source": [
    "# Memilih Kolom Numerik\n",
    "col_num = data.select_dtypes(include=np.number).columns\n",
    "col_num"
   ]
  },
  {
   "cell_type": "code",
   "execution_count": 4,
   "metadata": {},
   "outputs": [
    {
     "data": {
      "text/plain": [
       "Index(['movie_title', 'country', 'language', 'content_rating', 'director_name',\n",
       "       'director_top20?', 'actor_1_name', 'actor_2_name', 'actor_3_name'],\n",
       "      dtype='object')"
      ]
     },
     "execution_count": 4,
     "metadata": {},
     "output_type": "execute_result"
    }
   ],
   "source": [
    "# Memilih Kolom Kategorik\n",
    "col_categ = data.select_dtypes(exclude=np.number).columns\n",
    "col_categ"
   ]
  },
  {
   "cell_type": "code",
   "execution_count": 5,
   "metadata": {},
   "outputs": [],
   "source": [
    "# Membuat Function Untuk Menghitung Jumlah Value yang ada pada tiap kolom\n",
    "def countColumns(data, columns):\n",
    "    for i in columns:\n",
    "        print(data[i].value_counts())\n",
    "        print(\"\\n========================================\")"
   ]
  },
  {
   "cell_type": "code",
   "execution_count": 6,
   "metadata": {},
   "outputs": [
    {
     "name": "stdout",
     "output_type": "stream",
     "text": [
      "Home                          3\n",
      "King Kong                     3\n",
      "Victor Frankenstein           3\n",
      "Halloween                     3\n",
      "Pan                           3\n",
      "                             ..\n",
      "Mr 3000                       1\n",
      "Boyz n the Hood               1\n",
      "The Outsiders                 1\n",
      "The Wild Thornberrys Movie    1\n",
      "How to Be Single              1\n",
      "Name: movie_title, Length: 3679, dtype: int64\n",
      "\n",
      "========================================\n",
      "USA               3009\n",
      "UK                 318\n",
      "France             101\n",
      "Germany             80\n",
      "Canada              60\n",
      "Australia           39\n",
      "Spain               22\n",
      "Japan               15\n",
      "China               14\n",
      "Hong Kong           13\n",
      "New Zealand         11\n",
      "Denmark              9\n",
      "Italy                9\n",
      "Mexico               8\n",
      "South Korea          7\n",
      "Ireland              7\n",
      "Brazil               5\n",
      "India                5\n",
      "Norway               4\n",
      "Iran                 4\n",
      "Thailand             4\n",
      "Argentina            3\n",
      "Netherlands          3\n",
      "Czech Republic       3\n",
      "South Africa         3\n",
      "Russia               3\n",
      "Israel               2\n",
      "Hungary              2\n",
      "Romania              1\n",
      "Peru                 1\n",
      "New Line             1\n",
      "Greece               1\n",
      "Aruba                1\n",
      "Colombia             1\n",
      "Belgium              1\n",
      "Georgia              1\n",
      "Iceland              1\n",
      "Indonesia            1\n",
      "Poland               1\n",
      "Afghanistan          1\n",
      "West Germany         1\n",
      "Philippines          1\n",
      "Chile                1\n",
      "Official site        1\n",
      "Taiwan               1\n",
      "Finland              1\n",
      "Name: country, dtype: int64\n",
      "\n",
      "========================================\n",
      "English       3628\n",
      "French          33\n",
      "Spanish         23\n",
      "Mandarin        14\n",
      "German          10\n",
      "Japanese        10\n",
      "Cantonese        7\n",
      "Italian          5\n",
      "Hindi            5\n",
      "Portuguese       5\n",
      "Norwegian        4\n",
      "Korean           4\n",
      "Persian          3\n",
      "Danish           3\n",
      "Thai             3\n",
      "Dutch            3\n",
      "Indonesian       2\n",
      "Hebrew           2\n",
      "Dari             2\n",
      "Aboriginal       2\n",
      "Vietnamese       1\n",
      "Arabic           1\n",
      "None             1\n",
      "Maya             1\n",
      "Bosnian          1\n",
      "Aramaic          1\n",
      "Kazakh           1\n",
      "Russian          1\n",
      "Filipino         1\n",
      "Hungarian        1\n",
      "Zulu             1\n",
      "Mongolian        1\n",
      "Czech            1\n",
      "Name: language, dtype: int64\n",
      "\n",
      "========================================\n",
      "R            1715\n",
      "PG-13        1311\n",
      "PG            568\n",
      "G              88\n",
      "Not Rated      39\n",
      "Unrated        24\n",
      "Approved       14\n",
      "X              10\n",
      "NC-17           6\n",
      "Passed          3\n",
      "M               2\n",
      "GP              1\n",
      "Name: content_rating, dtype: int64\n",
      "\n",
      "========================================\n",
      "Steven Spielberg    25\n",
      "Woody Allen         19\n",
      "Clint Eastwood      19\n",
      "Ridley Scott        17\n",
      "Martin Scorsese     16\n",
      "                    ..\n",
      "William Shatner      1\n",
      "Alex Craig Mann      1\n",
      "Shane Dawson         1\n",
      "Rupert Sanders       1\n",
      "Michael Cimino       1\n",
      "Name: director_name, Length: 1692, dtype: int64\n",
      "\n",
      "========================================\n",
      "0        3485\n",
      "1         295\n",
      "#REF!       1\n",
      "Name: director_top20?, dtype: int64\n",
      "\n",
      "========================================\n",
      "Robert De Niro       42\n",
      "Johnny Depp          39\n",
      "Nicolas Cage         31\n",
      "Denzel Washington    30\n",
      "J.K. Simmons         30\n",
      "                     ..\n",
      "Aldis Hodge           1\n",
      "Alex Huszar           1\n",
      "Rudy Youngblood       1\n",
      "Jeffrey Falcon        1\n",
      "Sayed Badreya         1\n",
      "Name: actor_1_name, Length: 1445, dtype: int64\n",
      "\n",
      "========================================\n",
      "Morgan Freeman     20\n",
      "Charlize Theron    14\n",
      "Brad Pitt          14\n",
      "James Franco       11\n",
      "Meryl Streep       10\n",
      "                   ..\n",
      "Callie Thorne       1\n",
      "Sessue Hayakawa     1\n",
      "Fedja van Hu??t     1\n",
      "Kathy Griffin       1\n",
      "Danny Masterson     1\n",
      "Name: actor_2_name, Length: 2212, dtype: int64\n",
      "\n",
      "========================================\n",
      "Steve Coogan      8\n",
      "Anne Hathaway     7\n",
      "Ben Mendelsohn    7\n",
      "Kirsten Dunst     7\n",
      "Robert Duvall     7\n",
      "                 ..\n",
      "Sal Lopez         1\n",
      "Nina Arianda      1\n",
      "Unax Ugalde       1\n",
      "Lauryn Hill       1\n",
      "Nona Gaye         1\n",
      "Name: actor_3_name, Length: 2619, dtype: int64\n",
      "\n",
      "========================================\n"
     ]
    }
   ],
   "source": [
    "# Menggunakan Untuk Menghitung Jumlah Value Pada Kolom Kategorik\n",
    "countColumns(data, col_categ)"
   ]
  },
  {
   "cell_type": "code",
   "execution_count": 7,
   "metadata": {},
   "outputs": [
    {
     "name": "stdout",
     "output_type": "stream",
     "text": [
      "2047    1\n",
      "617     1\n",
      "641     1\n",
      "2688    1\n",
      "637     1\n",
      "       ..\n",
      "3299    1\n",
      "1250    1\n",
      "3295    1\n",
      "1246    1\n",
      "2049    1\n",
      "Name: movie_ID, Length: 3781, dtype: int64\n",
      "\n",
      "========================================\n",
      "101    116\n",
      "100    107\n",
      "98     102\n",
      "95      96\n",
      "99      95\n",
      "      ... \n",
      "200      1\n",
      "196      1\n",
      "192      1\n",
      "190      1\n",
      "66       1\n",
      "Name: duration, Length: 149, dtype: int64\n",
      "\n",
      "========================================\n",
      "1    3657\n",
      "0     124\n",
      "Name: color, dtype: int64\n",
      "\n",
      "========================================\n",
      "2002    191\n",
      "2006    189\n",
      "2005    183\n",
      "2004    182\n",
      "2009    181\n",
      "       ... \n",
      "1957      1\n",
      "1959      1\n",
      "1961      1\n",
      "1967      1\n",
      "1936      1\n",
      "Name: title_year, Length: 73, dtype: int64\n",
      "\n",
      "========================================\n",
      "20000000     162\n",
      "30000000     134\n",
      "15000000     131\n",
      "40000000     129\n",
      "25000000     126\n",
      "            ... \n",
      "139000000      1\n",
      "13400000       1\n",
      "19400870       1\n",
      "379000         1\n",
      "806947         1\n",
      "Name: budget_USD, Length: 362, dtype: int64\n",
      "\n",
      "========================================\n",
      "144512310    3\n",
      "218051260    3\n",
      "47000000     3\n",
      "8000000      3\n",
      "5773519      3\n",
      "            ..\n",
      "434949459    1\n",
      "29302097     1\n",
      "56876365     1\n",
      "1277257      1\n",
      "25600000     1\n",
      "Name: gross_USD, Length: 3663, dtype: int64\n",
      "\n",
      "========================================\n",
      " 106512310    3\n",
      " 42343675     3\n",
      " 11051260     3\n",
      "-34226481     3\n",
      "-115035182    3\n",
      "             ..\n",
      "-23185810     1\n",
      "-64148812     1\n",
      " 77334374     1\n",
      " 32200000     1\n",
      " 26624000     1\n",
      "Name: net_USD, Length: 3670, dtype: int64\n",
      "\n",
      "========================================\n",
      "1    2011\n",
      "0    1770\n",
      "Name: profitable, dtype: int64\n",
      "\n",
      "========================================\n",
      "1    3132\n",
      "0     649\n",
      "Name: director_facebook?, dtype: int64\n",
      "\n",
      "========================================\n",
      "0      649\n",
      "6       42\n",
      "11      41\n",
      "7       41\n",
      "13      38\n",
      "      ... \n",
      "244      1\n",
      "246      1\n",
      "199      1\n",
      "195      1\n",
      "930      1\n",
      "Name: director_facebook_likes, Length: 396, dtype: int64\n",
      "\n",
      "========================================\n",
      "0    3265\n",
      "1     516\n",
      "Name: actor_top20?, dtype: int64\n",
      "\n",
      "========================================\n",
      "1    3779\n",
      "0       2\n",
      "Name: actor_1_facebook?, dtype: int64\n",
      "\n",
      "========================================\n",
      "1000     350\n",
      "11000    189\n",
      "2000     169\n",
      "3000     135\n",
      "12000    120\n",
      "        ... \n",
      "451        1\n",
      "449        1\n",
      "714        1\n",
      "447        1\n",
      "595        1\n",
      "Name: actor_1_facebook_likes, Length: 719, dtype: int64\n",
      "\n",
      "========================================\n",
      "0    3671\n",
      "1     110\n",
      "Name: actor_top20?.1, dtype: int64\n",
      "\n",
      "========================================\n",
      "1    3768\n",
      "0      13\n",
      "Name: actor_2_facebook?, dtype: int64\n",
      "\n",
      "========================================\n",
      "1000     278\n",
      "11000    107\n",
      "2000      90\n",
      "3000      73\n",
      "10000     45\n",
      "        ... \n",
      "425        1\n",
      "215        1\n",
      "836        1\n",
      "276        1\n",
      "604        1\n",
      "Name: actor_2_facebook_likes, Length: 862, dtype: int64\n",
      "\n",
      "========================================\n",
      "0    3761\n",
      "1      20\n",
      "Name: actor_top20?.2, dtype: int64\n",
      "\n",
      "========================================\n",
      "1    3751\n",
      "0      30\n",
      "Name: actor_3_facebook?, dtype: int64\n",
      "\n",
      "========================================\n",
      "1000     115\n",
      "0         30\n",
      "11000     28\n",
      "2000      25\n",
      "3000      25\n",
      "        ... \n",
      "738        1\n",
      "431        1\n",
      "435        1\n",
      "750        1\n",
      "771        1\n",
      "Name: actor_3_facebook_likes, Length: 880, dtype: int64\n",
      "\n",
      "========================================\n",
      "2730     4\n",
      "1044     4\n",
      "2990     4\n",
      "2486     4\n",
      "1136     4\n",
      "        ..\n",
      "1770     1\n",
      "9330     1\n",
      "29808    1\n",
      "27759    1\n",
      "4060     1\n",
      "Name: cast_total_facebook_likes, Length: 3256, dtype: int64\n",
      "\n",
      "========================================\n",
      "1    2038\n",
      "0    1743\n",
      "Name: movie_facebook?, dtype: int64\n",
      "\n",
      "========================================\n",
      "0        1743\n",
      "1000       85\n",
      "11000      75\n",
      "10000      68\n",
      "12000      52\n",
      "         ... \n",
      "271         1\n",
      "285         1\n",
      "289         1\n",
      "297         1\n",
      "77          1\n",
      "Name: movie_facebook_likes;, Length: 670, dtype: int64\n",
      "\n",
      "========================================\n",
      "0     1589\n",
      "1      968\n",
      "2      537\n",
      "3      290\n",
      "4      167\n",
      "5       74\n",
      "6       57\n",
      "8       32\n",
      "7       31\n",
      "9       13\n",
      "10       6\n",
      "11       5\n",
      "15       4\n",
      "12       3\n",
      "13       1\n",
      "31       1\n",
      "14       1\n",
      "19       1\n",
      "43       1\n",
      "Name: facenumber_in_poster, dtype: int64\n",
      "\n",
      "========================================\n",
      "3665      3\n",
      "16411     2\n",
      "23023     2\n",
      "12980     2\n",
      "27882     2\n",
      "         ..\n",
      "3943      1\n",
      "32382     1\n",
      "17722     1\n",
      "44339     1\n",
      "225282    1\n",
      "Name: num_voted_users, Length: 3698, dtype: int64\n",
      "\n",
      "========================================\n",
      "26      20\n",
      "50      18\n",
      "53      17\n",
      "126     17\n",
      "100     17\n",
      "        ..\n",
      "1290     1\n",
      "1262     1\n",
      "1248     1\n",
      "1240     1\n",
      "2        1\n",
      "Name: num_user_for_reviews, Length: 937, dtype: int64\n",
      "\n",
      "========================================\n",
      "6.7    178\n",
      "6.6    165\n",
      "6.5    155\n",
      "6.4    152\n",
      "6.8    145\n",
      "      ... \n",
      "9.2      1\n",
      "3.2      1\n",
      "1.6      1\n",
      "9.3      1\n",
      "2.5      1\n",
      "Name: imdb_score, Length: 74, dtype: int64\n",
      "\n",
      "========================================\n",
      "0    3624\n",
      "1     157\n",
      "Name: imdb_top_250, dtype: int64\n",
      "\n",
      "========================================\n"
     ]
    }
   ],
   "source": [
    "# Menggunakan Untuk Menghitung Jumlah Value Pada Kolom Numerik\n",
    "countColumns(data, col_num)"
   ]
  },
  {
   "cell_type": "code",
   "execution_count": 8,
   "metadata": {
    "scrolled": true
   },
   "outputs": [
    {
     "data": {
      "text/plain": [
       "array([2009, 2007, 2012, 2016, 2006, 2013, 2014, 2010, 2005, 1997, 2015,\n",
       "       2011, 2008, 1995, 2004, 2003, 2001, 2002, 1998, 1990, 2000, 1999,\n",
       "       1991, 1994, 1996, 1982, 1992, 1989, 1993, 1978, 1985, 1940, 1980,\n",
       "       1984, 1973, 1983, 1987, 1988, 1970, 1977, 1981, 1986, 1975, 1968,\n",
       "       1967, 1979, 1974, 1971, 1961, 1946, 1952, 1950, 1948, 1963, 1969,\n",
       "       1976, 1964, 1927, 1965, 1972, 1953, 1939, 1947, 1936, 1937, 1960,\n",
       "       1957, 1959, 1954, 1935, 1933, 1962, 1929], dtype=int64)"
      ]
     },
     "execution_count": 8,
     "metadata": {},
     "output_type": "execute_result"
    }
   ],
   "source": [
    "# Melihat nilai unik pada kolom 'title_year'\n",
    "data['title_year'].unique()"
   ]
  },
  {
   "cell_type": "code",
   "execution_count": 9,
   "metadata": {},
   "outputs": [],
   "source": [
    "# Filter data tahun 2000 ke atas\n",
    "df_2000 = data[data['title_year']>=2000]\n",
    "df_2000 = df_2000['title_year'].value_counts()"
   ]
  },
  {
   "cell_type": "code",
   "execution_count": 10,
   "metadata": {},
   "outputs": [],
   "source": [
    "import matplotlib\n",
    "import matplotlib.pyplot as plt\n",
    "# Import Library Seaborn\n",
    "import seaborn as sns\n",
    "\n",
    "# Menggunakan Style Visualisasi ggplot\n",
    "plt.style.use(\"ggplot\")"
   ]
  },
  {
   "cell_type": "code",
   "execution_count": 11,
   "metadata": {},
   "outputs": [
    {
     "data": {
      "text/plain": [
       "Text(0.5, 1.0, 'Movie Count by Year')"
      ]
     },
     "execution_count": 11,
     "metadata": {},
     "output_type": "execute_result"
    },
    {
     "data": {
      "image/png": "[encoded data removed]",
      "text/plain": [
       "<Figure size 432x288 with 1 Axes>"
      ]
     },
     "metadata": {
      "needs_background": "light"
     },
     "output_type": "display_data"
    }
   ],
   "source": [
    "# Visualisasi jumlah film dari tahun 2000 ke atas\n",
    "year = df_2000.sort_index().plot(kind='bar', color = ['lightgreen','red'])\n",
    "year.set_xlabel('Year')\n",
    "year.set_ylabel('Movie Count')\n",
    "year.set_title(\"Movie Count by Year\")"
   ]
  },
  {
   "cell_type": "code",
   "execution_count": 12,
   "metadata": {},
   "outputs": [],
   "source": [
    "# Membuat filter data tahun 2015\n",
    "data_2015=data[data['title_year']==2015]"
   ]
  },
  {
   "cell_type": "code",
   "execution_count": 13,
   "metadata": {},
   "outputs": [
    {
     "data": {
      "text/plain": [
       "PG-13        57\n",
       "R            51\n",
       "PG           22\n",
       "Not Rated     1\n",
       "G             1\n",
       "Name: content_rating, dtype: int64"
      ]
     },
     "execution_count": 13,
     "metadata": {},
     "output_type": "execute_result"
    }
   ],
   "source": [
    "# Menghitung jumlah value pada kolom 'content_rating'\n",
    "data_2015['content_rating'].value_counts()"
   ]
  },
  {
   "cell_type": "code",
   "execution_count": 14,
   "metadata": {
    "scrolled": false
   },
   "outputs": [
    {
     "data": {
      "text/plain": [
       "Text(0.5, 1.0, 'Content Rating')"
      ]
     },
     "execution_count": 14,
     "metadata": {},
     "output_type": "execute_result"
    },
    {
     "data": {
      "image/png": "[encoded data removed]",
      "text/plain": [
       "<Figure size 432x288 with 1 Axes>"
      ]
     },
     "metadata": {},
     "output_type": "display_data"
    }
   ],
   "source": [
    "# Visualisasi pada kolom 'content_rating' dari tahun 2015\n",
    "data_2015['content_rating'].value_counts().plot.pie(autopct='%.2f')\n",
    "plt.title('Content Rating')"
   ]
  },
  {
   "cell_type": "code",
   "execution_count": 15,
   "metadata": {},
   "outputs": [
    {
     "data": {
      "text/plain": [
       "Text(0.5, 1.0, 'Color')"
      ]
     },
     "execution_count": 15,
     "metadata": {},
     "output_type": "execute_result"
    },
    {
     "data": {
      "image/png": "[encoded data removed]",
      "text/plain": [
       "<Figure size 432x288 with 1 Axes>"
      ]
     },
     "metadata": {},
     "output_type": "display_data"
    }
   ],
   "source": [
    "# Visualisasi pie chart dari data jumlah value pada kolom 'color'\n",
    "data['color'].value_counts().plot.pie(autopct='%.2f')\n",
    "plt.title('Color')"
   ]
  },
  {
   "cell_type": "code",
   "execution_count": 16,
   "metadata": {},
   "outputs": [
    {
     "data": {
      "text/plain": [
       "<matplotlib.axes._subplots.AxesSubplot at 0x20a70c452c8>"
      ]
     },
     "execution_count": 16,
     "metadata": {},
     "output_type": "execute_result"
    },
    {
     "data": {
      "image/png": "[encoded data removed]",
      "text/plain": [
       "<Figure size 432x288 with 1 Axes>"
      ]
     },
     "metadata": {
      "needs_background": "light"
     },
     "output_type": "display_data"
    }
   ],
   "source": [
    "# Visualisasi bar chart dari data jumlah value pada kolom 'color'\n",
    "data['color'].value_counts().plot(kind='bar', color = ['lightblue','red'])"
   ]
  },
  {
   "cell_type": "markdown",
   "metadata": {},
   "source": [
    "***"
   ]
  }
 ],
 "metadata": {
  "kernelspec": {
   "display_name": "Python 3",
   "language": "python",
   "name": "python3"
  },
  "language_info": {
   "codemirror_mode": {
    "name": "ipython",
    "version": 3
   },
   "file_extension": ".py",
   "mimetype": "text/x-python",
   "name": "python",
   "nbconvert_exporter": "python",
   "pygments_lexer": "ipython3",
   "version": "3.7.4"
  }
 },
 "nbformat": 4,
 "nbformat_minor": 2
}
