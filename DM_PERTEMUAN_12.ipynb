{
  "nbformat": 4,
  "nbformat_minor": 0,
  "metadata": {
    "colab": {
      "provenance": [],
      "toc_visible": true,
      "authorship_tag": "ABX9TyPAovRXoRDo7Fe1ef71y4kq",
      "include_colab_link": true
    },
    "kernelspec": {
      "name": "python3",
      "display_name": "Python 3"
    },
    "language_info": {
      "name": "python"
    }
  },
  "cells": [
    {
      "cell_type": "markdown",
      "metadata": {
        "id": "view-in-github",
        "colab_type": "text"
      },
      "source": [
        "<a href=\"https://colab.research.google.com/github/rinnarachma/latihan-DA/blob/main/DM_PERTEMUAN_12.ipynb\" target=\"_parent\"><img src=\"https://colab.research.google.com/assets/colab-badge.svg\" alt=\"Open In Colab\"/></a>"
      ]
    },
    {
      "cell_type": "markdown",
      "source": [
        "# **MODEL CLASSIFICATION**"
      ],
      "metadata": {
        "id": "_bMoe2JDYcct"
      }
    },
    {
      "cell_type": "code",
      "execution_count": 6,
      "metadata": {
        "id": "iPHx6gDPWG8S"
      },
      "outputs": [],
      "source": [
        "# Import libraries\n",
        "import pandas as pd\n",
        "from sklearn.model_selection import train_test_split\n",
        "from sklearn.ensemble import RandomForestClassifier, GradientBoostingClassifier\n",
        "from sklearn.svm import SVC\n",
        "from sklearn.naive_bayes import GaussianNB\n",
        "from sklearn.metrics import accuracy_score, confusion_matrix, classification_report\n",
        "from sklearn.preprocessing import StandardScaler\n",
        "from sklearn.datasets import load_iris\n",
        "\n",
        "# Memuat dataset\n",
        "url = \"https://drive.google.com/uc?export=download&id=1SEpVMpj5HFlqmlzqQE8Yt7Q6tzCMBiNt\"\n",
        "data = pd.read_csv(url)\n",
        "\n",
        "# Preprocessing data\n",
        "# Menghapus kolom yang tidak diperlukan untuk pemodelan\n",
        "data.drop(columns=['RowNumber', 'CustomerId', 'Surname'], inplace=True)\n",
        "\n",
        "# Melakukan encoding pada variabel kategori\n",
        "data = pd.get_dummies(data, columns=['Geography', 'Gender'])\n",
        "\n",
        "# Memisahkan fitur dan label\n",
        "X = data.drop(columns=['Exited'])\n",
        "y = data['Exited']\n",
        "\n",
        "# Membagi data menjadi set pelatihan dan pengujian\n",
        "X_train, X_test, y_train, y_test = train_test_split(X, y, test_size=0.2, random_state=42)\n",
        "\n",
        "# Split the dataset into training and testing sets\n",
        "X_train, X_test, y_train, y_test = train_test_split(X, y, test_size=0.3, random_state=42)"
      ]
    },
    {
      "cell_type": "markdown",
      "source": [
        "## **SUPPORT VECTOR MACHINE**"
      ],
      "metadata": {
        "id": "X9v18ar_YLAB"
      }
    },
    {
      "cell_type": "code",
      "source": [
        "# Model SVM (Support vector machine)\n",
        "scaler = StandardScaler()\n",
        "X_train_scaled = scaler.fit_transform(X_train)\n",
        "X_test_scaled = scaler.transform(X_test)\n",
        "\n",
        "# Menginisialisasi Support Vector Machine (SVM) classifier dengan kernel linear\n",
        "svm_classifier = SVC(kernel='linear', random_state=42)\n",
        "\n",
        "# Melatih model SVM dengan data training yang telah distandarisasi\n",
        "svm_classifier.fit(X_train_scaled, y_train)\n",
        "\n",
        "# Membuat prediksi menggunakan data testing\n",
        "y_pred = svm_classifier.predict(X_test_scaled)\n",
        "\n",
        "# Mengevaluasi akurasi model dan mencetak laporan klasifikasi\n",
        "accuracy = accuracy_score(y_test, y_pred)\n",
        "report = classification_report(y_test, y_pred)\n",
        "\n",
        "print(f'Accuracy: {accuracy}')\n",
        "print(f'Classification Report:\\n{report}')"
      ],
      "metadata": {
        "colab": {
          "base_uri": "https://localhost:8080/",
          "height": 0
        },
        "id": "pWU8oXPJW4L2",
        "outputId": "61d2f45e-a856-457a-b4b8-fba66ea834cd"
      },
      "execution_count": 5,
      "outputs": [
        {
          "output_type": "stream",
          "name": "stdout",
          "text": [
            "Accuracy: 0.8053333333333333\n",
            "Classification Report:\n",
            "              precision    recall  f1-score   support\n",
            "\n",
            "           0       0.81      1.00      0.89      2416\n",
            "           1       0.00      0.00      0.00       584\n",
            "\n",
            "    accuracy                           0.81      3000\n",
            "   macro avg       0.40      0.50      0.45      3000\n",
            "weighted avg       0.65      0.81      0.72      3000\n",
            "\n"
          ]
        },
        {
          "output_type": "stream",
          "name": "stderr",
          "text": [
            "/usr/local/lib/python3.10/dist-packages/sklearn/metrics/_classification.py:1344: UndefinedMetricWarning: Precision and F-score are ill-defined and being set to 0.0 in labels with no predicted samples. Use `zero_division` parameter to control this behavior.\n",
            "  _warn_prf(average, modifier, msg_start, len(result))\n",
            "/usr/local/lib/python3.10/dist-packages/sklearn/metrics/_classification.py:1344: UndefinedMetricWarning: Precision and F-score are ill-defined and being set to 0.0 in labels with no predicted samples. Use `zero_division` parameter to control this behavior.\n",
            "  _warn_prf(average, modifier, msg_start, len(result))\n",
            "/usr/local/lib/python3.10/dist-packages/sklearn/metrics/_classification.py:1344: UndefinedMetricWarning: Precision and F-score are ill-defined and being set to 0.0 in labels with no predicted samples. Use `zero_division` parameter to control this behavior.\n",
            "  _warn_prf(average, modifier, msg_start, len(result))\n"
          ]
        }
      ]
    },
    {
      "cell_type": "markdown",
      "source": [
        "**KESIMPULAN**\n",
        "\n",
        "Support Vector Machine (SVM)\n",
        "*   Accuracy: 0.805\n",
        "*   Precision: 0.81 (class 0), 0.0 (class 1)\n",
        "*   Recall: 1.00 (class 0), 0.0 (class 1)\n",
        "*   F1-score: 0.89 (class 0), 0.00 (class 1)"
      ],
      "metadata": {
        "id": "TkP9sUa3aB2n"
      }
    },
    {
      "cell_type": "markdown",
      "source": [
        "## **RANDOM FOREST**"
      ],
      "metadata": {
        "id": "XIFqwfKeYSMd"
      }
    },
    {
      "cell_type": "code",
      "source": [
        "# Model Random Forest\n",
        "rf_model = RandomForestClassifier(n_estimators=100, random_state=42)\n",
        "rf_model.fit(X_train, y_train)\n",
        "rf_pred = rf_model.predict(X_test)\n",
        "\n",
        "# Evaluasi model Random Forest\n",
        "print(\"Random Forest Classifier:\")\n",
        "print(\"Accuracy:\", accuracy_score(y_test, rf_pred))\n",
        "print(\"Classification Report:\\n\", classification_report(y_test, rf_pred))\n",
        "print(\"Confusion Matrix:\\n\", confusion_matrix(y_test, rf_pred))"
      ],
      "metadata": {
        "colab": {
          "base_uri": "https://localhost:8080/",
          "height": 0
        },
        "id": "zbG96bvwYA72",
        "outputId": "f445f2b2-37ca-47c3-e0c2-95216121c3ec"
      },
      "execution_count": 7,
      "outputs": [
        {
          "output_type": "stream",
          "name": "stdout",
          "text": [
            "Random Forest Classifier:\n",
            "Accuracy: 0.867\n",
            "Classification Report:\n",
            "               precision    recall  f1-score   support\n",
            "\n",
            "           0       0.88      0.96      0.92      2416\n",
            "           1       0.76      0.47      0.58       584\n",
            "\n",
            "    accuracy                           0.87      3000\n",
            "   macro avg       0.82      0.72      0.75      3000\n",
            "weighted avg       0.86      0.87      0.85      3000\n",
            "\n",
            "Confusion Matrix:\n",
            " [[2328   88]\n",
            " [ 311  273]]\n"
          ]
        }
      ]
    },
    {
      "cell_type": "markdown",
      "source": [
        "**KESIMPULAN**\n",
        "\n",
        "RANDOM FOREST\n",
        "*   Accuracy: 0.867\n",
        "*   Precision: 0.88 (class 0), 0.76 (class 1)\n",
        "*   Recall: 0.96 (class 0), 0.47 (class 1)\n",
        "*   F1-score: 0.92 (class 0), 0.58 (class 1)"
      ],
      "metadata": {
        "id": "B-RNftFjao_e"
      }
    },
    {
      "cell_type": "markdown",
      "source": [
        "## **NAIVE BAYES**"
      ],
      "metadata": {
        "id": "m3B7rnFiYbOo"
      }
    },
    {
      "cell_type": "code",
      "source": [
        "# Menginisialisasi Naive Bayes classifier\n",
        "nb_classifier = GaussianNB()\n",
        "\n",
        "# Melatih model Naive Bayes dengan data training\n",
        "nb_classifier.fit(X_train, y_train)\n",
        "\n",
        "# Membuat prediksi menggunakan data testing\n",
        "y_pred = nb_classifier.predict(X_test)\n",
        "\n",
        "# Mengevaluasi akurasi model dan mencetak laporan klasifikasi\n",
        "accuracy = accuracy_score(y_test, y_pred)\n",
        "report = classification_report(y_test, y_pred)\n",
        "\n",
        "print(f'Accuracy: {accuracy}')\n",
        "print(f'Classification Report:\\n{report}')"
      ],
      "metadata": {
        "colab": {
          "base_uri": "https://localhost:8080/",
          "height": 0
        },
        "id": "r6JgsBXZYHzk",
        "outputId": "74691442-50b3-41ee-8f6c-c32af5ee0d17"
      },
      "execution_count": 8,
      "outputs": [
        {
          "output_type": "stream",
          "name": "stdout",
          "text": [
            "Accuracy: 0.794\n",
            "Classification Report:\n",
            "              precision    recall  f1-score   support\n",
            "\n",
            "           0       0.81      0.97      0.88      2416\n",
            "           1       0.37      0.08      0.13       584\n",
            "\n",
            "    accuracy                           0.79      3000\n",
            "   macro avg       0.59      0.52      0.51      3000\n",
            "weighted avg       0.73      0.79      0.74      3000\n",
            "\n"
          ]
        }
      ]
    },
    {
      "cell_type": "markdown",
      "source": [
        "**KESIMPULAN**\n",
        "\n",
        "NAIVE BAYES\n",
        "*   Accuracy: 0.794\n",
        "*   Precision: 0.81 (class 0), 0.37 (class 1)\n",
        "*   Recall: 0.97 (class 0), 0.08 (class 1)\n",
        "*   F1-score: 0.88 (class 0), 0.13 (class 1)"
      ],
      "metadata": {
        "id": "udQY9kE5a4pm"
      }
    },
    {
      "cell_type": "markdown",
      "source": [
        "## **GRADIENT BOOSTING**"
      ],
      "metadata": {
        "id": "ErKUeM9FZG2m"
      }
    },
    {
      "cell_type": "code",
      "source": [
        "# Model Gradient Boosting\n",
        "gb_model = GradientBoostingClassifier(n_estimators=100, random_state=42)\n",
        "gb_model.fit(X_train, y_train)\n",
        "gb_pred = gb_model.predict(X_test)\n",
        "\n",
        "# Evaluasi model Gradient Boosting\n",
        "print(\"\\nGradient Boosting Classifier:\")\n",
        "print(\"Accuracy:\", accuracy_score(y_test, gb_pred))\n",
        "print(\"Classification Report:\\n\", classification_report(y_test, gb_pred))\n",
        "print(\"Confusion Matrix:\\n\", confusion_matrix(y_test, gb_pred))"
      ],
      "metadata": {
        "colab": {
          "base_uri": "https://localhost:8080/",
          "height": 0
        },
        "id": "N83aYTg1ZTR8",
        "outputId": "7a3fc409-c9bb-4f86-f027-8c412ee4a185"
      },
      "execution_count": 9,
      "outputs": [
        {
          "output_type": "stream",
          "name": "stdout",
          "text": [
            "\n",
            "Gradient Boosting Classifier:\n",
            "Accuracy: 0.872\n",
            "Classification Report:\n",
            "               precision    recall  f1-score   support\n",
            "\n",
            "           0       0.89      0.97      0.92      2416\n",
            "           1       0.77      0.48      0.60       584\n",
            "\n",
            "    accuracy                           0.87      3000\n",
            "   macro avg       0.83      0.73      0.76      3000\n",
            "weighted avg       0.86      0.87      0.86      3000\n",
            "\n",
            "Confusion Matrix:\n",
            " [[2333   83]\n",
            " [ 301  283]]\n"
          ]
        }
      ]
    },
    {
      "cell_type": "markdown",
      "source": [
        "**KESIMPULAN**\n",
        "\n",
        "GRADIENT BOOSTING\n",
        "*   Accuracy: 0.872\n",
        "*   Precision: 0.89 (class 0), 0.77 (class 1)\n",
        "*   Recall: 0.97 (class 0), 0.48 (class 1)\n",
        "*   F1-score: 0.92 (class 0), 0.60 (class 1)"
      ],
      "metadata": {
        "id": "T-VpO5nfbFV5"
      }
    },
    {
      "cell_type": "markdown",
      "source": [
        "## **KESIMPULAN**"
      ],
      "metadata": {
        "id": "JybwID9tZ2in"
      }
    },
    {
      "cell_type": "markdown",
      "source": [
        "\n",
        "1.   Random Forest dan Gradient Boosting Tree memiliki tingkat akurasi yang lebih tinggi dibandingkan dengan SVM dan Naive Bayes\n",
        "2.   SVM memiliki presisi yang tinggi untuk kelas 0, tetapi presisi yang sangat rendah untuk kelas 1\n",
        "3.   Naive Bayes memiliki nilai recall yang rendah untuk kelas 1, yang menunjukkan bahwa model ini cenderung tidak dapat mengidentifikasi dengan baik kelas 1.\n",
        "4.   Gradient Boosting Tree memiliki hasil yang cukup baik, tetapi masih memiliki kesulitan dalam mengklasifikasikan kelas 1 dengan baik, meskipun performanya lebih baik daripada Naive Bayes\n",
        "5.   Dalam kasus ini, Random Forest mungkin menjadi pilihan terbaik karena memiliki akurasi yang tinggi dan dapat mengklasifikasikan kelas minoritas (kelas 1) dengan lebih baik dibandingkan dengan model lainnya\n",
        "\n",
        "\n"
      ],
      "metadata": {
        "id": "42HuIqCpZ6jz"
      }
    }
  ]
}